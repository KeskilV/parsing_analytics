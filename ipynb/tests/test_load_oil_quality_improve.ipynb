{
 "cells": [
  {
   "cell_type": "code",
   "execution_count": null,
   "id": "d13649d3",
   "metadata": {},
   "outputs": [],
   "source": []
  },
  {
   "cell_type": "code",
   "execution_count": 2,
   "id": "5a677e55",
   "metadata": {},
   "outputs": [
    {
     "name": "stderr",
     "output_type": "stream",
     "text": [
      "test_checkcolumns_v1 (__main__.Test_oil_qiality_improve) ... ok\n",
      "test_checkcolumns_v2 (__main__.Test_oil_qiality_improve) ... ok\n",
      "test_checkcolumns_v3 (__main__.Test_oil_qiality_improve) ... ok\n",
      "test_choosefile_todo (__main__.Test_oil_qiality_improve) ... ok\n",
      "test_choosefile_v0 (__main__.Test_oil_qiality_improve) ... ok\n",
      "test_firstclear (__main__.Test_oil_qiality_improve) ... "
     ]
    },
    {
     "name": "stdout",
     "output_type": "stream",
     "text": [
      "['.ipynb_checkpoints', 'data', 'test_load_oil_quality_improve.ipynb', 'test_load_oil_quality_improve.py']\n"
     ]
    },
    {
     "name": "stderr",
     "output_type": "stream",
     "text": [
      "ok\n",
      "test_len (__main__.Test_oil_qiality_improve) ... ok\n",
      "\n",
      "----------------------------------------------------------------------\n",
      "Ran 7 tests in 48.594s\n",
      "\n",
      "OK\n"
     ]
    }
   ],
   "source": [
    "#%%writefile test_load_oil_quality_improve.py\n",
    "import pandas as pd\n",
    "#readme \n",
    "def choosefile(io=None):\n",
    "    '''\n",
    "    v22-10-13\n",
    "    Signature:\n",
    "        choosefile(\n",
    "        io = None )\n",
    "        ) -> Tuple[path:str,filename:str,exstention:str]\n",
    "    Docstring:\n",
    "        Предлагает папки и файлы - возвращает путь, имя файла без расширения и расширение, \n",
    "        если в параметре указан io то не предлагает, а раскладывает указанный io\n",
    "    Parameters\n",
    "    ----------\n",
    "    io : str, bytes, ExcelFile, xlrd.Book, path object, or file-like object\n",
    "    Any valid string path is acceptable. The string could be a URL. Valid\n",
    "    URL schemes include http, ftp, s3, and file. For file URLs, a host is\n",
    "    expected. A local file could be: ``file://localhost/path/to/table.xlsx``.\n",
    "    '''\n",
    "    import os\n",
    "    if io:\n",
    "        path =  io.split('/')[:-1]\n",
    "        filename = io.split('/')[-1].split('.')[:-1]\n",
    "        fileexst = io.split('.')[-1]\n",
    "        return ('/'.join(path),'.'.join(filename),fileexst)\n",
    "    else:\n",
    "        print(os.listdir())\n",
    "        return ('_','_','_')\n",
    "    \n",
    "def check_columns(data, controlcolumns, ignore_extra = True):\n",
    "    '''\n",
    "    v22-10-12\n",
    "    Signature:\n",
    "        check_columns(\n",
    "        data: 'DataFrame',\n",
    "        controlcolumns: 'list-like'\n",
    "        ignore_extra = True\n",
    "        ) -> 'bool'\n",
    "    Docstring:\n",
    "        Проверяет соответствие столбцов в обрабатываемом файле, \n",
    "        по умолчанию игнорирует избыточные столбцы\n",
    "    Parametrs\n",
    "    ---------\n",
    "        data: DataFrame\n",
    "        controlcolumns: 'list-like'\n",
    "            должны содержаться эти столбцы\n",
    "        ignore_extra: bool, default True\n",
    "            игнорирует избыточные столбцы\n",
    "    Returns\n",
    "    -------\n",
    "        True|False\n",
    "    '''\n",
    "    set_data_columns = set(data.columns)\n",
    "    set_columns = set (controlcolumns)\n",
    "    if ignore_extra:\n",
    "        return set_columns.issubset(set_data_columns)\n",
    "    else:\n",
    "        return set_columns == set_data_columns\n",
    "    \n",
    "\n",
    "def firstclear(df):\n",
    "    '''\n",
    "    v22-10-12\n",
    "    Signature:\n",
    "        first_clear(\n",
    "        df: 'DataFrame',\n",
    "        ) -> 'DataFrame'\n",
    "    Docstring:\n",
    "        Удаляет неинформативные данные с пустой ценой с df, возвращает удаленные в виде \n",
    "        DataFrame\n",
    "    Parametrs\n",
    "    ---------\n",
    "        df: DataFrame\n",
    "    \n",
    "    Returns\n",
    "    -------\n",
    "        DataFrame\n",
    "    '''\n",
    "    deleted = df[df['price'].isna()]\n",
    "    df.dropna(subset=['price'], inplace=True)\n",
    "    return deleted\n",
    "\n",
    "import unittest\n",
    "import pandas as pd\n",
    "\n",
    "class Test_oil_qiality_improve(unittest.TestCase):\n",
    "    #choosefile('results/SL_всеЮИ2022-09-01-15-28/_joined-2022-09-09-10-18.xlsx')\n",
    "#('results/SL_всеЮИ2022-09-01-15-28', '_joined-2022-09-09-10-18', 'xlsx')\n",
    "#('_', '_', '_')\n",
    "    def test_choosefile_v0(self):\n",
    "        self.assertEqual(choosefile('results/SL_всеЮИ2022-09-01-15-28/_joined-2022-09-09-10-18.xlsx')\n",
    "                         ,('results/SL_всеЮИ2022-09-01-15-28', '_joined-2022-09-09-10-18', 'xlsx'))\n",
    "    \n",
    "    def test_choosefile_todo(self):\n",
    "        self.assertEqual(choosefile()\n",
    "                         ,('_', '_', '_'))\n",
    "    \n",
    "    def test_firstclear(self):\n",
    "        data = pd.read_excel('data/_joined-2022-09-09-10-18-Copy1.xlsx')\n",
    "        deleted = firstclear(data)\n",
    "        self.assertEqual((len(data),len(deleted)), (35647,8))\n",
    "    \n",
    "    \n",
    "    def test_len(self):\n",
    "        data = pd.read_excel('data/_joined-2022-09-09-10-18-Copy1.xlsx')\n",
    "        self.assertEqual(len(data), 35655)\n",
    "    \n",
    "    def test_checkcolumns_v2(self):\n",
    "        data = pd.read_excel('data/_joined-2022-09-09-10-18-Copy1.xlsx').head()\n",
    "        controlcolumns = {'art', 'd0', 'd1', 'filname', 'gems', 'gems2', 'gold',\n",
    " 'gold2', 'h1', 'price', 'price2', 'source', 'url', 'weight'}\n",
    "        self.assertEqual(check_columns(data, controlcolumns), True)\n",
    "        \n",
    "    def test_checkcolumns_v1(self):\n",
    "        data = pd.read_excel('data/_joined-2022-09-09-10-18-Copy1.xlsx').head()\n",
    "        controlcolumns = {'art', 'extracol', 'd0', 'd1', 'filname', 'gems', 'gems2', 'gold',\n",
    " 'gold2', 'h1', 'price', 'price2', 'source', 'url', 'weight'}\n",
    "        self.assertEqual(check_columns(data, controlcolumns), False)\n",
    "        \n",
    "    def test_checkcolumns_v3(self):\n",
    "        data = pd.read_excel('data/_joined-2022-09-09-10-18-Copy1.xlsx').head()\n",
    "        controlcolumns = {'art', 'd0', 'd1', 'filname', 'gems', 'gems2', 'gold',\n",
    " 'gold2', 'h1', 'price', 'price2', 'source', 'url', 'weight'}\n",
    "        self.assertEqual(check_columns(data, controlcolumns, ignore_extra=False), False)\n",
    "\n",
    "res = unittest.main(argv=[''], verbosity=3, exit=False)\n",
    "\n",
    "# if we want our notebook to stop processing due to failures, we need a cell itself to fail\n",
    "assert len(res.result.failures) == 0\n"
   ]
  },
  {
   "cell_type": "code",
   "execution_count": 15,
   "id": "9ce1e6e0",
   "metadata": {},
   "outputs": [],
   "source": [
    "data = pd.read_excel('data/_joined-2022-09-09-10-18-Copy1.xlsx')"
   ]
  },
  {
   "cell_type": "code",
   "execution_count": 18,
   "id": "579f1234",
   "metadata": {},
   "outputs": [
    {
     "data": {
      "text/plain": [
       "35647"
      ]
     },
     "execution_count": 18,
     "metadata": {},
     "output_type": "execute_result"
    }
   ],
   "source": [
    "len(data)"
   ]
  },
  {
   "cell_type": "code",
   "execution_count": 17,
   "id": "8d064d25",
   "metadata": {},
   "outputs": [
    {
     "data": {
      "text/plain": [
       "8"
      ]
     },
     "execution_count": 17,
     "metadata": {},
     "output_type": "execute_result"
    }
   ],
   "source": [
    "len(firstclear(data))"
   ]
  },
  {
   "cell_type": "code",
   "execution_count": 21,
   "id": "2bc87e65",
   "metadata": {},
   "outputs": [],
   "source": [
    "check_columns?"
   ]
  },
  {
   "cell_type": "code",
   "execution_count": 22,
   "id": "f80c12ea",
   "metadata": {},
   "outputs": [],
   "source": [
    "pd.read_excel?"
   ]
  }
 ],
 "metadata": {
  "kernelspec": {
   "display_name": "Python 3 (ipykernel)",
   "language": "python",
   "name": "python3"
  },
  "language_info": {
   "codemirror_mode": {
    "name": "ipython",
    "version": 3
   },
   "file_extension": ".py",
   "mimetype": "text/x-python",
   "name": "python",
   "nbconvert_exporter": "python",
   "pygments_lexer": "ipython3",
   "version": "3.9.7"
  },
  "toc": {
   "base_numbering": 1,
   "nav_menu": {},
   "number_sections": true,
   "sideBar": true,
   "skip_h1_title": false,
   "title_cell": "Table of Contents",
   "title_sidebar": "Contents",
   "toc_cell": false,
   "toc_position": {},
   "toc_section_display": true,
   "toc_window_display": false
  }
 },
 "nbformat": 4,
 "nbformat_minor": 5
}
