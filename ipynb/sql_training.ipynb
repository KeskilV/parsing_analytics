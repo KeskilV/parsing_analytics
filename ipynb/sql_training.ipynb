{
 "cells": [
  {
   "cell_type": "code",
   "execution_count": 2,
   "id": "7f8215bc",
   "metadata": {},
   "outputs": [],
   "source": [
    "import pandas as pd\n",
    "import os\n",
    "import sqlite3"
   ]
  },
  {
   "cell_type": "code",
   "execution_count": 3,
   "id": "0c50d802",
   "metadata": {},
   "outputs": [
    {
     "data": {
      "text/plain": [
       "'2.6.0'"
      ]
     },
     "execution_count": 3,
     "metadata": {},
     "output_type": "execute_result"
    }
   ],
   "source": [
    "sqlite3.version"
   ]
  },
  {
   "cell_type": "markdown",
   "id": "58d576c2",
   "metadata": {},
   "source": [
    "## Загрузка в пандас"
   ]
  },
  {
   "cell_type": "code",
   "execution_count": 7,
   "id": "e20ff0e4",
   "metadata": {},
   "outputs": [
    {
     "data": {
      "text/plain": [
       "22556"
      ]
     },
     "execution_count": 7,
     "metadata": {},
     "output_type": "execute_result"
    }
   ],
   "source": [
    "len(pd.read_csv('data/results/SL_всеЮИ2022-09-01-16-15_13100-35700.csv'))"
   ]
  },
  {
   "cell_type": "code",
   "execution_count": 15,
   "id": "022b4d93",
   "metadata": {},
   "outputs": [],
   "source": [
    "df = pd.read_csv('data/results/SL_всеЮИ2022-09-01-16-15_13100-35700.csv').sample(200)"
   ]
  },
  {
   "cell_type": "code",
   "execution_count": 17,
   "id": "3346fd6b",
   "metadata": {},
   "outputs": [],
   "source": [
    "df.drop(columns=['gold2','weight','gems','gems2'], inplace=True)#.info()"
   ]
  },
  {
   "cell_type": "code",
   "execution_count": 18,
   "id": "23e8e0a2",
   "metadata": {},
   "outputs": [
    {
     "data": {
      "text/html": [
       "<div>\n",
       "<style scoped>\n",
       "    .dataframe tbody tr th:only-of-type {\n",
       "        vertical-align: middle;\n",
       "    }\n",
       "\n",
       "    .dataframe tbody tr th {\n",
       "        vertical-align: top;\n",
       "    }\n",
       "\n",
       "    .dataframe thead th {\n",
       "        text-align: right;\n",
       "    }\n",
       "</style>\n",
       "<table border=\"1\" class=\"dataframe\">\n",
       "  <thead>\n",
       "    <tr style=\"text-align: right;\">\n",
       "      <th></th>\n",
       "      <th>Unnamed: 0</th>\n",
       "      <th>h1</th>\n",
       "      <th>art</th>\n",
       "      <th>price</th>\n",
       "      <th>price2</th>\n",
       "      <th>gold</th>\n",
       "      <th>url</th>\n",
       "      <th>d1</th>\n",
       "      <th>d0</th>\n",
       "    </tr>\n",
       "  </thead>\n",
       "  <tbody>\n",
       "    <tr>\n",
       "      <th>3970</th>\n",
       "      <td>17112</td>\n",
       "      <td>Серебряное шейное украшение</td>\n",
       "      <td>Артикул: 236183</td>\n",
       "      <td>1374₽</td>\n",
       "      <td>4580₽</td>\n",
       "      <td>Артикул: 236183;Шейное укр.    \\r\\nСеребро 925...</td>\n",
       "      <td>https://sunlight.net/catalog/neck_decoration_2...</td>\n",
       "      <td>S13118-H9W-01&amp;Серебро&amp;3.25 г</td>\n",
       "      <td>SERGEY GRIBNYAKOV&amp;Гладкие серебряные украшения</td>\n",
       "    </tr>\n",
       "    <tr>\n",
       "      <th>8064</th>\n",
       "      <td>21208</td>\n",
       "      <td>Золотые серьги с жемчугом</td>\n",
       "      <td>Артикул: 86290</td>\n",
       "      <td>11994₽</td>\n",
       "      <td>39980₽</td>\n",
       "      <td>Артикул: 86290;Серьги с 2 жемчугами культивиро...</td>\n",
       "      <td>https://sunlight.net/catalog/earring_86290.html</td>\n",
       "      <td>093901_02_01_000_0072*&amp;РОССИЯ&amp;Розовое золото&amp;Ж...</td>\n",
       "      <td>SERGEY GRIBNYAKOV&amp;Золото. Жемчуг</td>\n",
       "    </tr>\n",
       "    <tr>\n",
       "      <th>5199</th>\n",
       "      <td>18341</td>\n",
       "      <td>Золотые серьги</td>\n",
       "      <td>Артикул: 85657</td>\n",
       "      <td>4194₽</td>\n",
       "      <td>13980₽</td>\n",
       "      <td>Артикул: 85657;Серьги    \\r\\nРозовое золото 58...</td>\n",
       "      <td>https://sunlight.net/catalog/earring_85657.html</td>\n",
       "      <td>С1005225*&amp;РОССИЯ&amp;Розовое золото&amp;0.81 г</td>\n",
       "      <td>SERGEY GRIBNYAKOV&amp;Золотые украшения без вставок</td>\n",
       "    </tr>\n",
       "    <tr>\n",
       "      <th>6729</th>\n",
       "      <td>19873</td>\n",
       "      <td>Золотые серьги с фианитами</td>\n",
       "      <td>Артикул: 154261</td>\n",
       "      <td>9594₽</td>\n",
       "      <td>31980₽</td>\n",
       "      <td>Артикул: 154261;Серьги, вставка:  фианит; фиан...</td>\n",
       "      <td>https://sunlight.net/catalog/earring_154261.html</td>\n",
       "      <td>2-770-1 бз*&amp;РОССИЯ&amp;Белое золото&amp;Фианит&amp;2.32 г</td>\n",
       "      <td>SERGEY GRIBNYAKOV&amp;Белое и желтое золото</td>\n",
       "    </tr>\n",
       "    <tr>\n",
       "      <th>896</th>\n",
       "      <td>14036</td>\n",
       "      <td>Золотые серьги с фианитами</td>\n",
       "      <td>Артикул: 284880</td>\n",
       "      <td>10794₽</td>\n",
       "      <td>35980₽</td>\n",
       "      <td>Артикул: 284880;Серьги, вставка:  фианит;    \\...</td>\n",
       "      <td>https://sunlight.net/catalog/earring_284880.html</td>\n",
       "      <td>2000613*&amp;РОССИЯ&amp;Розовое золото&amp;Фианит&amp;2.48 г</td>\n",
       "      <td>SERGEY GRIBNYAKOV</td>\n",
       "    </tr>\n",
       "  </tbody>\n",
       "</table>\n",
       "</div>"
      ],
      "text/plain": [
       "      Unnamed: 0                           h1              art   price  \\\n",
       "3970       17112  Серебряное шейное украшение  Артикул: 236183   1374₽   \n",
       "8064       21208    Золотые серьги с жемчугом   Артикул: 86290  11994₽   \n",
       "5199       18341               Золотые серьги   Артикул: 85657   4194₽   \n",
       "6729       19873   Золотые серьги с фианитами  Артикул: 154261   9594₽   \n",
       "896        14036   Золотые серьги с фианитами  Артикул: 284880  10794₽   \n",
       "\n",
       "      price2                                               gold  \\\n",
       "3970   4580₽  Артикул: 236183;Шейное укр.    \\r\\nСеребро 925...   \n",
       "8064  39980₽  Артикул: 86290;Серьги с 2 жемчугами культивиро...   \n",
       "5199  13980₽  Артикул: 85657;Серьги    \\r\\nРозовое золото 58...   \n",
       "6729  31980₽  Артикул: 154261;Серьги, вставка:  фианит; фиан...   \n",
       "896   35980₽  Артикул: 284880;Серьги, вставка:  фианит;    \\...   \n",
       "\n",
       "                                                    url  \\\n",
       "3970  https://sunlight.net/catalog/neck_decoration_2...   \n",
       "8064    https://sunlight.net/catalog/earring_86290.html   \n",
       "5199    https://sunlight.net/catalog/earring_85657.html   \n",
       "6729   https://sunlight.net/catalog/earring_154261.html   \n",
       "896    https://sunlight.net/catalog/earring_284880.html   \n",
       "\n",
       "                                                     d1  \\\n",
       "3970                       S13118-H9W-01&Серебро&3.25 г   \n",
       "8064  093901_02_01_000_0072*&РОССИЯ&Розовое золото&Ж...   \n",
       "5199             С1005225*&РОССИЯ&Розовое золото&0.81 г   \n",
       "6729      2-770-1 бз*&РОССИЯ&Белое золото&Фианит&2.32 г   \n",
       "896        2000613*&РОССИЯ&Розовое золото&Фианит&2.48 г   \n",
       "\n",
       "                                                   d0  \n",
       "3970   SERGEY GRIBNYAKOV&Гладкие серебряные украшения  \n",
       "8064                 SERGEY GRIBNYAKOV&Золото. Жемчуг  \n",
       "5199  SERGEY GRIBNYAKOV&Золотые украшения без вставок  \n",
       "6729          SERGEY GRIBNYAKOV&Белое и желтое золото  \n",
       "896                                 SERGEY GRIBNYAKOV  "
      ]
     },
     "execution_count": 18,
     "metadata": {},
     "output_type": "execute_result"
    }
   ],
   "source": [
    "df.head()"
   ]
  },
  {
   "cell_type": "markdown",
   "id": "2a67692d",
   "metadata": {},
   "source": [
    "## SQL"
   ]
  },
  {
   "cell_type": "code",
   "execution_count": 20,
   "id": "2e39713e",
   "metadata": {},
   "outputs": [],
   "source": [
    "con = sqlite3.connect('jewelery.db')"
   ]
  },
  {
   "cell_type": "code",
   "execution_count": 21,
   "id": "71295d81",
   "metadata": {},
   "outputs": [
    {
     "name": "stderr",
     "output_type": "stream",
     "text": [
      "C:\\Users\\diva0\\anaconda3\\lib\\site-packages\\pandas\\core\\generic.py:2872: UserWarning: The spaces in these column names will not be changed. In pandas versions < 0.14, spaces were converted to underscores.\n",
      "  sql.to_sql(\n"
     ]
    }
   ],
   "source": [
    "df.to_sql('sun_sample', con)"
   ]
  },
  {
   "cell_type": "code",
   "execution_count": 27,
   "id": "fcf40d9a",
   "metadata": {},
   "outputs": [],
   "source": [
    "sql = '''select * from sun_sample t\n",
    "where t.art = 'Артикул: 236183'\n",
    "'''"
   ]
  },
  {
   "cell_type": "code",
   "execution_count": 28,
   "id": "16beed8d",
   "metadata": {},
   "outputs": [
    {
     "data": {
      "text/html": [
       "<div>\n",
       "<style scoped>\n",
       "    .dataframe tbody tr th:only-of-type {\n",
       "        vertical-align: middle;\n",
       "    }\n",
       "\n",
       "    .dataframe tbody tr th {\n",
       "        vertical-align: top;\n",
       "    }\n",
       "\n",
       "    .dataframe thead th {\n",
       "        text-align: right;\n",
       "    }\n",
       "</style>\n",
       "<table border=\"1\" class=\"dataframe\">\n",
       "  <thead>\n",
       "    <tr style=\"text-align: right;\">\n",
       "      <th></th>\n",
       "      <th>index</th>\n",
       "      <th>Unnamed: 0</th>\n",
       "      <th>h1</th>\n",
       "      <th>art</th>\n",
       "      <th>price</th>\n",
       "      <th>price2</th>\n",
       "      <th>gold</th>\n",
       "      <th>url</th>\n",
       "      <th>d1</th>\n",
       "      <th>d0</th>\n",
       "    </tr>\n",
       "  </thead>\n",
       "  <tbody>\n",
       "    <tr>\n",
       "      <th>0</th>\n",
       "      <td>3970</td>\n",
       "      <td>17112</td>\n",
       "      <td>Серебряное шейное украшение</td>\n",
       "      <td>Артикул: 236183</td>\n",
       "      <td>1374₽</td>\n",
       "      <td>4580₽</td>\n",
       "      <td>Артикул: 236183;Шейное укр.    \\r\\nСеребро 925...</td>\n",
       "      <td>https://sunlight.net/catalog/neck_decoration_2...</td>\n",
       "      <td>S13118-H9W-01&amp;Серебро&amp;3.25 г</td>\n",
       "      <td>SERGEY GRIBNYAKOV&amp;Гладкие серебряные украшения</td>\n",
       "    </tr>\n",
       "  </tbody>\n",
       "</table>\n",
       "</div>"
      ],
      "text/plain": [
       "   index  Unnamed: 0                           h1              art  price  \\\n",
       "0   3970       17112  Серебряное шейное украшение  Артикул: 236183  1374₽   \n",
       "\n",
       "  price2                                               gold  \\\n",
       "0  4580₽  Артикул: 236183;Шейное укр.    \\r\\nСеребро 925...   \n",
       "\n",
       "                                                 url  \\\n",
       "0  https://sunlight.net/catalog/neck_decoration_2...   \n",
       "\n",
       "                             d1  \\\n",
       "0  S13118-H9W-01&Серебро&3.25 г   \n",
       "\n",
       "                                               d0  \n",
       "0  SERGEY GRIBNYAKOV&Гладкие серебряные украшения  "
      ]
     },
     "execution_count": 28,
     "metadata": {},
     "output_type": "execute_result"
    }
   ],
   "source": [
    "pd.read_sql(sql, con)"
   ]
  },
  {
   "cell_type": "code",
   "execution_count": null,
   "id": "3c0470c9",
   "metadata": {},
   "outputs": [],
   "source": []
  }
 ],
 "metadata": {
  "kernelspec": {
   "display_name": "Python 3 (ipykernel)",
   "language": "python",
   "name": "python3"
  },
  "language_info": {
   "codemirror_mode": {
    "name": "ipython",
    "version": 3
   },
   "file_extension": ".py",
   "mimetype": "text/x-python",
   "name": "python",
   "nbconvert_exporter": "python",
   "pygments_lexer": "ipython3",
   "version": "3.9.7"
  },
  "toc": {
   "base_numbering": 1,
   "nav_menu": {},
   "number_sections": true,
   "sideBar": true,
   "skip_h1_title": false,
   "title_cell": "Table of Contents",
   "title_sidebar": "Contents",
   "toc_cell": false,
   "toc_position": {},
   "toc_section_display": true,
   "toc_window_display": false
  }
 },
 "nbformat": 4,
 "nbformat_minor": 5
}
