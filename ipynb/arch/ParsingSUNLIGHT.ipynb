{
 "cells": [
  {
   "cell_type": "code",
   "execution_count": 1,
   "metadata": {},
   "outputs": [],
   "source": [
    "#07-09-2022 \n",
    "#06-09-2022 parcing\n",
    "#05-09-2022 dct -> dict, optim\n",
    "#04-09-2022 \n",
    "#02-09-2022 разработка классов\n",
    "#01-09-2022 PHC 8000 import importlib \n",
    "#25-08-2022 Создна копия для SUNLIGHT\n",
    "#25-08-2022 Для цек БК и ПДК\n",
    "#07-07-2022 0 обработка нефти \n",
    "#06-07-2022 серебро https://miuz.ru/catalog/filter/offers_metall-is-serebro/page=2/\n",
    "#16-06-2022 Для Алексея Руб-Из-Сап\n",
    "#24-05-2022 Запуск парсинга result is 'mius240522_0-4154.xlsx'"
   ]
  },
  {
   "cell_type": "markdown",
   "metadata": {},
   "source": [
    "## Код для перезапуска модулей и классов"
   ]
  },
  {
   "cell_type": "code",
   "execution_count": 15,
   "metadata": {},
   "outputs": [],
   "source": [
    "import importlib "
   ]
  },
  {
   "cell_type": "code",
   "execution_count": 27,
   "metadata": {},
   "outputs": [],
   "source": [
    "import modules.dicts.classes_dicts, modules.dicts.classes_site #https://stackoverflow.com/questions/6946376/how-to-reload-a-class-in-python-shell"
   ]
  },
  {
   "cell_type": "code",
   "execution_count": 28,
   "metadata": {
    "scrolled": true
   },
   "outputs": [
    {
     "data": {
      "text/plain": [
       "<module 'modules.dicts.classes_dicts' from 'C:\\\\Users\\\\специалист ао\\\\mypandas\\\\work\\\\CDO2030\\\\Parsing_NKO\\\\modules\\\\dicts\\\\classes_dicts.py'>"
      ]
     },
     "execution_count": 28,
     "metadata": {},
     "output_type": "execute_result"
    }
   ],
   "source": [
    "importlib.reload(modules.dicts.classes_dicts)"
   ]
  },
  {
   "cell_type": "code",
   "execution_count": 18,
   "metadata": {},
   "outputs": [
    {
     "data": {
      "text/plain": [
       "<module 'modules.dicts.classes_site' from 'C:\\\\Users\\\\специалист ао\\\\mypandas\\\\work\\\\CDO2030\\\\Parsing_NKO\\\\modules\\\\dicts\\\\classes_site.py'>"
      ]
     },
     "execution_count": 18,
     "metadata": {},
     "output_type": "execute_result"
    }
   ],
   "source": [
    "importlib.reload(modules.dicts.classes_site)"
   ]
  },
  {
   "cell_type": "code",
   "execution_count": 29,
   "metadata": {},
   "outputs": [],
   "source": [
    "from modules.dicts.classes_dicts import Dtask,Dicts"
   ]
  },
  {
   "cell_type": "code",
   "execution_count": 20,
   "metadata": {},
   "outputs": [],
   "source": [
    "from modules.dicts.classes_site import Site"
   ]
  },
  {
   "cell_type": "code",
   "execution_count": null,
   "metadata": {},
   "outputs": [],
   "source": []
  },
  {
   "cell_type": "markdown",
   "metadata": {},
   "source": [
    "## Модули"
   ]
  },
  {
   "cell_type": "code",
   "execution_count": 1,
   "metadata": {},
   "outputs": [],
   "source": [
    "import datetime\n",
    "import json\n",
    "import os\n",
    "import re\n",
    "import requests\n",
    "from requests import Request, Session\n",
    "from bs4 import BeautifulSoup\n",
    "import pandas as pd\n",
    "\n",
    "from modules.dicts.classes_dicts import Dtask,Dicts\n",
    "from modules.dicts.classes_site import Site"
   ]
  },
  {
   "cell_type": "markdown",
   "metadata": {},
   "source": [
    "# Разработка класса просмотр задач"
   ]
  },
  {
   "cell_type": "code",
   "execution_count": 4,
   "metadata": {},
   "outputs": [],
   "source": [
    "folder = 'tasklogs/'\n",
    "files = os.listdir(folder)"
   ]
  },
  {
   "cell_type": "code",
   "execution_count": 5,
   "metadata": {},
   "outputs": [],
   "source": [
    "files = os.listdir(folder)"
   ]
  },
  {
   "cell_type": "code",
   "execution_count": 37,
   "metadata": {},
   "outputs": [
    {
     "data": {
      "text/html": [
       "<div>\n",
       "<style scoped>\n",
       "    .dataframe tbody tr th:only-of-type {\n",
       "        vertical-align: middle;\n",
       "    }\n",
       "\n",
       "    .dataframe tbody tr th {\n",
       "        vertical-align: top;\n",
       "    }\n",
       "\n",
       "    .dataframe thead th {\n",
       "        text-align: right;\n",
       "    }\n",
       "</style>\n",
       "<table border=\"1\" class=\"dataframe\">\n",
       "  <thead>\n",
       "    <tr style=\"text-align: right;\">\n",
       "      <th></th>\n",
       "      <th>{\"name\": \"SL_diamonds\"</th>\n",
       "      <th>\"domain\": \"https://sunlight.net/\"</th>\n",
       "      <th>\"urls0\": \"https://sunlight.net/catalog/diamonds-all.html\"</th>\n",
       "      <th>\"urlslast\": \"https://sunlight.net/catalog/diamonds-all/page-4/\"</th>\n",
       "      <th>\"descr\": \"\"</th>\n",
       "      <th>\"datestr0\": \"2022-09-06-22-58\"</th>\n",
       "      <th>\"datestr\": \"2022-09-06-23-02\"</th>\n",
       "      <th>\"links\": [\"/catalog/ring_165495.html\"</th>\n",
       "      <th>\"/catalog/ring_146537.html\"</th>\n",
       "      <th>\"/catalog/ring_57830.html\"</th>\n",
       "      <th>...</th>\n",
       "      <th>\"/catalog/earring_151456.html\"</th>\n",
       "      <th>\"/catalog/ring_56967.html\"</th>\n",
       "      <th>\"/catalog/earring_81488.html\"</th>\n",
       "      <th>\"/catalog/ring_100463.html\"</th>\n",
       "      <th>\"/catalog/ring_322794.html\"</th>\n",
       "      <th>\"/catalog/ring_99535.html\"</th>\n",
       "      <th>\"/catalog/pendants_290418.html\"</th>\n",
       "      <th>\"/catalog/ring_305946.html\"</th>\n",
       "      <th>\"/catalog/earring_157302.html\"</th>\n",
       "      <th>\"/catalog/earring_59476.html\"]}</th>\n",
       "    </tr>\n",
       "  </thead>\n",
       "  <tbody>\n",
       "  </tbody>\n",
       "</table>\n",
       "<p>0 rows × 187 columns</p>\n",
       "</div>"
      ],
      "text/plain": [
       "Empty DataFrame\n",
       "Columns: [{\"name\": \"SL_diamonds\",  \"domain\": \"https://sunlight.net/\",  \"urls0\": \"https://sunlight.net/catalog/diamonds-all.html\",  \"urlslast\": \"https://sunlight.net/catalog/diamonds-all/page-4/\",  \"descr\": \"\",  \"datestr0\": \"2022-09-06-22-58\",  \"datestr\": \"2022-09-06-23-02\",  \"links\": [\"/catalog/ring_165495.html\",  \"/catalog/ring_146537.html\",  \"/catalog/ring_57830.html\",  \"/catalog/ring_47720.html\",  \"/catalog/ring_108790.html\",  \"/catalog/ring_109474.html\",  \"/catalog/ring_108796.html\",  \"/catalog/ring_152015.html\",  \"/catalog/ring_56703.html\",  \"/catalog/ring_48271.html\",  \"/catalog/earring_108798.html\",  \"/catalog/ring_238293.html\",  \"/catalog/ring_283369.html\",  \"/catalog/ring_69240.html\",  \"/catalog/ring_56676.html\",  \"/catalog/earring_48270.html\",  \"/catalog/earring_47719.html\",  \"/catalog/ring_100269.html\",  \"/catalog/ring_234085.html\",  \"/catalog/earring_146521.html\",  \"/catalog/earring_56677.html\",  \"/catalog/earring_146538.html\",  \"/catalog/ring_61080.html\",  \"/catalog/pendants_78054.html\",  \"/catalog/ring_75616.html\",  \"/catalog/ring_57753.html\",  \"/catalog/pendants_290415.html\",  \"/catalog/earring_285237.html\",  \"/catalog/ring_108063.html\",  \"/catalog/ring_69239.html\",  \"/catalog/earring_58796.html\",  \"/catalog/earring_108791.html\",  \"/catalog/ring_58795.html\",  \"/catalog/ring_93264.html\",  \"/catalog/pendants_78052.html\",  \"/catalog/earring_69242.html\",  \"/catalog/earring_75617.html\",  \"/catalog/ring_276995.html\",  \"/catalog/pendants_45211.html\",  \"/catalog/earring_100270.html\",  \"/catalog/earring_286758.html\",  \"/catalog/earring_69241.html\",  \"/catalog/pendants_63494.html\",  \"/catalog/earring_81222.html\",  \"/catalog/earring_276996.html\",  \"/catalog/earring_93288.html\",  \"/catalog/earring_108064.html\",  \"/catalog/earring_58181.html\",  \"/catalog/earring389.html\",  \"/catalog/pendants_312887.html\",  \"/catalog/ring_92006.html\",  \"/catalog/ring_76218.html\",  \"/catalog/earring_76219.html\",  \"/catalog/pendants_279448.html\",  \"/catalog/ring_277113.html\",  \"/catalog/earring_81220.html\",  \"/catalog/ring_83601.html\",  \"/catalog/earring_81221.html\",  \"/catalog/earring_92680.html\",  \"/catalog/earring_146527.html\",  \"/catalog/pendants_58553.html\",  \"/catalog/ring_146526.html\",  \"/catalog/ring_273388.html\",  \"/catalog/ring_51292.html\",  \"/catalog/ring_280238.html\",  \"/catalog/pendants_50906.html\",  \"/catalog/earring_275421.html\",  \"/catalog/ring_125960.html\",  \"/catalog/pendants_57784.html\",  \"/catalog/ring_313658.html\",  \"/catalog/pendants_58552.html\",  \"/catalog/earring_51456.html\",  \"/catalog/earring_66871.html\",  \"/catalog/ring_66502.html\",  \"/catalog/ring_307734.html\",  \"/catalog/ring_275418.html\",  \"/catalog/earring_123837.html\",  \"/catalog/earring_56508.html\",  \"/catalog/ring_157318.html\",  \"/catalog/ring_99436.html\",  \"/catalog/ring_58133.html\",  \"/catalog/pendants_66503.html\",  \"/catalog/earring_55920.html\",  \"/catalog/ring_76111.html\",  \"/catalog/earring_272173.html\",  \"/catalog/ring_108792.html\",  \"/catalog/ring_58184.html\",  \"/catalog/ring_112488.html\",  \"/catalog/ring_99435.html\",  \"/catalog/pendants_51455.html\",  \"/catalog/ring206665.html\",  \"/catalog/ring_157335.html\",  \"/catalog/ring_71585.html\", ...]\n",
       "Index: []\n",
       "\n",
       "[0 rows x 187 columns]"
      ]
     },
     "execution_count": 37,
     "metadata": {},
     "output_type": "execute_result"
    }
   ],
   "source": [
    "pd.read_csv(folder+files[0])"
   ]
  },
  {
   "cell_type": "code",
   "execution_count": 2,
   "metadata": {},
   "outputs": [
    {
     "name": "stdout",
     "output_type": "stream",
     "text": [
      "установка : name2022-09-09-16-03\n"
     ]
    }
   ],
   "source": [
    "taskx = Dtask({})"
   ]
  },
  {
   "cell_type": "code",
   "execution_count": 6,
   "metadata": {},
   "outputs": [],
   "source": [
    "taskx.load(files[3],'name')\n",
    "d = taskx.dict"
   ]
  },
  {
   "cell_type": "code",
   "execution_count": 71,
   "metadata": {},
   "outputs": [],
   "source": [
    "if 'links' in d.keys():\n",
    "    del d['links']"
   ]
  },
  {
   "cell_type": "code",
   "execution_count": 7,
   "metadata": {
    "scrolled": true
   },
   "outputs": [
    {
     "name": "stdout",
     "output_type": "stream",
     "text": [
      "task name: name2022-09-09-16-03\n",
      "links len =  120 \n",
      "\n",
      "{'name': 'SL_diamonds2022-09-07-12-41',\n",
      "'domain': 'https://sunlight.net/',\n",
      "'urls0': 'https://sunlight.net/catalog/diamonds-all.html',\n",
      "'urlslast': 'https://sunlight.net/catalog/diamonds-all/page-3/',\n",
      "'descr': '',\n",
      "'datestr0': '2022-09-07-12-41',\n",
      "'datestr': '2022-09-07-12-51',\n",
      "'parcing': 'results//_reserve_SL_diamonds2022-09-07-12-412022-09-07-12-51.csv',\n",
      "}\n"
     ]
    }
   ],
   "source": [
    "taskx.print()"
   ]
  },
  {
   "cell_type": "code",
   "execution_count": 8,
   "metadata": {},
   "outputs": [
    {
     "data": {
      "text/html": [
       "<div>\n",
       "<style scoped>\n",
       "    .dataframe tbody tr th:only-of-type {\n",
       "        vertical-align: middle;\n",
       "    }\n",
       "\n",
       "    .dataframe tbody tr th {\n",
       "        vertical-align: top;\n",
       "    }\n",
       "\n",
       "    .dataframe thead th {\n",
       "        text-align: right;\n",
       "    }\n",
       "</style>\n",
       "<table border=\"1\" class=\"dataframe\">\n",
       "  <thead>\n",
       "    <tr style=\"text-align: right;\">\n",
       "      <th></th>\n",
       "      <th>name</th>\n",
       "      <th>domain</th>\n",
       "      <th>urls0</th>\n",
       "      <th>urlslast</th>\n",
       "      <th>descr</th>\n",
       "      <th>datestr0</th>\n",
       "      <th>datestr</th>\n",
       "      <th>links</th>\n",
       "      <th>parcing</th>\n",
       "    </tr>\n",
       "  </thead>\n",
       "  <tbody>\n",
       "    <tr>\n",
       "      <th>0</th>\n",
       "      <td>SL_diamonds2022-09-07-12-41</td>\n",
       "      <td>https://sunlight.net/</td>\n",
       "      <td>https://sunlight.net/catalog/diamonds-all.html</td>\n",
       "      <td>https://sunlight.net/catalog/diamonds-all/page-3/</td>\n",
       "      <td></td>\n",
       "      <td>2022-09-07-12-41</td>\n",
       "      <td>2022-09-07-12-51</td>\n",
       "      <td>/catalog/ring_165495.html</td>\n",
       "      <td>results//_reserve_SL_diamonds2022-09-07-12-412...</td>\n",
       "    </tr>\n",
       "    <tr>\n",
       "      <th>1</th>\n",
       "      <td>SL_diamonds2022-09-07-12-41</td>\n",
       "      <td>https://sunlight.net/</td>\n",
       "      <td>https://sunlight.net/catalog/diamonds-all.html</td>\n",
       "      <td>https://sunlight.net/catalog/diamonds-all/page-3/</td>\n",
       "      <td></td>\n",
       "      <td>2022-09-07-12-41</td>\n",
       "      <td>2022-09-07-12-51</td>\n",
       "      <td>/catalog/ring_146537.html</td>\n",
       "      <td>results//_reserve_SL_diamonds2022-09-07-12-412...</td>\n",
       "    </tr>\n",
       "    <tr>\n",
       "      <th>2</th>\n",
       "      <td>SL_diamonds2022-09-07-12-41</td>\n",
       "      <td>https://sunlight.net/</td>\n",
       "      <td>https://sunlight.net/catalog/diamonds-all.html</td>\n",
       "      <td>https://sunlight.net/catalog/diamonds-all/page-3/</td>\n",
       "      <td></td>\n",
       "      <td>2022-09-07-12-41</td>\n",
       "      <td>2022-09-07-12-51</td>\n",
       "      <td>/catalog/ring_57830.html</td>\n",
       "      <td>results//_reserve_SL_diamonds2022-09-07-12-412...</td>\n",
       "    </tr>\n",
       "    <tr>\n",
       "      <th>3</th>\n",
       "      <td>SL_diamonds2022-09-07-12-41</td>\n",
       "      <td>https://sunlight.net/</td>\n",
       "      <td>https://sunlight.net/catalog/diamonds-all.html</td>\n",
       "      <td>https://sunlight.net/catalog/diamonds-all/page-3/</td>\n",
       "      <td></td>\n",
       "      <td>2022-09-07-12-41</td>\n",
       "      <td>2022-09-07-12-51</td>\n",
       "      <td>/catalog/ring_47720.html</td>\n",
       "      <td>results//_reserve_SL_diamonds2022-09-07-12-412...</td>\n",
       "    </tr>\n",
       "    <tr>\n",
       "      <th>4</th>\n",
       "      <td>SL_diamonds2022-09-07-12-41</td>\n",
       "      <td>https://sunlight.net/</td>\n",
       "      <td>https://sunlight.net/catalog/diamonds-all.html</td>\n",
       "      <td>https://sunlight.net/catalog/diamonds-all/page-3/</td>\n",
       "      <td></td>\n",
       "      <td>2022-09-07-12-41</td>\n",
       "      <td>2022-09-07-12-51</td>\n",
       "      <td>/catalog/ring_108790.html</td>\n",
       "      <td>results//_reserve_SL_diamonds2022-09-07-12-412...</td>\n",
       "    </tr>\n",
       "    <tr>\n",
       "      <th>...</th>\n",
       "      <td>...</td>\n",
       "      <td>...</td>\n",
       "      <td>...</td>\n",
       "      <td>...</td>\n",
       "      <td>...</td>\n",
       "      <td>...</td>\n",
       "      <td>...</td>\n",
       "      <td>...</td>\n",
       "      <td>...</td>\n",
       "    </tr>\n",
       "    <tr>\n",
       "      <th>115</th>\n",
       "      <td>SL_diamonds2022-09-07-12-41</td>\n",
       "      <td>https://sunlight.net/</td>\n",
       "      <td>https://sunlight.net/catalog/diamonds-all.html</td>\n",
       "      <td>https://sunlight.net/catalog/diamonds-all/page-3/</td>\n",
       "      <td></td>\n",
       "      <td>2022-09-07-12-41</td>\n",
       "      <td>2022-09-07-12-51</td>\n",
       "      <td>/catalog/earring_54694.html</td>\n",
       "      <td>results//_reserve_SL_diamonds2022-09-07-12-412...</td>\n",
       "    </tr>\n",
       "    <tr>\n",
       "      <th>116</th>\n",
       "      <td>SL_diamonds2022-09-07-12-41</td>\n",
       "      <td>https://sunlight.net/</td>\n",
       "      <td>https://sunlight.net/catalog/diamonds-all.html</td>\n",
       "      <td>https://sunlight.net/catalog/diamonds-all/page-3/</td>\n",
       "      <td></td>\n",
       "      <td>2022-09-07-12-41</td>\n",
       "      <td>2022-09-07-12-51</td>\n",
       "      <td>/catalog/earring_69297.html</td>\n",
       "      <td>results//_reserve_SL_diamonds2022-09-07-12-412...</td>\n",
       "    </tr>\n",
       "    <tr>\n",
       "      <th>117</th>\n",
       "      <td>SL_diamonds2022-09-07-12-41</td>\n",
       "      <td>https://sunlight.net/</td>\n",
       "      <td>https://sunlight.net/catalog/diamonds-all.html</td>\n",
       "      <td>https://sunlight.net/catalog/diamonds-all/page-3/</td>\n",
       "      <td></td>\n",
       "      <td>2022-09-07-12-41</td>\n",
       "      <td>2022-09-07-12-51</td>\n",
       "      <td>/catalog/pendants_108794.html</td>\n",
       "      <td>results//_reserve_SL_diamonds2022-09-07-12-412...</td>\n",
       "    </tr>\n",
       "    <tr>\n",
       "      <th>118</th>\n",
       "      <td>SL_diamonds2022-09-07-12-41</td>\n",
       "      <td>https://sunlight.net/</td>\n",
       "      <td>https://sunlight.net/catalog/diamonds-all.html</td>\n",
       "      <td>https://sunlight.net/catalog/diamonds-all/page-3/</td>\n",
       "      <td></td>\n",
       "      <td>2022-09-07-12-41</td>\n",
       "      <td>2022-09-07-12-51</td>\n",
       "      <td>/catalog/earring_71405.html</td>\n",
       "      <td>results//_reserve_SL_diamonds2022-09-07-12-412...</td>\n",
       "    </tr>\n",
       "    <tr>\n",
       "      <th>119</th>\n",
       "      <td>SL_diamonds2022-09-07-12-41</td>\n",
       "      <td>https://sunlight.net/</td>\n",
       "      <td>https://sunlight.net/catalog/diamonds-all.html</td>\n",
       "      <td>https://sunlight.net/catalog/diamonds-all/page-3/</td>\n",
       "      <td></td>\n",
       "      <td>2022-09-07-12-41</td>\n",
       "      <td>2022-09-07-12-51</td>\n",
       "      <td>/catalog/earring_313143.html</td>\n",
       "      <td>results//_reserve_SL_diamonds2022-09-07-12-412...</td>\n",
       "    </tr>\n",
       "  </tbody>\n",
       "</table>\n",
       "<p>120 rows × 9 columns</p>\n",
       "</div>"
      ],
      "text/plain": [
       "                            name                 domain  \\\n",
       "0    SL_diamonds2022-09-07-12-41  https://sunlight.net/   \n",
       "1    SL_diamonds2022-09-07-12-41  https://sunlight.net/   \n",
       "2    SL_diamonds2022-09-07-12-41  https://sunlight.net/   \n",
       "3    SL_diamonds2022-09-07-12-41  https://sunlight.net/   \n",
       "4    SL_diamonds2022-09-07-12-41  https://sunlight.net/   \n",
       "..                           ...                    ...   \n",
       "115  SL_diamonds2022-09-07-12-41  https://sunlight.net/   \n",
       "116  SL_diamonds2022-09-07-12-41  https://sunlight.net/   \n",
       "117  SL_diamonds2022-09-07-12-41  https://sunlight.net/   \n",
       "118  SL_diamonds2022-09-07-12-41  https://sunlight.net/   \n",
       "119  SL_diamonds2022-09-07-12-41  https://sunlight.net/   \n",
       "\n",
       "                                              urls0  \\\n",
       "0    https://sunlight.net/catalog/diamonds-all.html   \n",
       "1    https://sunlight.net/catalog/diamonds-all.html   \n",
       "2    https://sunlight.net/catalog/diamonds-all.html   \n",
       "3    https://sunlight.net/catalog/diamonds-all.html   \n",
       "4    https://sunlight.net/catalog/diamonds-all.html   \n",
       "..                                              ...   \n",
       "115  https://sunlight.net/catalog/diamonds-all.html   \n",
       "116  https://sunlight.net/catalog/diamonds-all.html   \n",
       "117  https://sunlight.net/catalog/diamonds-all.html   \n",
       "118  https://sunlight.net/catalog/diamonds-all.html   \n",
       "119  https://sunlight.net/catalog/diamonds-all.html   \n",
       "\n",
       "                                              urlslast descr  \\\n",
       "0    https://sunlight.net/catalog/diamonds-all/page-3/         \n",
       "1    https://sunlight.net/catalog/diamonds-all/page-3/         \n",
       "2    https://sunlight.net/catalog/diamonds-all/page-3/         \n",
       "3    https://sunlight.net/catalog/diamonds-all/page-3/         \n",
       "4    https://sunlight.net/catalog/diamonds-all/page-3/         \n",
       "..                                                 ...   ...   \n",
       "115  https://sunlight.net/catalog/diamonds-all/page-3/         \n",
       "116  https://sunlight.net/catalog/diamonds-all/page-3/         \n",
       "117  https://sunlight.net/catalog/diamonds-all/page-3/         \n",
       "118  https://sunlight.net/catalog/diamonds-all/page-3/         \n",
       "119  https://sunlight.net/catalog/diamonds-all/page-3/         \n",
       "\n",
       "             datestr0           datestr                          links  \\\n",
       "0    2022-09-07-12-41  2022-09-07-12-51      /catalog/ring_165495.html   \n",
       "1    2022-09-07-12-41  2022-09-07-12-51      /catalog/ring_146537.html   \n",
       "2    2022-09-07-12-41  2022-09-07-12-51       /catalog/ring_57830.html   \n",
       "3    2022-09-07-12-41  2022-09-07-12-51       /catalog/ring_47720.html   \n",
       "4    2022-09-07-12-41  2022-09-07-12-51      /catalog/ring_108790.html   \n",
       "..                ...               ...                            ...   \n",
       "115  2022-09-07-12-41  2022-09-07-12-51    /catalog/earring_54694.html   \n",
       "116  2022-09-07-12-41  2022-09-07-12-51    /catalog/earring_69297.html   \n",
       "117  2022-09-07-12-41  2022-09-07-12-51  /catalog/pendants_108794.html   \n",
       "118  2022-09-07-12-41  2022-09-07-12-51    /catalog/earring_71405.html   \n",
       "119  2022-09-07-12-41  2022-09-07-12-51   /catalog/earring_313143.html   \n",
       "\n",
       "                                               parcing  \n",
       "0    results//_reserve_SL_diamonds2022-09-07-12-412...  \n",
       "1    results//_reserve_SL_diamonds2022-09-07-12-412...  \n",
       "2    results//_reserve_SL_diamonds2022-09-07-12-412...  \n",
       "3    results//_reserve_SL_diamonds2022-09-07-12-412...  \n",
       "4    results//_reserve_SL_diamonds2022-09-07-12-412...  \n",
       "..                                                 ...  \n",
       "115  results//_reserve_SL_diamonds2022-09-07-12-412...  \n",
       "116  results//_reserve_SL_diamonds2022-09-07-12-412...  \n",
       "117  results//_reserve_SL_diamonds2022-09-07-12-412...  \n",
       "118  results//_reserve_SL_diamonds2022-09-07-12-412...  \n",
       "119  results//_reserve_SL_diamonds2022-09-07-12-412...  \n",
       "\n",
       "[120 rows x 9 columns]"
      ]
     },
     "execution_count": 8,
     "metadata": {},
     "output_type": "execute_result"
    }
   ],
   "source": [
    "pd.DataFrame(taskx.dict)"
   ]
  },
  {
   "cell_type": "code",
   "execution_count": 53,
   "metadata": {},
   "outputs": [
    {
     "data": {
      "text/html": [
       "<div>\n",
       "<style scoped>\n",
       "    .dataframe tbody tr th:only-of-type {\n",
       "        vertical-align: middle;\n",
       "    }\n",
       "\n",
       "    .dataframe tbody tr th {\n",
       "        vertical-align: top;\n",
       "    }\n",
       "\n",
       "    .dataframe thead th {\n",
       "        text-align: right;\n",
       "    }\n",
       "</style>\n",
       "<table border=\"1\" class=\"dataframe\">\n",
       "  <thead>\n",
       "    <tr style=\"text-align: right;\">\n",
       "      <th></th>\n",
       "      <th>name</th>\n",
       "      <th>links</th>\n",
       "      <th>datestr</th>\n",
       "      <th>urls</th>\n",
       "      <th>domain</th>\n",
       "      <th>taskdescr</th>\n",
       "    </tr>\n",
       "  </thead>\n",
       "  <tbody>\n",
       "    <tr>\n",
       "      <th>0</th>\n",
       "      <td>SL_всеЮИ</td>\n",
       "      <td>[/catalog/earring_75382.html, /catalog/ring_28...</td>\n",
       "      <td>2022-09-01-16-15</td>\n",
       "      <td>https://sunlight.net/catalog/?material=326,327...</td>\n",
       "      <td>https://sunlight.net</td>\n",
       "      <td>579 стр с фильтром https://sunlight.net/catalo...</td>\n",
       "    </tr>\n",
       "  </tbody>\n",
       "</table>\n",
       "</div>"
      ],
      "text/plain": [
       "       name                                              links  \\\n",
       "0  SL_всеЮИ  [/catalog/earring_75382.html, /catalog/ring_28...   \n",
       "\n",
       "            datestr                                               urls  \\\n",
       "0  2022-09-01-16-15  https://sunlight.net/catalog/?material=326,327...   \n",
       "\n",
       "                 domain                                          taskdescr  \n",
       "0  https://sunlight.net  579 стр с фильтром https://sunlight.net/catalo...  "
      ]
     },
     "execution_count": 53,
     "metadata": {},
     "output_type": "execute_result"
    }
   ],
   "source": [
    "pd.DataFrame(pd.Series(t.dict)).T"
   ]
  },
  {
   "cell_type": "code",
   "execution_count": 75,
   "metadata": {},
   "outputs": [
    {
     "name": "stdout",
     "output_type": "stream",
     "text": [
      "установка : name2022-09-08-15-01\n"
     ]
    }
   ],
   "source": [
    "folder = 'tasklogs/'\n",
    "files = os.listdir(folder)\n",
    "ldict = []\n",
    "taskx = Dtask({})\n",
    "for f in files:\n",
    "    taskx.load(f,'name')\n",
    "    d = taskx.dict\n",
    "    if 'links' in d.keys():\n",
    "        del d['links']\n",
    "    ldict.append(pd.DataFrame(pd.Series(d)).T)    "
   ]
  },
  {
   "cell_type": "code",
   "execution_count": 80,
   "metadata": {},
   "outputs": [
    {
     "data": {
      "text/html": [
       "<div>\n",
       "<style scoped>\n",
       "    .dataframe tbody tr th:only-of-type {\n",
       "        vertical-align: middle;\n",
       "    }\n",
       "\n",
       "    .dataframe tbody tr th {\n",
       "        vertical-align: top;\n",
       "    }\n",
       "\n",
       "    .dataframe thead th {\n",
       "        text-align: right;\n",
       "    }\n",
       "</style>\n",
       "<table border=\"1\" class=\"dataframe\">\n",
       "  <thead>\n",
       "    <tr style=\"text-align: right;\">\n",
       "      <th></th>\n",
       "      <th>name</th>\n",
       "      <th>domain</th>\n",
       "      <th>urls0</th>\n",
       "      <th>urlslast</th>\n",
       "      <th>descr</th>\n",
       "      <th>datestr0</th>\n",
       "      <th>datestr</th>\n",
       "      <th>parcing</th>\n",
       "      <th>urls</th>\n",
       "      <th>taskdescr</th>\n",
       "    </tr>\n",
       "  </thead>\n",
       "  <tbody>\n",
       "    <tr>\n",
       "      <th>0</th>\n",
       "      <td>SL_diamonds</td>\n",
       "      <td>https://sunlight.net/</td>\n",
       "      <td>https://sunlight.net/catalog/diamonds-all.html</td>\n",
       "      <td>https://sunlight.net/catalog/diamonds-all/page-4/</td>\n",
       "      <td></td>\n",
       "      <td>2022-09-06-22-58</td>\n",
       "      <td>2022-09-06-23-02</td>\n",
       "      <td>NaN</td>\n",
       "      <td>NaN</td>\n",
       "      <td>NaN</td>\n",
       "    </tr>\n",
       "    <tr>\n",
       "      <th>0</th>\n",
       "      <td>SL_diamonds</td>\n",
       "      <td>https://sunlight.net/</td>\n",
       "      <td>https://sunlight.net/catalog/diamonds-all.html</td>\n",
       "      <td>https://sunlight.net/catalog/diamonds-all/page-4/</td>\n",
       "      <td></td>\n",
       "      <td>2022-09-06-22-58</td>\n",
       "      <td>2022-09-07-08-07</td>\n",
       "      <td>results//_reserve_SL_diamonds2022-09-07-08-07.csv</td>\n",
       "      <td>NaN</td>\n",
       "      <td>NaN</td>\n",
       "    </tr>\n",
       "    <tr>\n",
       "      <th>0</th>\n",
       "      <td>SL_diamonds</td>\n",
       "      <td>https://sunlight.net/</td>\n",
       "      <td>https://sunlight.net/catalog/diamonds-all.html</td>\n",
       "      <td>https://sunlight.net/catalog/diamonds-all/page-4/</td>\n",
       "      <td></td>\n",
       "      <td>2022-09-07-06-31</td>\n",
       "      <td>2022-09-07-06-34</td>\n",
       "      <td>NaN</td>\n",
       "      <td>NaN</td>\n",
       "      <td>NaN</td>\n",
       "    </tr>\n",
       "    <tr>\n",
       "      <th>0</th>\n",
       "      <td>SL_diamonds2022-09-07-08-24</td>\n",
       "      <td>https://sunlight.net/</td>\n",
       "      <td>https://sunlight.net/catalog/diamonds-all.html</td>\n",
       "      <td>https://sunlight.net/catalog/diamonds-all/page-4/</td>\n",
       "      <td></td>\n",
       "      <td>2022-09-07-08-24</td>\n",
       "      <td>2022-09-07-08-25</td>\n",
       "      <td>NaN</td>\n",
       "      <td>NaN</td>\n",
       "      <td>NaN</td>\n",
       "    </tr>\n",
       "    <tr>\n",
       "      <th>0</th>\n",
       "      <td>SL_diamonds2022-09-07-12-41</td>\n",
       "      <td>https://sunlight.net/</td>\n",
       "      <td>https://sunlight.net/catalog/diamonds-all.html</td>\n",
       "      <td>https://sunlight.net/catalog/diamonds-all/page-3/</td>\n",
       "      <td></td>\n",
       "      <td>2022-09-07-12-41</td>\n",
       "      <td>2022-09-07-12-51</td>\n",
       "      <td>results//_reserve_SL_diamonds2022-09-07-12-412...</td>\n",
       "      <td>NaN</td>\n",
       "      <td>NaN</td>\n",
       "    </tr>\n",
       "    <tr>\n",
       "      <th>0</th>\n",
       "      <td>SL_diamonds2022-09-07-17-29</td>\n",
       "      <td>https://sunlight.net/</td>\n",
       "      <td>https://sunlight.net/catalog/diamonds-all.html</td>\n",
       "      <td>https://sunlight.net/catalog/diamonds-all/page-3/</td>\n",
       "      <td></td>\n",
       "      <td>2022-09-07-17-29</td>\n",
       "      <td>2022-09-07-17-34</td>\n",
       "      <td>results//_reserve_SL_diamonds2022-09-07-17-292...</td>\n",
       "      <td>NaN</td>\n",
       "      <td>NaN</td>\n",
       "    </tr>\n",
       "    <tr>\n",
       "      <th>0</th>\n",
       "      <td>SL_всеЮИ</td>\n",
       "      <td>https://sunlight.net</td>\n",
       "      <td>NaN</td>\n",
       "      <td>NaN</td>\n",
       "      <td>NaN</td>\n",
       "      <td>NaN</td>\n",
       "      <td>2022-09-01-16-15</td>\n",
       "      <td>NaN</td>\n",
       "      <td>https://sunlight.net/catalog/?material=326,327...</td>\n",
       "      <td>579 стр с фильтром https://sunlight.net/catalo...</td>\n",
       "    </tr>\n",
       "  </tbody>\n",
       "</table>\n",
       "</div>"
      ],
      "text/plain": [
       "                          name                 domain  \\\n",
       "0                  SL_diamonds  https://sunlight.net/   \n",
       "0                  SL_diamonds  https://sunlight.net/   \n",
       "0                  SL_diamonds  https://sunlight.net/   \n",
       "0  SL_diamonds2022-09-07-08-24  https://sunlight.net/   \n",
       "0  SL_diamonds2022-09-07-12-41  https://sunlight.net/   \n",
       "0  SL_diamonds2022-09-07-17-29  https://sunlight.net/   \n",
       "0                     SL_всеЮИ   https://sunlight.net   \n",
       "\n",
       "                                            urls0  \\\n",
       "0  https://sunlight.net/catalog/diamonds-all.html   \n",
       "0  https://sunlight.net/catalog/diamonds-all.html   \n",
       "0  https://sunlight.net/catalog/diamonds-all.html   \n",
       "0  https://sunlight.net/catalog/diamonds-all.html   \n",
       "0  https://sunlight.net/catalog/diamonds-all.html   \n",
       "0  https://sunlight.net/catalog/diamonds-all.html   \n",
       "0                                             NaN   \n",
       "\n",
       "                                            urlslast descr          datestr0  \\\n",
       "0  https://sunlight.net/catalog/diamonds-all/page-4/        2022-09-06-22-58   \n",
       "0  https://sunlight.net/catalog/diamonds-all/page-4/        2022-09-06-22-58   \n",
       "0  https://sunlight.net/catalog/diamonds-all/page-4/        2022-09-07-06-31   \n",
       "0  https://sunlight.net/catalog/diamonds-all/page-4/        2022-09-07-08-24   \n",
       "0  https://sunlight.net/catalog/diamonds-all/page-3/        2022-09-07-12-41   \n",
       "0  https://sunlight.net/catalog/diamonds-all/page-3/        2022-09-07-17-29   \n",
       "0                                                NaN   NaN               NaN   \n",
       "\n",
       "            datestr                                            parcing  \\\n",
       "0  2022-09-06-23-02                                                NaN   \n",
       "0  2022-09-07-08-07  results//_reserve_SL_diamonds2022-09-07-08-07.csv   \n",
       "0  2022-09-07-06-34                                                NaN   \n",
       "0  2022-09-07-08-25                                                NaN   \n",
       "0  2022-09-07-12-51  results//_reserve_SL_diamonds2022-09-07-12-412...   \n",
       "0  2022-09-07-17-34  results//_reserve_SL_diamonds2022-09-07-17-292...   \n",
       "0  2022-09-01-16-15                                                NaN   \n",
       "\n",
       "                                                urls  \\\n",
       "0                                                NaN   \n",
       "0                                                NaN   \n",
       "0                                                NaN   \n",
       "0                                                NaN   \n",
       "0                                                NaN   \n",
       "0                                                NaN   \n",
       "0  https://sunlight.net/catalog/?material=326,327...   \n",
       "\n",
       "                                           taskdescr  \n",
       "0                                                NaN  \n",
       "0                                                NaN  \n",
       "0                                                NaN  \n",
       "0                                                NaN  \n",
       "0                                                NaN  \n",
       "0                                                NaN  \n",
       "0  579 стр с фильтром https://sunlight.net/catalo...  "
      ]
     },
     "execution_count": 80,
     "metadata": {},
     "output_type": "execute_result"
    }
   ],
   "source": [
    "pd.concat(ldict).sort_values(by='datestr0')"
   ]
  },
  {
   "cell_type": "code",
   "execution_count": 21,
   "metadata": {},
   "outputs": [
    {
     "data": {
      "application/json": {
       "cell": {
        "!": "OSMagics",
        "HTML": "Other",
        "SVG": "Other",
        "bash": "Other",
        "capture": "ExecutionMagics",
        "cmd": "Other",
        "debug": "ExecutionMagics",
        "file": "Other",
        "html": "DisplayMagics",
        "javascript": "DisplayMagics",
        "js": "DisplayMagics",
        "latex": "DisplayMagics",
        "markdown": "DisplayMagics",
        "perl": "Other",
        "prun": "ExecutionMagics",
        "pypy": "Other",
        "python": "Other",
        "python2": "Other",
        "python3": "Other",
        "ruby": "Other",
        "script": "ScriptMagics",
        "sh": "Other",
        "svg": "DisplayMagics",
        "sx": "OSMagics",
        "system": "OSMagics",
        "time": "ExecutionMagics",
        "timeit": "ExecutionMagics",
        "writefile": "OSMagics"
       },
       "line": {
        "alias": "OSMagics",
        "alias_magic": "BasicMagics",
        "autoawait": "AsyncMagics",
        "autocall": "AutoMagics",
        "automagic": "AutoMagics",
        "autosave": "KernelMagics",
        "bookmark": "OSMagics",
        "cd": "OSMagics",
        "clear": "KernelMagics",
        "cls": "KernelMagics",
        "colors": "BasicMagics",
        "conda": "PackagingMagics",
        "config": "ConfigMagics",
        "connect_info": "KernelMagics",
        "copy": "Other",
        "ddir": "Other",
        "debug": "ExecutionMagics",
        "dhist": "OSMagics",
        "dirs": "OSMagics",
        "doctest_mode": "BasicMagics",
        "echo": "Other",
        "ed": "Other",
        "edit": "KernelMagics",
        "env": "OSMagics",
        "gui": "BasicMagics",
        "hist": "Other",
        "history": "HistoryMagics",
        "killbgscripts": "ScriptMagics",
        "ldir": "Other",
        "less": "KernelMagics",
        "load": "CodeMagics",
        "load_ext": "ExtensionMagics",
        "loadpy": "CodeMagics",
        "logoff": "LoggingMagics",
        "logon": "LoggingMagics",
        "logstart": "LoggingMagics",
        "logstate": "LoggingMagics",
        "logstop": "LoggingMagics",
        "ls": "Other",
        "lsmagic": "BasicMagics",
        "macro": "ExecutionMagics",
        "magic": "BasicMagics",
        "matplotlib": "PylabMagics",
        "mkdir": "Other",
        "more": "KernelMagics",
        "notebook": "BasicMagics",
        "page": "BasicMagics",
        "pastebin": "CodeMagics",
        "pdb": "ExecutionMagics",
        "pdef": "NamespaceMagics",
        "pdoc": "NamespaceMagics",
        "pfile": "NamespaceMagics",
        "pinfo": "NamespaceMagics",
        "pinfo2": "NamespaceMagics",
        "pip": "PackagingMagics",
        "popd": "OSMagics",
        "pprint": "BasicMagics",
        "precision": "BasicMagics",
        "prun": "ExecutionMagics",
        "psearch": "NamespaceMagics",
        "psource": "NamespaceMagics",
        "pushd": "OSMagics",
        "pwd": "OSMagics",
        "pycat": "OSMagics",
        "pylab": "PylabMagics",
        "qtconsole": "KernelMagics",
        "quickref": "BasicMagics",
        "recall": "HistoryMagics",
        "rehashx": "OSMagics",
        "reload_ext": "ExtensionMagics",
        "ren": "Other",
        "rep": "Other",
        "rerun": "HistoryMagics",
        "reset": "NamespaceMagics",
        "reset_selective": "NamespaceMagics",
        "rmdir": "Other",
        "run": "ExecutionMagics",
        "save": "CodeMagics",
        "sc": "OSMagics",
        "set_env": "OSMagics",
        "store": "StoreMagics",
        "sx": "OSMagics",
        "system": "OSMagics",
        "tb": "ExecutionMagics",
        "time": "ExecutionMagics",
        "timeit": "ExecutionMagics",
        "unalias": "OSMagics",
        "unload_ext": "ExtensionMagics",
        "who": "NamespaceMagics",
        "who_ls": "NamespaceMagics",
        "whos": "NamespaceMagics",
        "xdel": "NamespaceMagics",
        "xmode": "BasicMagics"
       }
      },
      "text/plain": [
       "Available line magics:\n",
       "%alias  %alias_magic  %autoawait  %autocall  %automagic  %autosave  %bookmark  %cd  %clear  %cls  %colors  %conda  %config  %connect_info  %copy  %ddir  %debug  %dhist  %dirs  %doctest_mode  %echo  %ed  %edit  %env  %gui  %hist  %history  %killbgscripts  %ldir  %less  %load  %load_ext  %loadpy  %logoff  %logon  %logstart  %logstate  %logstop  %ls  %lsmagic  %macro  %magic  %matplotlib  %mkdir  %more  %notebook  %page  %pastebin  %pdb  %pdef  %pdoc  %pfile  %pinfo  %pinfo2  %pip  %popd  %pprint  %precision  %prun  %psearch  %psource  %pushd  %pwd  %pycat  %pylab  %qtconsole  %quickref  %recall  %rehashx  %reload_ext  %ren  %rep  %rerun  %reset  %reset_selective  %rmdir  %run  %save  %sc  %set_env  %store  %sx  %system  %tb  %time  %timeit  %unalias  %unload_ext  %who  %who_ls  %whos  %xdel  %xmode\n",
       "\n",
       "Available cell magics:\n",
       "%%!  %%HTML  %%SVG  %%bash  %%capture  %%cmd  %%debug  %%file  %%html  %%javascript  %%js  %%latex  %%markdown  %%perl  %%prun  %%pypy  %%python  %%python2  %%python3  %%ruby  %%script  %%sh  %%svg  %%sx  %%system  %%time  %%timeit  %%writefile\n",
       "\n",
       "Automagic is ON, % prefix IS NOT needed for line magics."
      ]
     },
     "execution_count": 21,
     "metadata": {},
     "output_type": "execute_result"
    }
   ],
   "source": [
    "%lsmagic"
   ]
  },
  {
   "cell_type": "code",
   "execution_count": null,
   "metadata": {},
   "outputs": [],
   "source": []
  },
  {
   "cell_type": "code",
   "execution_count": 54,
   "metadata": {},
   "outputs": [
    {
     "name": "stdout",
     "output_type": "stream",
     "text": [
      "13 env\n",
      "15 jewels\n",
      "16 links\n",
      "17 modules\n",
      "30 results\n",
      "32 rusprice\n",
      "33 tasklogs\n",
      "39 __pycache__\n",
      "40 Новая папка\n"
     ]
    }
   ],
   "source": [
    "with os.scandir() as it:\n",
    "    for n, entry in enumerate(it):\n",
    "        if not entry.name.startswith('.') and not entry.is_file():\n",
    "            print(n, entry.name)"
   ]
  },
  {
   "cell_type": "code",
   "execution_count": 81,
   "metadata": {},
   "outputs": [
    {
     "name": "stdout",
     "output_type": "stream",
     "text": [
      "(0, 'env')\n",
      "(1, 'jewels')\n",
      "(2, 'links')\n",
      "(3, 'modules')\n",
      "(4, 'results')\n",
      "(5, 'rusprice')\n",
      "(6, 'tasklogs')\n",
      "(7, '__pycache__')\n",
      "(8, 'Новая папка')\n"
     ]
    }
   ],
   "source": [
    "files = [i.name for i in os.scandir() if not i.name.startswith('.') and i.is_dir()]\n",
    "print(*[(n,f) for n,f in enumerate(files)], sep = '\\n')"
   ]
  },
  {
   "cell_type": "code",
   "execution_count": 74,
   "metadata": {},
   "outputs": [
    {
     "data": {
      "text/plain": [
       "'tasklogs'"
      ]
     },
     "execution_count": 74,
     "metadata": {},
     "output_type": "execute_result"
    }
   ],
   "source": [
    "files[6]"
   ]
  },
  {
   "cell_type": "code",
   "execution_count": 53,
   "metadata": {},
   "outputs": [
    {
     "name": "stdout",
     "output_type": "stream",
     "text": [
      "del\n",
      "SL_всеЮИ2022-09-01-15-28\n"
     ]
    }
   ],
   "source": [
    "with os.scandir('results') as it:\n",
    "    for entry in it:\n",
    "        if not entry.name.startswith('.') and not entry.is_file():\n",
    "            print(entry.name)"
   ]
  },
  {
   "cell_type": "code",
   "execution_count": 49,
   "metadata": {},
   "outputs": [
    {
     "data": {
      "text/plain": [
       "['.DS_Store',\n",
       " '.git',\n",
       " '.idea',\n",
       " '.ipynb_checkpoints',\n",
       " 'AnaliticRep031221.ipynb',\n",
       " 'AnaliticRep060622EPL_Кольца_с_брилл-62.ipynb',\n",
       " 'AnaliticRep061221-KDM1C8.ipynb',\n",
       " 'AnaliticRep140422MUIZ_Кольца_с_брилл.ipynb',\n",
       " 'AnaliticRep220422EGELGE_брилл.ipynb',\n",
       " 'AnaliticRep240522MUIZ_Кольца_с_брилл.ipynb',\n",
       " 'collectxls_reps.ipynb',\n",
       " 'data.xlsx',\n",
       " 'Egelge_1after_parsing.ipynb',\n",
       " 'env',\n",
       " 'for_parsing_func.ipynb',\n",
       " 'jewels',\n",
       " 'links',\n",
       " 'modules',\n",
       " 'MUIZ_justcode.ipynb',\n",
       " 'Parsing.html',\n",
       " 'ParsingEgelge.ipynb',\n",
       " 'ParsingEPL.ipynb',\n",
       " 'ParsingKierge.ipynb',\n",
       " 'ParsingMiuz.ipynb',\n",
       " 'ParsingNKObyAita.ipynb',\n",
       " 'ParsingRNIMU.ipynb',\n",
       " 'ParsingSUNLIGHT.ipynb',\n",
       " 'pars_16-06-2022_muiz_RSE.xlsx',\n",
       " 'README.md',\n",
       " 'requiremnts.txt',\n",
       " 'results',\n",
       " 'resultslinks4154_2410522.xlsx',\n",
       " 'rusprice',\n",
       " 'tasklogs',\n",
       " 'temp10.xlsx',\n",
       " 'Untitled.ipynb',\n",
       " 'Untitled1-Copy1.ipynb',\n",
       " 'Untitled1.ipynb',\n",
       " 'visio_matplotlib.ipynb',\n",
       " '__pycache__',\n",
       " 'Новая папка',\n",
       " 'Разница в стомости изделия Красноярск Москва МЮЗ.docx']"
      ]
     },
     "execution_count": 49,
     "metadata": {},
     "output_type": "execute_result"
    }
   ],
   "source": [
    "os.listdir()"
   ]
  },
  {
   "cell_type": "code",
   "execution_count": null,
   "metadata": {},
   "outputs": [],
   "source": []
  },
  {
   "cell_type": "code",
   "execution_count": 45,
   "metadata": {},
   "outputs": [
    {
     "data": {
      "text/plain": [
       "[<DirEntry '.DS_Store'>,\n",
       " <DirEntry '.git'>,\n",
       " <DirEntry '.idea'>,\n",
       " <DirEntry '.ipynb_checkpoints'>,\n",
       " <DirEntry 'AnaliticRep031221.ipynb'>,\n",
       " <DirEntry 'AnaliticRep060622EPL_Кольца_с_брилл-62.ipynb'>,\n",
       " <DirEntry 'AnaliticRep061221-KDM1C8.ipynb'>,\n",
       " <DirEntry 'AnaliticRep140422MUIZ_Кольца_с_брилл.ipynb'>,\n",
       " <DirEntry 'AnaliticRep220422EGELGE_брилл.ipynb'>,\n",
       " <DirEntry 'AnaliticRep240522MUIZ_Кольца_с_брилл.ipynb'>,\n",
       " <DirEntry 'collectxls_reps.ipynb'>,\n",
       " <DirEntry 'data.xlsx'>,\n",
       " <DirEntry 'Egelge_1after_parsing.ipynb'>,\n",
       " <DirEntry 'env'>,\n",
       " <DirEntry 'for_parsing_func.ipynb'>,\n",
       " <DirEntry 'jewels'>,\n",
       " <DirEntry 'links'>,\n",
       " <DirEntry 'modules'>,\n",
       " <DirEntry 'MUIZ_justcode.ipynb'>,\n",
       " <DirEntry 'Parsing.html'>,\n",
       " <DirEntry 'ParsingEgelge.ipynb'>,\n",
       " <DirEntry 'ParsingEPL.ipynb'>,\n",
       " <DirEntry 'ParsingKierge.ipynb'>,\n",
       " <DirEntry 'ParsingMiuz.ipynb'>,\n",
       " <DirEntry 'ParsingNKObyAita.ipynb'>,\n",
       " <DirEntry 'ParsingRNIMU.ipynb'>,\n",
       " <DirEntry 'ParsingSUNLIGHT.ipynb'>,\n",
       " <DirEntry 'pars_16-06-2022_muiz_RSE.xlsx'>,\n",
       " <DirEntry 'README.md'>,\n",
       " <DirEntry 'requiremnts.txt'>,\n",
       " <DirEntry 'results'>,\n",
       " <DirEntry 'resultslinks4154_2410522.xlsx'>,\n",
       " <DirEntry 'rusprice'>,\n",
       " <DirEntry 'tasklogs'>,\n",
       " <DirEntry 'temp10.xlsx'>,\n",
       " <DirEntry 'Untitled.ipynb'>,\n",
       " <DirEntry 'Untitled1-Copy1.ipynb'>,\n",
       " <DirEntry 'Untitled1.ipynb'>,\n",
       " <DirEntry 'visio_matplotlib.ipynb'>,\n",
       " <DirEntry '__pycache__'>,\n",
       " <DirEntry 'Новая папка'>,\n",
       " <DirEntry 'Разница в стомости изделия Красноярск Москва МЮЗ.docx'>]"
      ]
     },
     "execution_count": 45,
     "metadata": {},
     "output_type": "execute_result"
    }
   ],
   "source": [
    "[a for a in os.scandir()]"
   ]
  },
  {
   "cell_type": "markdown",
   "metadata": {},
   "source": [
    "# Разработка класса Site"
   ]
  },
  {
   "cell_type": "markdown",
   "metadata": {},
   "source": [
    "## Тесты модуля разработки"
   ]
  },
  {
   "cell_type": "code",
   "execution_count": 30,
   "metadata": {},
   "outputs": [],
   "source": [
    "dtask = {'name':'SL_diamonds',\n",
    "         'domain': 'https://sunlight.net/',\n",
    "         #'links':[],\n",
    "         'urls0':'https://sunlight.net/catalog/diamonds-all.html',\n",
    "         'urlslast':'https://sunlight.net/catalog/diamonds-all/page-4/',\n",
    "         'descr':''}\n",
    "        "
   ]
  },
  {
   "cell_type": "code",
   "execution_count": 31,
   "metadata": {},
   "outputs": [
    {
     "name": "stdout",
     "output_type": "stream",
     "text": [
      "установка : SL_diamonds2022-09-09-16-44\n"
     ]
    }
   ],
   "source": [
    "task = Dtask(dtask)"
   ]
  },
  {
   "cell_type": "code",
   "execution_count": 32,
   "metadata": {},
   "outputs": [
    {
     "name": "stdout",
     "output_type": "stream",
     "text": [
      "установка : SL_all_12512022-09-09-16-44\n"
     ]
    }
   ],
   "source": [
    "task = Dtask({'name':'SL_all_1251'})"
   ]
  },
  {
   "cell_type": "code",
   "execution_count": 33,
   "metadata": {},
   "outputs": [],
   "source": [
    "task.load('d_SL_diamonds2022-09-07-17-29_2022-09-07-17-34.json','name')"
   ]
  },
  {
   "cell_type": "code",
   "execution_count": 34,
   "metadata": {},
   "outputs": [
    {
     "name": "stdout",
     "output_type": "stream",
     "text": [
      "task name: SL_all_12512022-09-09-16-44\n",
      "links len =  120 \n",
      "\n",
      "{'name': 'SL_diamonds2022-09-07-17-29',\n",
      "'domain': 'https://sunlight.net/',\n",
      "'urls0': 'https://sunlight.net/catalog/diamonds-all.html',\n",
      "'urlslast': 'https://sunlight.net/catalog/diamonds-all/page-3/',\n",
      "'descr': '',\n",
      "'datestr0': '2022-09-07-17-29',\n",
      "'datestr': '2022-09-07-17-34',\n",
      "'parcing': 'results//_reserve_SL_diamonds2022-09-07-17-292022-09-07-17-34.csv',\n",
      "}\n"
     ]
    }
   ],
   "source": [
    "task.print()"
   ]
  },
  {
   "cell_type": "code",
   "execution_count": 47,
   "metadata": {},
   "outputs": [],
   "source": [
    "#task.dict['urlslast']= 'https://sunlight.net/catalog/diamonds-all/page-3/'"
   ]
  },
  {
   "cell_type": "code",
   "execution_count": 288,
   "metadata": {},
   "outputs": [
    {
     "name": "stdout",
     "output_type": "stream",
     "text": [
      "не правильный словарь\n",
      "dict записан:  d_SL_diamonds2022-09-07-08-24_2022-09-07-08-25.json\n"
     ]
    }
   ],
   "source": [
    "#task.save()"
   ]
  },
  {
   "cell_type": "code",
   "execution_count": 8,
   "metadata": {},
   "outputs": [],
   "source": [
    "#task.load()"
   ]
  },
  {
   "cell_type": "code",
   "execution_count": 8,
   "metadata": {},
   "outputs": [
    {
     "name": "stdout",
     "output_type": "stream",
     "text": [
      "create\n"
     ]
    }
   ],
   "source": [
    "site = Site()"
   ]
  },
  {
   "cell_type": "code",
   "execution_count": 9,
   "metadata": {},
   "outputs": [
    {
     "ename": "KeyError",
     "evalue": "'urls0'",
     "output_type": "error",
     "traceback": [
      "\u001b[1;31m---------------------------------------------------------------------------\u001b[0m",
      "\u001b[1;31mKeyError\u001b[0m                                  Traceback (most recent call last)",
      "\u001b[1;32m<ipython-input-9-15fc3ac8b954>\u001b[0m in \u001b[0;36m<module>\u001b[1;34m\u001b[0m\n\u001b[1;32m----> 1\u001b[1;33m \u001b[0msite\u001b[0m\u001b[1;33m.\u001b[0m\u001b[0mgetlinks\u001b[0m\u001b[1;33m(\u001b[0m\u001b[0mtask\u001b[0m\u001b[1;33m)\u001b[0m\u001b[1;33m\u001b[0m\u001b[1;33m\u001b[0m\u001b[0m\n\u001b[0m",
      "\u001b[1;32m~\\mypandas\\work\\CDO2030\\Parsing_NKO\\classes_site.py\u001b[0m in \u001b[0;36mgetlinks\u001b[1;34m(self, task)\u001b[0m\n\u001b[0;32m     50\u001b[0m         \u001b[0mlinks\u001b[0m \u001b[1;33m=\u001b[0m \u001b[1;33m[\u001b[0m\u001b[1;33m]\u001b[0m\u001b[1;33m\u001b[0m\u001b[1;33m\u001b[0m\u001b[0m\n\u001b[0;32m     51\u001b[0m         \u001b[0mi\u001b[0m \u001b[1;33m=\u001b[0m \u001b[1;36m0\u001b[0m\u001b[1;33m\u001b[0m\u001b[1;33m\u001b[0m\u001b[0m\n\u001b[1;32m---> 52\u001b[1;33m         \u001b[1;32mfor\u001b[0m \u001b[0ml\u001b[0m \u001b[1;32min\u001b[0m \u001b[0mgenlink\u001b[0m\u001b[1;33m:\u001b[0m\u001b[1;33m\u001b[0m\u001b[1;33m\u001b[0m\u001b[0m\n\u001b[0m\u001b[0;32m     53\u001b[0m             \u001b[0mprint\u001b[0m\u001b[1;33m(\u001b[0m\u001b[0mi\u001b[0m\u001b[1;33m,\u001b[0m \u001b[0ml\u001b[0m\u001b[1;33m)\u001b[0m\u001b[1;33m\u001b[0m\u001b[1;33m\u001b[0m\u001b[0m\n\u001b[0;32m     54\u001b[0m             \u001b[0mlinks\u001b[0m \u001b[1;33m+=\u001b[0m \u001b[0mself\u001b[0m\u001b[1;33m.\u001b[0m\u001b[0mgetlinks_sunl\u001b[0m\u001b[1;33m(\u001b[0m\u001b[0ml\u001b[0m\u001b[1;33m)\u001b[0m\u001b[1;33m\u001b[0m\u001b[1;33m\u001b[0m\u001b[0m\n",
      "\u001b[1;32m~\\mypandas\\work\\CDO2030\\Parsing_NKO\\classes_site.py\u001b[0m in \u001b[0;36mgenlinks_sunl\u001b[1;34m(self, task)\u001b[0m\n\u001b[0;32m     33\u001b[0m     \u001b[1;32mdef\u001b[0m \u001b[0mgenlinks_sunl\u001b[0m\u001b[1;33m(\u001b[0m\u001b[0mself\u001b[0m\u001b[1;33m,\u001b[0m \u001b[0mtask\u001b[0m\u001b[1;33m)\u001b[0m\u001b[1;33m:\u001b[0m\u001b[1;33m\u001b[0m\u001b[1;33m\u001b[0m\u001b[0m\n\u001b[0;32m     34\u001b[0m         \u001b[1;34m'''task: classes_parsing.Dtask'''\u001b[0m\u001b[1;33m\u001b[0m\u001b[1;33m\u001b[0m\u001b[0m\n\u001b[1;32m---> 35\u001b[1;33m         \u001b[1;32myield\u001b[0m \u001b[0mtask\u001b[0m\u001b[1;33m.\u001b[0m\u001b[0mdict\u001b[0m\u001b[1;33m[\u001b[0m\u001b[1;34m'urls0'\u001b[0m\u001b[1;33m]\u001b[0m\u001b[1;33m\u001b[0m\u001b[1;33m\u001b[0m\u001b[0m\n\u001b[0m\u001b[0;32m     36\u001b[0m        \u001b[1;31m# 'urlslast':'https://sunlight.net/catalog/diamonds-all/page-104/'\u001b[0m\u001b[1;33m\u001b[0m\u001b[1;33m\u001b[0m\u001b[1;33m\u001b[0m\u001b[0m\n\u001b[0;32m     37\u001b[0m         \u001b[0mtext\u001b[0m \u001b[1;33m=\u001b[0m \u001b[0mtask\u001b[0m\u001b[1;33m.\u001b[0m\u001b[0mdict\u001b[0m\u001b[1;33m[\u001b[0m\u001b[1;34m'urlslast'\u001b[0m\u001b[1;33m]\u001b[0m\u001b[1;33m.\u001b[0m\u001b[0mstrip\u001b[0m\u001b[1;33m(\u001b[0m\u001b[1;33m)\u001b[0m\u001b[1;33m.\u001b[0m\u001b[0msplit\u001b[0m\u001b[1;33m(\u001b[0m\u001b[1;34m'/'\u001b[0m\u001b[1;33m)\u001b[0m\u001b[1;33m[\u001b[0m\u001b[1;33m-\u001b[0m\u001b[1;36m2\u001b[0m\u001b[1;33m]\u001b[0m\u001b[1;33m\u001b[0m\u001b[1;33m\u001b[0m\u001b[0m\n",
      "\u001b[1;31mKeyError\u001b[0m: 'urls0'"
     ]
    }
   ],
   "source": [
    "site.getlinks(task)"
   ]
  },
  {
   "cell_type": "code",
   "execution_count": 50,
   "metadata": {},
   "outputs": [
    {
     "name": "stdout",
     "output_type": "stream",
     "text": [
      "task name: SL_diamonds2022-09-07-17-29\n",
      "links len =  120 \n",
      "\n",
      "{'name': 'SL_diamonds2022-09-07-17-29',\n",
      "'domain': 'https://sunlight.net/',\n",
      "'urls0': 'https://sunlight.net/catalog/diamonds-all.html',\n",
      "'urlslast': 'https://sunlight.net/catalog/diamonds-all/page-3/',\n",
      "'descr': '',\n",
      "'datestr0': '2022-09-07-17-29',\n",
      "'datestr': None,\n",
      "}\n"
     ]
    }
   ],
   "source": [
    "task.print()"
   ]
  },
  {
   "cell_type": "code",
   "execution_count": 10,
   "metadata": {},
   "outputs": [
    {
     "name": "stdout",
     "output_type": "stream",
     "text": [
      "парсинг   35798\n",
      "0 https://sunlight.net/catalog/earring_75382.html\n",
      "saved 0 results//_reserve_SL_всеЮИ2022-09-08-12-06.csv\n",
      "1 https://sunlight.net/catalog/ring_282786.html\n",
      "2 https://sunlight.net/catalog/ring_53306.html\n",
      "3 https://sunlight.net/catalog/bracelets_45278.html\n",
      "4 https://sunlight.net/catalog/earring_320159.html\n"
     ]
    },
    {
     "ename": "KeyboardInterrupt",
     "evalue": "",
     "output_type": "error",
     "traceback": [
      "\u001b[1;31m---------------------------------------------------------------------------\u001b[0m",
      "\u001b[1;31mKeyboardInterrupt\u001b[0m                         Traceback (most recent call last)",
      "\u001b[1;32m<ipython-input-10-3a5ab16dabb1>\u001b[0m in \u001b[0;36m<module>\u001b[1;34m\u001b[0m\n\u001b[1;32m----> 1\u001b[1;33m \u001b[0msite\u001b[0m\u001b[1;33m.\u001b[0m\u001b[0mparcing\u001b[0m\u001b[1;33m(\u001b[0m\u001b[0mtask\u001b[0m\u001b[1;33m)\u001b[0m\u001b[1;33m\u001b[0m\u001b[1;33m\u001b[0m\u001b[0m\n\u001b[0m",
      "\u001b[1;32m~\\mypandas\\work\\CDO2030\\Parsing_NKO\\classes_site.py\u001b[0m in \u001b[0;36mparcing\u001b[1;34m(self, task)\u001b[0m\n\u001b[0;32m     74\u001b[0m                 \u001b[0mrow\u001b[0m \u001b[1;33m=\u001b[0m \u001b[0mi\u001b[0m\u001b[1;33m\u001b[0m\u001b[1;33m\u001b[0m\u001b[0m\n\u001b[0;32m     75\u001b[0m                 \u001b[0murlcard\u001b[0m \u001b[1;33m=\u001b[0m \u001b[0mdomain\u001b[0m \u001b[1;33m+\u001b[0m \u001b[0mlinks\u001b[0m\u001b[1;33m[\u001b[0m\u001b[0mi\u001b[0m\u001b[1;33m]\u001b[0m\u001b[1;33m\u001b[0m\u001b[1;33m\u001b[0m\u001b[0m\n\u001b[1;32m---> 76\u001b[1;33m                 \u001b[0mresponse\u001b[0m \u001b[1;33m=\u001b[0m \u001b[0mrequests\u001b[0m\u001b[1;33m.\u001b[0m\u001b[0mget\u001b[0m\u001b[1;33m(\u001b[0m\u001b[0murlcard\u001b[0m\u001b[1;33m)\u001b[0m\u001b[1;33m\u001b[0m\u001b[1;33m\u001b[0m\u001b[0m\n\u001b[0m\u001b[0;32m     77\u001b[0m                 \u001b[0mcard\u001b[0m \u001b[1;33m=\u001b[0m \u001b[0mBeautifulSoup\u001b[0m\u001b[1;33m(\u001b[0m\u001b[0mresponse\u001b[0m\u001b[1;33m.\u001b[0m\u001b[0mtext\u001b[0m\u001b[1;33m,\u001b[0m \u001b[1;34m'lxml'\u001b[0m\u001b[1;33m)\u001b[0m\u001b[1;33m\u001b[0m\u001b[1;33m\u001b[0m\u001b[0m\n\u001b[0;32m     78\u001b[0m                 \u001b[1;31m#card = mysoup(urlcard)\u001b[0m\u001b[1;33m\u001b[0m\u001b[1;33m\u001b[0m\u001b[1;33m\u001b[0m\u001b[0m\n",
      "\u001b[1;32mC:\\anaconda3\\lib\\site-packages\\requests\\api.py\u001b[0m in \u001b[0;36mget\u001b[1;34m(url, params, **kwargs)\u001b[0m\n\u001b[0;32m     74\u001b[0m \u001b[1;33m\u001b[0m\u001b[0m\n\u001b[0;32m     75\u001b[0m     \u001b[0mkwargs\u001b[0m\u001b[1;33m.\u001b[0m\u001b[0msetdefault\u001b[0m\u001b[1;33m(\u001b[0m\u001b[1;34m'allow_redirects'\u001b[0m\u001b[1;33m,\u001b[0m \u001b[1;32mTrue\u001b[0m\u001b[1;33m)\u001b[0m\u001b[1;33m\u001b[0m\u001b[1;33m\u001b[0m\u001b[0m\n\u001b[1;32m---> 76\u001b[1;33m     \u001b[1;32mreturn\u001b[0m \u001b[0mrequest\u001b[0m\u001b[1;33m(\u001b[0m\u001b[1;34m'get'\u001b[0m\u001b[1;33m,\u001b[0m \u001b[0murl\u001b[0m\u001b[1;33m,\u001b[0m \u001b[0mparams\u001b[0m\u001b[1;33m=\u001b[0m\u001b[0mparams\u001b[0m\u001b[1;33m,\u001b[0m \u001b[1;33m**\u001b[0m\u001b[0mkwargs\u001b[0m\u001b[1;33m)\u001b[0m\u001b[1;33m\u001b[0m\u001b[1;33m\u001b[0m\u001b[0m\n\u001b[0m\u001b[0;32m     77\u001b[0m \u001b[1;33m\u001b[0m\u001b[0m\n\u001b[0;32m     78\u001b[0m \u001b[1;33m\u001b[0m\u001b[0m\n",
      "\u001b[1;32mC:\\anaconda3\\lib\\site-packages\\requests\\api.py\u001b[0m in \u001b[0;36mrequest\u001b[1;34m(method, url, **kwargs)\u001b[0m\n\u001b[0;32m     59\u001b[0m     \u001b[1;31m# cases, and look like a memory leak in others.\u001b[0m\u001b[1;33m\u001b[0m\u001b[1;33m\u001b[0m\u001b[1;33m\u001b[0m\u001b[0m\n\u001b[0;32m     60\u001b[0m     \u001b[1;32mwith\u001b[0m \u001b[0msessions\u001b[0m\u001b[1;33m.\u001b[0m\u001b[0mSession\u001b[0m\u001b[1;33m(\u001b[0m\u001b[1;33m)\u001b[0m \u001b[1;32mas\u001b[0m \u001b[0msession\u001b[0m\u001b[1;33m:\u001b[0m\u001b[1;33m\u001b[0m\u001b[1;33m\u001b[0m\u001b[0m\n\u001b[1;32m---> 61\u001b[1;33m         \u001b[1;32mreturn\u001b[0m \u001b[0msession\u001b[0m\u001b[1;33m.\u001b[0m\u001b[0mrequest\u001b[0m\u001b[1;33m(\u001b[0m\u001b[0mmethod\u001b[0m\u001b[1;33m=\u001b[0m\u001b[0mmethod\u001b[0m\u001b[1;33m,\u001b[0m \u001b[0murl\u001b[0m\u001b[1;33m=\u001b[0m\u001b[0murl\u001b[0m\u001b[1;33m,\u001b[0m \u001b[1;33m**\u001b[0m\u001b[0mkwargs\u001b[0m\u001b[1;33m)\u001b[0m\u001b[1;33m\u001b[0m\u001b[1;33m\u001b[0m\u001b[0m\n\u001b[0m\u001b[0;32m     62\u001b[0m \u001b[1;33m\u001b[0m\u001b[0m\n\u001b[0;32m     63\u001b[0m \u001b[1;33m\u001b[0m\u001b[0m\n",
      "\u001b[1;32mC:\\anaconda3\\lib\\site-packages\\requests\\sessions.py\u001b[0m in \u001b[0;36mrequest\u001b[1;34m(self, method, url, params, data, headers, cookies, files, auth, timeout, allow_redirects, proxies, hooks, stream, verify, cert, json)\u001b[0m\n\u001b[0;32m    540\u001b[0m         }\n\u001b[0;32m    541\u001b[0m         \u001b[0msend_kwargs\u001b[0m\u001b[1;33m.\u001b[0m\u001b[0mupdate\u001b[0m\u001b[1;33m(\u001b[0m\u001b[0msettings\u001b[0m\u001b[1;33m)\u001b[0m\u001b[1;33m\u001b[0m\u001b[1;33m\u001b[0m\u001b[0m\n\u001b[1;32m--> 542\u001b[1;33m         \u001b[0mresp\u001b[0m \u001b[1;33m=\u001b[0m \u001b[0mself\u001b[0m\u001b[1;33m.\u001b[0m\u001b[0msend\u001b[0m\u001b[1;33m(\u001b[0m\u001b[0mprep\u001b[0m\u001b[1;33m,\u001b[0m \u001b[1;33m**\u001b[0m\u001b[0msend_kwargs\u001b[0m\u001b[1;33m)\u001b[0m\u001b[1;33m\u001b[0m\u001b[1;33m\u001b[0m\u001b[0m\n\u001b[0m\u001b[0;32m    543\u001b[0m \u001b[1;33m\u001b[0m\u001b[0m\n\u001b[0;32m    544\u001b[0m         \u001b[1;32mreturn\u001b[0m \u001b[0mresp\u001b[0m\u001b[1;33m\u001b[0m\u001b[1;33m\u001b[0m\u001b[0m\n",
      "\u001b[1;32mC:\\anaconda3\\lib\\site-packages\\requests\\sessions.py\u001b[0m in \u001b[0;36msend\u001b[1;34m(self, request, **kwargs)\u001b[0m\n\u001b[0;32m    653\u001b[0m \u001b[1;33m\u001b[0m\u001b[0m\n\u001b[0;32m    654\u001b[0m         \u001b[1;31m# Send the request\u001b[0m\u001b[1;33m\u001b[0m\u001b[1;33m\u001b[0m\u001b[1;33m\u001b[0m\u001b[0m\n\u001b[1;32m--> 655\u001b[1;33m         \u001b[0mr\u001b[0m \u001b[1;33m=\u001b[0m \u001b[0madapter\u001b[0m\u001b[1;33m.\u001b[0m\u001b[0msend\u001b[0m\u001b[1;33m(\u001b[0m\u001b[0mrequest\u001b[0m\u001b[1;33m,\u001b[0m \u001b[1;33m**\u001b[0m\u001b[0mkwargs\u001b[0m\u001b[1;33m)\u001b[0m\u001b[1;33m\u001b[0m\u001b[1;33m\u001b[0m\u001b[0m\n\u001b[0m\u001b[0;32m    656\u001b[0m \u001b[1;33m\u001b[0m\u001b[0m\n\u001b[0;32m    657\u001b[0m         \u001b[1;31m# Total elapsed time of the request (approximately)\u001b[0m\u001b[1;33m\u001b[0m\u001b[1;33m\u001b[0m\u001b[1;33m\u001b[0m\u001b[0m\n",
      "\u001b[1;32mC:\\anaconda3\\lib\\site-packages\\requests\\adapters.py\u001b[0m in \u001b[0;36msend\u001b[1;34m(self, request, stream, timeout, verify, cert, proxies)\u001b[0m\n\u001b[0;32m    437\u001b[0m         \u001b[1;32mtry\u001b[0m\u001b[1;33m:\u001b[0m\u001b[1;33m\u001b[0m\u001b[1;33m\u001b[0m\u001b[0m\n\u001b[0;32m    438\u001b[0m             \u001b[1;32mif\u001b[0m \u001b[1;32mnot\u001b[0m \u001b[0mchunked\u001b[0m\u001b[1;33m:\u001b[0m\u001b[1;33m\u001b[0m\u001b[1;33m\u001b[0m\u001b[0m\n\u001b[1;32m--> 439\u001b[1;33m                 resp = conn.urlopen(\n\u001b[0m\u001b[0;32m    440\u001b[0m                     \u001b[0mmethod\u001b[0m\u001b[1;33m=\u001b[0m\u001b[0mrequest\u001b[0m\u001b[1;33m.\u001b[0m\u001b[0mmethod\u001b[0m\u001b[1;33m,\u001b[0m\u001b[1;33m\u001b[0m\u001b[1;33m\u001b[0m\u001b[0m\n\u001b[0;32m    441\u001b[0m                     \u001b[0murl\u001b[0m\u001b[1;33m=\u001b[0m\u001b[0murl\u001b[0m\u001b[1;33m,\u001b[0m\u001b[1;33m\u001b[0m\u001b[1;33m\u001b[0m\u001b[0m\n",
      "\u001b[1;32mC:\\anaconda3\\lib\\site-packages\\urllib3\\connectionpool.py\u001b[0m in \u001b[0;36murlopen\u001b[1;34m(self, method, url, body, headers, retries, redirect, assert_same_host, timeout, pool_timeout, release_conn, chunked, body_pos, **response_kw)\u001b[0m\n\u001b[0;32m    697\u001b[0m \u001b[1;33m\u001b[0m\u001b[0m\n\u001b[0;32m    698\u001b[0m             \u001b[1;31m# Make the request on the httplib connection object.\u001b[0m\u001b[1;33m\u001b[0m\u001b[1;33m\u001b[0m\u001b[1;33m\u001b[0m\u001b[0m\n\u001b[1;32m--> 699\u001b[1;33m             httplib_response = self._make_request(\n\u001b[0m\u001b[0;32m    700\u001b[0m                 \u001b[0mconn\u001b[0m\u001b[1;33m,\u001b[0m\u001b[1;33m\u001b[0m\u001b[1;33m\u001b[0m\u001b[0m\n\u001b[0;32m    701\u001b[0m                 \u001b[0mmethod\u001b[0m\u001b[1;33m,\u001b[0m\u001b[1;33m\u001b[0m\u001b[1;33m\u001b[0m\u001b[0m\n",
      "\u001b[1;32mC:\\anaconda3\\lib\\site-packages\\urllib3\\connectionpool.py\u001b[0m in \u001b[0;36m_make_request\u001b[1;34m(self, conn, method, url, timeout, chunked, **httplib_request_kw)\u001b[0m\n\u001b[0;32m    380\u001b[0m         \u001b[1;31m# Trigger any extra validation we need to do.\u001b[0m\u001b[1;33m\u001b[0m\u001b[1;33m\u001b[0m\u001b[1;33m\u001b[0m\u001b[0m\n\u001b[0;32m    381\u001b[0m         \u001b[1;32mtry\u001b[0m\u001b[1;33m:\u001b[0m\u001b[1;33m\u001b[0m\u001b[1;33m\u001b[0m\u001b[0m\n\u001b[1;32m--> 382\u001b[1;33m             \u001b[0mself\u001b[0m\u001b[1;33m.\u001b[0m\u001b[0m_validate_conn\u001b[0m\u001b[1;33m(\u001b[0m\u001b[0mconn\u001b[0m\u001b[1;33m)\u001b[0m\u001b[1;33m\u001b[0m\u001b[1;33m\u001b[0m\u001b[0m\n\u001b[0m\u001b[0;32m    383\u001b[0m         \u001b[1;32mexcept\u001b[0m \u001b[1;33m(\u001b[0m\u001b[0mSocketTimeout\u001b[0m\u001b[1;33m,\u001b[0m \u001b[0mBaseSSLError\u001b[0m\u001b[1;33m)\u001b[0m \u001b[1;32mas\u001b[0m \u001b[0me\u001b[0m\u001b[1;33m:\u001b[0m\u001b[1;33m\u001b[0m\u001b[1;33m\u001b[0m\u001b[0m\n\u001b[0;32m    384\u001b[0m             \u001b[1;31m# Py2 raises this as a BaseSSLError, Py3 raises it as socket timeout.\u001b[0m\u001b[1;33m\u001b[0m\u001b[1;33m\u001b[0m\u001b[1;33m\u001b[0m\u001b[0m\n",
      "\u001b[1;32mC:\\anaconda3\\lib\\site-packages\\urllib3\\connectionpool.py\u001b[0m in \u001b[0;36m_validate_conn\u001b[1;34m(self, conn)\u001b[0m\n\u001b[0;32m   1008\u001b[0m         \u001b[1;31m# Force connect early to allow us to validate the connection.\u001b[0m\u001b[1;33m\u001b[0m\u001b[1;33m\u001b[0m\u001b[1;33m\u001b[0m\u001b[0m\n\u001b[0;32m   1009\u001b[0m         \u001b[1;32mif\u001b[0m \u001b[1;32mnot\u001b[0m \u001b[0mgetattr\u001b[0m\u001b[1;33m(\u001b[0m\u001b[0mconn\u001b[0m\u001b[1;33m,\u001b[0m \u001b[1;34m\"sock\"\u001b[0m\u001b[1;33m,\u001b[0m \u001b[1;32mNone\u001b[0m\u001b[1;33m)\u001b[0m\u001b[1;33m:\u001b[0m  \u001b[1;31m# AppEngine might not have  `.sock`\u001b[0m\u001b[1;33m\u001b[0m\u001b[1;33m\u001b[0m\u001b[0m\n\u001b[1;32m-> 1010\u001b[1;33m             \u001b[0mconn\u001b[0m\u001b[1;33m.\u001b[0m\u001b[0mconnect\u001b[0m\u001b[1;33m(\u001b[0m\u001b[1;33m)\u001b[0m\u001b[1;33m\u001b[0m\u001b[1;33m\u001b[0m\u001b[0m\n\u001b[0m\u001b[0;32m   1011\u001b[0m \u001b[1;33m\u001b[0m\u001b[0m\n\u001b[0;32m   1012\u001b[0m         \u001b[1;32mif\u001b[0m \u001b[1;32mnot\u001b[0m \u001b[0mconn\u001b[0m\u001b[1;33m.\u001b[0m\u001b[0mis_verified\u001b[0m\u001b[1;33m:\u001b[0m\u001b[1;33m\u001b[0m\u001b[1;33m\u001b[0m\u001b[0m\n",
      "\u001b[1;32mC:\\anaconda3\\lib\\site-packages\\urllib3\\connection.py\u001b[0m in \u001b[0;36mconnect\u001b[1;34m(self)\u001b[0m\n\u001b[0;32m    409\u001b[0m             \u001b[0mcontext\u001b[0m\u001b[1;33m.\u001b[0m\u001b[0mload_default_certs\u001b[0m\u001b[1;33m(\u001b[0m\u001b[1;33m)\u001b[0m\u001b[1;33m\u001b[0m\u001b[1;33m\u001b[0m\u001b[0m\n\u001b[0;32m    410\u001b[0m \u001b[1;33m\u001b[0m\u001b[0m\n\u001b[1;32m--> 411\u001b[1;33m         self.sock = ssl_wrap_socket(\n\u001b[0m\u001b[0;32m    412\u001b[0m             \u001b[0msock\u001b[0m\u001b[1;33m=\u001b[0m\u001b[0mconn\u001b[0m\u001b[1;33m,\u001b[0m\u001b[1;33m\u001b[0m\u001b[1;33m\u001b[0m\u001b[0m\n\u001b[0;32m    413\u001b[0m             \u001b[0mkeyfile\u001b[0m\u001b[1;33m=\u001b[0m\u001b[0mself\u001b[0m\u001b[1;33m.\u001b[0m\u001b[0mkey_file\u001b[0m\u001b[1;33m,\u001b[0m\u001b[1;33m\u001b[0m\u001b[1;33m\u001b[0m\u001b[0m\n",
      "\u001b[1;32mC:\\anaconda3\\lib\\site-packages\\urllib3\\util\\ssl_.py\u001b[0m in \u001b[0;36mssl_wrap_socket\u001b[1;34m(sock, keyfile, certfile, cert_reqs, ca_certs, server_hostname, ssl_version, ciphers, ssl_context, ca_cert_dir, key_password, ca_cert_data, tls_in_tls)\u001b[0m\n\u001b[0;32m    426\u001b[0m \u001b[1;33m\u001b[0m\u001b[0m\n\u001b[0;32m    427\u001b[0m     \u001b[1;32mif\u001b[0m \u001b[0msend_sni\u001b[0m\u001b[1;33m:\u001b[0m\u001b[1;33m\u001b[0m\u001b[1;33m\u001b[0m\u001b[0m\n\u001b[1;32m--> 428\u001b[1;33m         ssl_sock = _ssl_wrap_socket_impl(\n\u001b[0m\u001b[0;32m    429\u001b[0m             \u001b[0msock\u001b[0m\u001b[1;33m,\u001b[0m \u001b[0mcontext\u001b[0m\u001b[1;33m,\u001b[0m \u001b[0mtls_in_tls\u001b[0m\u001b[1;33m,\u001b[0m \u001b[0mserver_hostname\u001b[0m\u001b[1;33m=\u001b[0m\u001b[0mserver_hostname\u001b[0m\u001b[1;33m\u001b[0m\u001b[1;33m\u001b[0m\u001b[0m\n\u001b[0;32m    430\u001b[0m         )\n",
      "\u001b[1;32mC:\\anaconda3\\lib\\site-packages\\urllib3\\util\\ssl_.py\u001b[0m in \u001b[0;36m_ssl_wrap_socket_impl\u001b[1;34m(sock, ssl_context, tls_in_tls, server_hostname)\u001b[0m\n\u001b[0;32m    470\u001b[0m \u001b[1;33m\u001b[0m\u001b[0m\n\u001b[0;32m    471\u001b[0m     \u001b[1;32mif\u001b[0m \u001b[0mserver_hostname\u001b[0m\u001b[1;33m:\u001b[0m\u001b[1;33m\u001b[0m\u001b[1;33m\u001b[0m\u001b[0m\n\u001b[1;32m--> 472\u001b[1;33m         \u001b[1;32mreturn\u001b[0m \u001b[0mssl_context\u001b[0m\u001b[1;33m.\u001b[0m\u001b[0mwrap_socket\u001b[0m\u001b[1;33m(\u001b[0m\u001b[0msock\u001b[0m\u001b[1;33m,\u001b[0m \u001b[0mserver_hostname\u001b[0m\u001b[1;33m=\u001b[0m\u001b[0mserver_hostname\u001b[0m\u001b[1;33m)\u001b[0m\u001b[1;33m\u001b[0m\u001b[1;33m\u001b[0m\u001b[0m\n\u001b[0m\u001b[0;32m    473\u001b[0m     \u001b[1;32melse\u001b[0m\u001b[1;33m:\u001b[0m\u001b[1;33m\u001b[0m\u001b[1;33m\u001b[0m\u001b[0m\n\u001b[0;32m    474\u001b[0m         \u001b[1;32mreturn\u001b[0m \u001b[0mssl_context\u001b[0m\u001b[1;33m.\u001b[0m\u001b[0mwrap_socket\u001b[0m\u001b[1;33m(\u001b[0m\u001b[0msock\u001b[0m\u001b[1;33m)\u001b[0m\u001b[1;33m\u001b[0m\u001b[1;33m\u001b[0m\u001b[0m\n",
      "\u001b[1;32mC:\\anaconda3\\lib\\ssl.py\u001b[0m in \u001b[0;36mwrap_socket\u001b[1;34m(self, sock, server_side, do_handshake_on_connect, suppress_ragged_eofs, server_hostname, session)\u001b[0m\n\u001b[0;32m    498\u001b[0m         \u001b[1;31m# SSLSocket class handles server_hostname encoding before it calls\u001b[0m\u001b[1;33m\u001b[0m\u001b[1;33m\u001b[0m\u001b[1;33m\u001b[0m\u001b[0m\n\u001b[0;32m    499\u001b[0m         \u001b[1;31m# ctx._wrap_socket()\u001b[0m\u001b[1;33m\u001b[0m\u001b[1;33m\u001b[0m\u001b[1;33m\u001b[0m\u001b[0m\n\u001b[1;32m--> 500\u001b[1;33m         return self.sslsocket_class._create(\n\u001b[0m\u001b[0;32m    501\u001b[0m             \u001b[0msock\u001b[0m\u001b[1;33m=\u001b[0m\u001b[0msock\u001b[0m\u001b[1;33m,\u001b[0m\u001b[1;33m\u001b[0m\u001b[1;33m\u001b[0m\u001b[0m\n\u001b[0;32m    502\u001b[0m             \u001b[0mserver_side\u001b[0m\u001b[1;33m=\u001b[0m\u001b[0mserver_side\u001b[0m\u001b[1;33m,\u001b[0m\u001b[1;33m\u001b[0m\u001b[1;33m\u001b[0m\u001b[0m\n",
      "\u001b[1;32mC:\\anaconda3\\lib\\ssl.py\u001b[0m in \u001b[0;36m_create\u001b[1;34m(cls, sock, server_side, do_handshake_on_connect, suppress_ragged_eofs, server_hostname, context, session)\u001b[0m\n\u001b[0;32m   1038\u001b[0m                         \u001b[1;31m# non-blocking\u001b[0m\u001b[1;33m\u001b[0m\u001b[1;33m\u001b[0m\u001b[1;33m\u001b[0m\u001b[0m\n\u001b[0;32m   1039\u001b[0m                         \u001b[1;32mraise\u001b[0m \u001b[0mValueError\u001b[0m\u001b[1;33m(\u001b[0m\u001b[1;34m\"do_handshake_on_connect should not be specified for non-blocking sockets\"\u001b[0m\u001b[1;33m)\u001b[0m\u001b[1;33m\u001b[0m\u001b[1;33m\u001b[0m\u001b[0m\n\u001b[1;32m-> 1040\u001b[1;33m                     \u001b[0mself\u001b[0m\u001b[1;33m.\u001b[0m\u001b[0mdo_handshake\u001b[0m\u001b[1;33m(\u001b[0m\u001b[1;33m)\u001b[0m\u001b[1;33m\u001b[0m\u001b[1;33m\u001b[0m\u001b[0m\n\u001b[0m\u001b[0;32m   1041\u001b[0m             \u001b[1;32mexcept\u001b[0m \u001b[1;33m(\u001b[0m\u001b[0mOSError\u001b[0m\u001b[1;33m,\u001b[0m \u001b[0mValueError\u001b[0m\u001b[1;33m)\u001b[0m\u001b[1;33m:\u001b[0m\u001b[1;33m\u001b[0m\u001b[1;33m\u001b[0m\u001b[0m\n\u001b[0;32m   1042\u001b[0m                 \u001b[0mself\u001b[0m\u001b[1;33m.\u001b[0m\u001b[0mclose\u001b[0m\u001b[1;33m(\u001b[0m\u001b[1;33m)\u001b[0m\u001b[1;33m\u001b[0m\u001b[1;33m\u001b[0m\u001b[0m\n",
      "\u001b[1;32mC:\\anaconda3\\lib\\ssl.py\u001b[0m in \u001b[0;36mdo_handshake\u001b[1;34m(self, block)\u001b[0m\n\u001b[0;32m   1307\u001b[0m             \u001b[1;32mif\u001b[0m \u001b[0mtimeout\u001b[0m \u001b[1;33m==\u001b[0m \u001b[1;36m0.0\u001b[0m \u001b[1;32mand\u001b[0m \u001b[0mblock\u001b[0m\u001b[1;33m:\u001b[0m\u001b[1;33m\u001b[0m\u001b[1;33m\u001b[0m\u001b[0m\n\u001b[0;32m   1308\u001b[0m                 \u001b[0mself\u001b[0m\u001b[1;33m.\u001b[0m\u001b[0msettimeout\u001b[0m\u001b[1;33m(\u001b[0m\u001b[1;32mNone\u001b[0m\u001b[1;33m)\u001b[0m\u001b[1;33m\u001b[0m\u001b[1;33m\u001b[0m\u001b[0m\n\u001b[1;32m-> 1309\u001b[1;33m             \u001b[0mself\u001b[0m\u001b[1;33m.\u001b[0m\u001b[0m_sslobj\u001b[0m\u001b[1;33m.\u001b[0m\u001b[0mdo_handshake\u001b[0m\u001b[1;33m(\u001b[0m\u001b[1;33m)\u001b[0m\u001b[1;33m\u001b[0m\u001b[1;33m\u001b[0m\u001b[0m\n\u001b[0m\u001b[0;32m   1310\u001b[0m         \u001b[1;32mfinally\u001b[0m\u001b[1;33m:\u001b[0m\u001b[1;33m\u001b[0m\u001b[1;33m\u001b[0m\u001b[0m\n\u001b[0;32m   1311\u001b[0m             \u001b[0mself\u001b[0m\u001b[1;33m.\u001b[0m\u001b[0msettimeout\u001b[0m\u001b[1;33m(\u001b[0m\u001b[0mtimeout\u001b[0m\u001b[1;33m)\u001b[0m\u001b[1;33m\u001b[0m\u001b[1;33m\u001b[0m\u001b[0m\n",
      "\u001b[1;31mKeyboardInterrupt\u001b[0m: "
     ]
    }
   ],
   "source": [
    "site.parcing(task)"
   ]
  },
  {
   "cell_type": "code",
   "execution_count": 52,
   "metadata": {},
   "outputs": [
    {
     "name": "stdout",
     "output_type": "stream",
     "text": [
      "task name: SL_diamonds2022-09-07-17-29\n",
      "links len =  120 \n",
      "\n",
      "{'name': 'SL_diamonds2022-09-07-17-29',\n",
      "'domain': 'https://sunlight.net/',\n",
      "'urls0': 'https://sunlight.net/catalog/diamonds-all.html',\n",
      "'urlslast': 'https://sunlight.net/catalog/diamonds-all/page-3/',\n",
      "'descr': '',\n",
      "'datestr0': '2022-09-07-17-29',\n",
      "'datestr': '2022-09-07-17-34',\n",
      "'parcing': 'results//_reserve_SL_diamonds2022-09-07-17-292022-09-07-17-34.csv',\n",
      "}\n"
     ]
    }
   ],
   "source": [
    "task.print()"
   ]
  },
  {
   "cell_type": "code",
   "execution_count": 271,
   "metadata": {},
   "outputs": [],
   "source": [
    "#task.dict['parcing']='results//_reserve_SL_diamonds2022-09-07-08-07.csv'"
   ]
  },
  {
   "cell_type": "code",
   "execution_count": 53,
   "metadata": {
    "scrolled": true
   },
   "outputs": [
    {
     "name": "stdout",
     "output_type": "stream",
     "text": [
      "не правильный словарь\n",
      "dict записан:  d_SL_diamonds2022-09-07-17-29_2022-09-07-17-34.json\n"
     ]
    }
   ],
   "source": [
    "task.save()"
   ]
  },
  {
   "cell_type": "code",
   "execution_count": 75,
   "metadata": {},
   "outputs": [
    {
     "name": "stdout",
     "output_type": "stream",
     "text": [
      "установка : name2022-09-07-12-52\n"
     ]
    }
   ],
   "source": [
    "t=Dtask({})"
   ]
  },
  {
   "cell_type": "code",
   "execution_count": 76,
   "metadata": {},
   "outputs": [
    {
     "name": "stdout",
     "output_type": "stream",
     "text": [
      "[(0, 'd_SL_diamonds2022-09-06-22-58_2022-09-06-23-02.json'), (1, 'd_SL_diamonds2022-09-07-06-31_2022-09-07-06-34.json'), (2, 'd_SL_diamonds2022-09-07-08-24_2022-09-07-08-25.json'), (3, 'd_SL_diamonds2022-09-07-12-41_2022-09-07-12-51.json'), (4, 'd_SL_diamonds_2022-09-07-08-07.json')]\n",
      "введите номер файла: 3\n",
      "dict загружен :tasklogs/d_SL_diamonds2022-09-07-12-41_2022-09-07-12-51.json,\n",
      " всего        \n",
      " загружены атрибуты dict_keys(['name', 'domain', 'urls0', 'urlslast', 'descr', 'datestr0', 'datestr', 'links', 'parcing'])         \n",
      "надо определить имя, из какого атрибута взять? \n",
      "        [(0, 'name'), (1, 'domain'), (2, 'urls0'), (3, 'urlslast'), (4, 'descr'), (5, 'datestr0'), (6, 'datestr'), (7, 'links'), (8, 'parcing')]\n",
      "номер: 0\n",
      "выбрано - SL_diamonds2022-09-07-12-41\n"
     ]
    }
   ],
   "source": [
    "t.load()"
   ]
  },
  {
   "cell_type": "code",
   "execution_count": 77,
   "metadata": {},
   "outputs": [
    {
     "name": "stdout",
     "output_type": "stream",
     "text": [
      "task name: SL_diamonds2022-09-07-12-41\n",
      "links len =  120 \n",
      "\n",
      "{'name': 'SL_diamonds2022-09-07-12-41',\n",
      "'domain': 'https://sunlight.net/',\n",
      "'urls0': 'https://sunlight.net/catalog/diamonds-all.html',\n",
      "'urlslast': 'https://sunlight.net/catalog/diamonds-all/page-3/',\n",
      "'descr': '',\n",
      "'datestr0': '2022-09-07-12-41',\n",
      "'datestr': '2022-09-07-12-51',\n",
      "'parcing': 'results//_reserve_SL_diamonds2022-09-07-12-412022-09-07-12-51.csv',\n",
      "}\n"
     ]
    }
   ],
   "source": [
    "t.print()"
   ]
  },
  {
   "cell_type": "code",
   "execution_count": null,
   "metadata": {},
   "outputs": [],
   "source": []
  },
  {
   "cell_type": "code",
   "execution_count": null,
   "metadata": {},
   "outputs": [],
   "source": []
  },
  {
   "cell_type": "code",
   "execution_count": null,
   "metadata": {},
   "outputs": [],
   "source": []
  },
  {
   "cell_type": "code",
   "execution_count": null,
   "metadata": {},
   "outputs": [],
   "source": []
  },
  {
   "cell_type": "code",
   "execution_count": null,
   "metadata": {},
   "outputs": [],
   "source": []
  },
  {
   "cell_type": "code",
   "execution_count": null,
   "metadata": {},
   "outputs": [],
   "source": []
  },
  {
   "cell_type": "markdown",
   "metadata": {},
   "source": [
    "## Добываем линки на карточки SUNLIGHT "
   ]
  },
  {
   "cell_type": "code",
   "execution_count": null,
   "metadata": {},
   "outputs": [],
   "source": [
    "#taskname = 'SL_всеЮИ'\n",
    "#taskdescr = '579 стр с фильтром https://sunlight.net/catalog/?material=326,327,328,329,3603,632&product_type=317,319,365,366,373,4,414,478,493,494,5,541,745,8,890'\n",
    "#urls = 'https://sunlight.net/catalog/?material=326,327,328,329,3603,632&product_type=317,319,365,366,373,4,414,478,493,494,5,541,745,8,890'\n",
    "#domain = f'https://sunlight.net'"
   ]
  },
  {
   "cell_type": "code",
   "execution_count": null,
   "metadata": {},
   "outputs": [],
   "source": [
    "#links = []"
   ]
  },
  {
   "cell_type": "code",
   "execution_count": null,
   "metadata": {},
   "outputs": [],
   "source": [
    "\n",
    "links += getlinks_sunl(urls)\n",
    "for i in range(512,598):\n",
    "    #pages = f'page-{i}/'#все \n",
    "    pages = f'&page={i}'#без вставки\n",
    "\n",
    "    print(i, urls+pages)\n",
    "    links += getlinks_sunl(urls+pages)\n",
    "    "
   ]
  },
  {
   "cell_type": "code",
   "execution_count": null,
   "metadata": {},
   "outputs": [],
   "source": [
    "len(links)"
   ]
  },
  {
   "cell_type": "code",
   "execution_count": null,
   "metadata": {},
   "outputs": [],
   "source": [
    "links = list(set(links))"
   ]
  },
  {
   "cell_type": "code",
   "execution_count": null,
   "metadata": {},
   "outputs": [],
   "source": [
    "d2 = Dlinks()"
   ]
  },
  {
   "cell_type": "code",
   "execution_count": null,
   "metadata": {},
   "outputs": [],
   "source": [
    "d2.__doc__"
   ]
  },
  {
   "cell_type": "code",
   "execution_count": null,
   "metadata": {},
   "outputs": [],
   "source": [
    "taskname,  urls, domain, taskdescr"
   ]
  },
  {
   "cell_type": "code",
   "execution_count": null,
   "metadata": {},
   "outputs": [],
   "source": [
    "d2.save(taskname, links, urls, domain, taskdescr)"
   ]
  },
  {
   "cell_type": "code",
   "execution_count": null,
   "metadata": {},
   "outputs": [],
   "source": [
    "links = []"
   ]
  },
  {
   "cell_type": "code",
   "execution_count": null,
   "metadata": {},
   "outputs": [],
   "source": [
    "#def main():\n",
    "\n",
    "#urls = f'https://sunlight.net/catalog/'#все\n",
    "\n",
    "urls = f\"https://sunlight.net/catalog/?stone=1\" #без вставки\n",
    "domain = f'https://sunlight.net'\n",
    "links += getlinks_sunl(urls)\n",
    "for i in range(2,148):\n",
    "    #pages = f'page-{i}/'#все \n",
    "    pages = f'&page={i}'#без вставки\n",
    "\n",
    "    print(i, urls+pages)\n",
    "    links += getlinks_sunl(urls+pages)\n",
    "    "
   ]
  },
  {
   "cell_type": "code",
   "execution_count": null,
   "metadata": {},
   "outputs": [],
   "source": [
    "len(links)"
   ]
  },
  {
   "cell_type": "code",
   "execution_count": null,
   "metadata": {},
   "outputs": [],
   "source": [
    "#drop duplicates subset keep\n",
    "links = list(set(links))"
   ]
  },
  {
   "cell_type": "code",
   "execution_count": null,
   "metadata": {},
   "outputs": [],
   "source": [
    "domain+links[0]"
   ]
  },
  {
   "cell_type": "code",
   "execution_count": null,
   "metadata": {},
   "outputs": [],
   "source": []
  },
  {
   "cell_type": "markdown",
   "metadata": {},
   "source": [
    "## Разработка парсера по карточкам"
   ]
  },
  {
   "cell_type": "code",
   "execution_count": null,
   "metadata": {},
   "outputs": [],
   "source": [
    "#urls = 'https://sunlight.net/catalog/page-3/'"
   ]
  },
  {
   "cell_type": "code",
   "execution_count": null,
   "metadata": {
    "scrolled": false
   },
   "outputs": [],
   "source": [
    "mysoup(urls)"
   ]
  },
  {
   "cell_type": "code",
   "execution_count": null,
   "metadata": {},
   "outputs": [],
   "source": [
    "#def getlinks(urls):\n",
    "quotes = mysoup(urls).find_all('a', class_=\"cl-item-link js-cl-item-link js-cl-item-root-link\")"
   ]
  },
  {
   "cell_type": "code",
   "execution_count": null,
   "metadata": {},
   "outputs": [],
   "source": [
    "len(quotes)"
   ]
  },
  {
   "cell_type": "code",
   "execution_count": null,
   "metadata": {},
   "outputs": [],
   "source": [
    "quotes[1].get(\"href\")"
   ]
  },
  {
   "cell_type": "code",
   "execution_count": null,
   "metadata": {},
   "outputs": [],
   "source": [
    "res = [q.get(\"href\") for q in quotes]\n",
    "#    print(len(res), 'links is ready ' , res[0], '...', res[-1])\n",
    "#    return res\n",
    "    "
   ]
  },
  {
   "cell_type": "code",
   "execution_count": null,
   "metadata": {},
   "outputs": [],
   "source": [
    "res"
   ]
  },
  {
   "cell_type": "code",
   "execution_count": null,
   "metadata": {},
   "outputs": [],
   "source": [
    "<a href=\"/catalog/pendants_90939.html\" class=\"cl-item-link js-cl-item-link js-cl-item-root-link\" itemprop=\"url\">\n",
    "                    <span itemprop=\"name\">Подвеска, вставка: фианит; наносапфир; Серебро 925 пробы.</span>\n",
    "                </a>\n"
   ]
  },
  {
   "cell_type": "code",
   "execution_count": null,
   "metadata": {},
   "outputs": [],
   "source": [
    "<a href=\"/catalog/ring_47781.html\" class=\"cl-item-link js-cl-item-link js-cl-item-root-link\" itemprop=\"url\">\n",
    "                    <span itemprop=\"name\">Кольцо, вставка: фианит; Серебро 925 пробы.</span>\n",
    "                </a>"
   ]
  },
  {
   "cell_type": "markdown",
   "metadata": {},
   "source": [
    "## Собранная функция парсера по карточкам"
   ]
  },
  {
   "cell_type": "markdown",
   "metadata": {},
   "source": [
    "### Версия 29-08-2022 SUNLIGHT"
   ]
  },
  {
   "cell_type": "code",
   "execution_count": null,
   "metadata": {},
   "outputs": [],
   "source": [
    "data = pd.DataFrame(columns=['h1','art','price','price2','gold','gold2','weight','gems','gems2','url'])\n"
   ]
  },
  {
   "cell_type": "code",
   "execution_count": 54,
   "metadata": {},
   "outputs": [],
   "source": [
    "\n",
    "    \n",
    "def byrepost():\n",
    "\n",
    "    def gold(t,patt):\n",
    "        f = re.search(patt,t)\n",
    "        return f.group() if f else 're не найдено'\n",
    "    \n",
    "    pattern_gold = r'[Сс]ереб\\w+|[Зз]олот\\w*|[Сс]таль'\n",
    "    pattern_diam = r'[Бб]риллиант\\w*'\n",
    "    pattern_probe = r'[\\d]{,3}(?=\\s*проб)'\n",
    "    pattern_gramm = r'[\\d.\\d]{,5}(?=г;)'\n",
    "    pattern_vst = r'вставк\\w*'#r'вставк\\w*'\n",
    "    pattern_type = r'(?<=;)\\w+\\s?\\w*'        \n",
    "        \n",
    "    \n",
    "    data['diam'] = data.gold.apply(lambda x: gold(x, pattern_diam))\n",
    "    data['goldsilv'] = data.h1.apply(lambda x: gold(x, pattern_gold))\n",
    "    data['probe'] = data.gold.apply(lambda x: gold(x, pattern_probe))\n",
    "    data['gramm'] = data.gold.apply(lambda x: gold(x, pattern_gramm))\n",
    "    data['vst'] = data.gold.apply(lambda x: gold(x, pattern_vst))\n",
    "    data['type'] = data.gold.apply(lambda x: gold(x, pattern_type))"
   ]
  },
  {
   "cell_type": "code",
   "execution_count": null,
   "metadata": {},
   "outputs": [],
   "source": [
    "byrepost()"
   ]
  },
  {
   "cell_type": "code",
   "execution_count": null,
   "metadata": {},
   "outputs": [],
   "source": [
    "data"
   ]
  },
  {
   "cell_type": "code",
   "execution_count": null,
   "metadata": {},
   "outputs": [],
   "source": [
    "#data = pd.DataFrame(columns=['h1','art','price','price2','gold','gold2','weight','gems','gems2','url'])"
   ]
  },
  {
   "cell_type": "code",
   "execution_count": null,
   "metadata": {},
   "outputs": [],
   "source": [
    "#29-08-2022 for sunlight 6000\n",
    "#25-08-2022 all\n",
    "#06-07-2022 серебро\n",
    "#16-06-2022 Для Алексея Сапфир Изумруд Рубин\n",
    "#24-05-2022\n",
    "#14-04-2022\n",
    "\n",
    "for i in range(len(links)):\n",
    "    try:\n",
    "        row = len(data)\n",
    "        urlcard = domain +links[i]\n",
    "        card = mysoup(urlcard)\n",
    "        data.loc[row,'url'] = urlcard\n",
    "        data.loc[row,'h1'] = card.find(\"h1\").text.strip()\n",
    "        data.loc[row,'art'] = card.find('div', class_=\"supreme-product-card__product-article-text\").text.strip()\n",
    "        data.loc[row,'price'] = card.find('div', class_=\"supreme-product-card__price-discount-price\").text.strip().replace('\\u202f', '').replace('\\xa0', '')\n",
    "        data.loc[row,'price2'] = card.find('div', class_=\"supreme-product-card__price-old\").text.strip().replace('\\u202f', '').replace('\\xa0', '')\n",
    "        a = card.find_all('p', class_=\"supreme-product-card__description supreme-product-card__description_default\")\n",
    "        data.loc[row,'gold'] = ';'.join([x.text for x in a])\n",
    "        data.loc[row,'d1'] = \"&\".join([t.text for t in card.find_all('span', class_=\"supreme-product-card-description__item-text\")])\n",
    "        data.loc[row,'d0'] = \"&\".join([t.text for t in card.find_all('a', class_=\"supreme-product-card-description__item-text\")])\n",
    "        #print(i, urlcard)\n",
    "    except (AttributeError,TypeError) as e:\n",
    "        print('error',e)\n",
    "    except IndexError:\n",
    "        print('indexerror len of = ' , len(card.find_all('div','detail__item-option')) )\n",
    "    print(i, urlcard)\n"
   ]
  },
  {
   "cell_type": "code",
   "execution_count": null,
   "metadata": {},
   "outputs": [],
   "source": []
  },
  {
   "cell_type": "code",
   "execution_count": null,
   "metadata": {},
   "outputs": [],
   "source": [
    "### Поиск ошибки\n",
    "for i in range(4216, 4217):\n",
    "    try:\n",
    "        row = len(data)\n",
    "        urlcard = domain +links[i]\n",
    "        card = mysoup(urlcard)\n",
    "        data.loc[row,'url'] = urlcard\n",
    "        data.loc[row,'h1'] = card.find(\"h1\").text.strip()\n",
    "        data.loc[row,'art'] = card.find('div', class_=\"supreme-product-card__product-article-text\").text.strip()\n",
    "        data.loc[row,'price'] = card.find('div', class_=\"supreme-product-card__price-discount-price\").text.strip().replace('\\u202f', '').replace('\\xa0', '')\n",
    "        data.loc[row,'price2'] = card.find('div', class_=\"supreme-product-card__price-old\").text.strip().replace('\\u202f', '').replace('\\xa0', '')\n",
    "        a = card.find_all('p', class_=\"supreme-product-card__description supreme-product-card__description_default\")\n",
    "        data.loc[row,'gold'] = ';'.join([x.text for x in a])\n",
    "        data.loc[row,'d1'] = \"&\".join([t.text for t in card.find_all('span', class_=\"supreme-product-card-description__item-text\")])\n",
    "        data.loc[row,'d0'] = \"&\".join([t.text for t in card.find_all('a', class_=\"supreme-product-card-description__item-text\")])\n",
    "        #print(i, urlcard)\n",
    "    except (AttributeError,TypeError) as e:\n",
    "        print('error',e)\n",
    "    except IndexError:\n",
    "        print('indexerror len of = ' , len(card.find_all('div','detail__item-option')) )\n",
    "    print(i, urlcard)"
   ]
  },
  {
   "cell_type": "code",
   "execution_count": null,
   "metadata": {},
   "outputs": [],
   "source": []
  },
  {
   "cell_type": "code",
   "execution_count": null,
   "metadata": {},
   "outputs": [],
   "source": []
  },
  {
   "cell_type": "code",
   "execution_count": null,
   "metadata": {},
   "outputs": [],
   "source": []
  },
  {
   "cell_type": "code",
   "execution_count": null,
   "metadata": {},
   "outputs": [],
   "source": []
  },
  {
   "cell_type": "code",
   "execution_count": null,
   "metadata": {},
   "outputs": [],
   "source": []
  },
  {
   "cell_type": "code",
   "execution_count": null,
   "metadata": {},
   "outputs": [],
   "source": []
  },
  {
   "cell_type": "code",
   "execution_count": null,
   "metadata": {},
   "outputs": [],
   "source": []
  },
  {
   "cell_type": "code",
   "execution_count": null,
   "metadata": {},
   "outputs": [],
   "source": [
    "len(data)"
   ]
  },
  {
   "cell_type": "code",
   "execution_count": null,
   "metadata": {},
   "outputs": [],
   "source": [
    "data"
   ]
  },
  {
   "cell_type": "code",
   "execution_count": null,
   "metadata": {},
   "outputs": [],
   "source": []
  },
  {
   "cell_type": "code",
   "execution_count": null,
   "metadata": {},
   "outputs": [],
   "source": []
  },
  {
   "cell_type": "code",
   "execution_count": null,
   "metadata": {},
   "outputs": [],
   "source": [
    "domain+links[0]"
   ]
  },
  {
   "cell_type": "code",
   "execution_count": null,
   "metadata": {},
   "outputs": [],
   "source": [
    "urlcard = domain +links[100]\n",
    "card = mysoup(urlcard)\n"
   ]
  },
  {
   "cell_type": "code",
   "execution_count": null,
   "metadata": {},
   "outputs": [],
   "source": [
    "#collect 29-08-22\n",
    "row = len(data)\n",
    "data.loc[row,'url'] = urlcard\n",
    "data.loc[row,'h1'] = card.find(\"h1\").text.strip()\n",
    "data.loc[row,'art'] = card.find('div', class_=\"supreme-product-card__product-article-text\").text.strip()\n",
    "data.loc[row,'price'] = card.find('div', class_=\"supreme-product-card__price-discount-price\").text.strip().replace('\\u202f', '').replace('\\xa0', '')\n",
    "data.loc[row,'price2'] = card.find('div', class_=\"supreme-product-card__price-old\").text.strip().replace('\\u202f', '').replace('\\xa0', '')\n",
    "a = card.find_all('p', class_=\"supreme-product-card__description supreme-product-card__description_default\")\n",
    "data.loc[row,'gold'] = ';'.join([x.text for x in a])\n",
    "data.loc[row,'d1'] = \"&\".join([t.text for t in card.find_all('span', class_=\"supreme-product-card-description__item-text\")])\n",
    "data.loc[row,'d0'] = \"&\".join([t.text for t in card.find_all('a', class_=\"supreme-product-card-description__item-text\")])"
   ]
  },
  {
   "cell_type": "code",
   "execution_count": null,
   "metadata": {},
   "outputs": [],
   "source": []
  },
  {
   "cell_type": "code",
   "execution_count": null,
   "metadata": {},
   "outputs": [],
   "source": []
  },
  {
   "cell_type": "code",
   "execution_count": null,
   "metadata": {},
   "outputs": [],
   "source": [
    "data"
   ]
  },
  {
   "cell_type": "code",
   "execution_count": null,
   "metadata": {},
   "outputs": [],
   "source": [
    "data.gold.loc[10]"
   ]
  },
  {
   "cell_type": "markdown",
   "metadata": {},
   "source": [
    "## Разработка rе"
   ]
  },
  {
   "cell_type": "code",
   "execution_count": null,
   "metadata": {},
   "outputs": [],
   "source": [
    "pattern_gold = r'[Сс]ереб\\w+|[Зз]олот\\w*|[Сс]таль'\n",
    "pattern_diam = r'[Бб]риллиант\\w*'\n",
    "pattern_probe = r'[\\d]{,3}(?=\\s*проб)'\n",
    "pattern_gramm = r'[\\d.\\d]{,5}(?=г;)'\n",
    "pattern_vst = r'вставк\\w*'#r'вставк\\w*'\n",
    "pattern_type = r'(?<=;)\\w+\\s?\\w*'\n",
    "def gold(t,patt):\n",
    "    f = re.search(patt,t)\n",
    "    return f.group() if f else 're не найдено'"
   ]
  },
  {
   "cell_type": "code",
   "execution_count": null,
   "metadata": {},
   "outputs": [],
   "source": [
    "t = 'Артикул: 114165;Кольцо    \\nБелое золото 585 пробы.;Вес изделия: 3.04г;Кольцо    \\nБелое золото 585 пробы.'\n",
    "re.search(pattern_type,t)"
   ]
  },
  {
   "cell_type": "code",
   "execution_count": null,
   "metadata": {},
   "outputs": [],
   "source": [
    "patt = pattern_type\n",
    "#patt = pattern_diam"
   ]
  },
  {
   "cell_type": "code",
   "execution_count": null,
   "metadata": {},
   "outputs": [],
   "source": [
    "patt"
   ]
  },
  {
   "cell_type": "code",
   "execution_count": null,
   "metadata": {},
   "outputs": [],
   "source": [
    "i = 1\n",
    "gold(data.gold.loc[i],patt), data.gold.loc[i]"
   ]
  },
  {
   "cell_type": "code",
   "execution_count": null,
   "metadata": {},
   "outputs": [],
   "source": [
    "data.gold.apply(lambda x: gold(x, patt)).unique()"
   ]
  },
  {
   "cell_type": "code",
   "execution_count": null,
   "metadata": {},
   "outputs": [],
   "source": [
    "data.gold.apply(lambda x: gold(x, patt)).value_counts()"
   ]
  },
  {
   "cell_type": "code",
   "execution_count": null,
   "metadata": {},
   "outputs": [],
   "source": []
  },
  {
   "cell_type": "code",
   "execution_count": null,
   "metadata": {
    "scrolled": true
   },
   "outputs": [],
   "source": [
    "data[data.gold.apply(lambda x: gold(x, patt))=='Ножной']"
   ]
  },
  {
   "cell_type": "markdown",
   "metadata": {},
   "source": [
    "## Результат первичной обработки "
   ]
  },
  {
   "cell_type": "code",
   "execution_count": 59,
   "metadata": {},
   "outputs": [],
   "source": [
    "#PCH01-09-2022\n",
    "def byrepost(data):\n",
    "    def gold(t, patt):\n",
    "        f = re.search(patt, t)\n",
    "        return f.group() if f else 're не найдено'\n",
    "\n",
    "    pattern_gold = r'[Сс]ереб\\w+|[Зз]олот\\w*|[Сс]таль'\n",
    "    pattern_diam = r'[Бб]риллиант\\w*'\n",
    "    pattern_probe = r'[\\d]{,3}(?=\\s*проб)'\n",
    "    pattern_gramm = r'[\\d.\\d]{,5}(?=г;)'\n",
    "    pattern_vst = r'вставк\\w*'  # r'вставк\\w*'\n",
    "    pattern_type = r'(?<=;)\\w+\\s?\\w*'\n",
    "\n",
    "    data['diam'] = data.gold.apply(lambda x: gold(x, pattern_diam))\n",
    "    data['goldsilv'] = data.h1.apply(lambda x: gold(x, pattern_gold))\n",
    "    data['probe'] = data.gold.apply(lambda x: gold(x, pattern_probe))\n",
    "    data['gramm'] = data.gold.apply(lambda x: gold(x, pattern_gramm))\n",
    "    data['vst'] = data.gold.apply(lambda x: gold(x, pattern_vst))\n",
    "    data['type'] = data.gold.apply(lambda x: gold(x, pattern_type))"
   ]
  },
  {
   "cell_type": "code",
   "execution_count": 60,
   "metadata": {},
   "outputs": [],
   "source": [
    "byrepost(data)"
   ]
  },
  {
   "cell_type": "code",
   "execution_count": 61,
   "metadata": {},
   "outputs": [
    {
     "data": {
      "text/html": [
       "<div>\n",
       "<style scoped>\n",
       "    .dataframe tbody tr th:only-of-type {\n",
       "        vertical-align: middle;\n",
       "    }\n",
       "\n",
       "    .dataframe tbody tr th {\n",
       "        vertical-align: top;\n",
       "    }\n",
       "\n",
       "    .dataframe thead th {\n",
       "        text-align: right;\n",
       "    }\n",
       "</style>\n",
       "<table border=\"1\" class=\"dataframe\">\n",
       "  <thead>\n",
       "    <tr style=\"text-align: right;\">\n",
       "      <th></th>\n",
       "      <th>Unnamed: 0</th>\n",
       "      <th>h1</th>\n",
       "      <th>art</th>\n",
       "      <th>price</th>\n",
       "      <th>price2</th>\n",
       "      <th>gold</th>\n",
       "      <th>gold2</th>\n",
       "      <th>weight</th>\n",
       "      <th>gems</th>\n",
       "      <th>gems2</th>\n",
       "      <th>url</th>\n",
       "      <th>d1</th>\n",
       "      <th>d0</th>\n",
       "      <th>diam</th>\n",
       "      <th>goldsilv</th>\n",
       "      <th>probe</th>\n",
       "      <th>gramm</th>\n",
       "      <th>vst</th>\n",
       "      <th>type</th>\n",
       "    </tr>\n",
       "  </thead>\n",
       "  <tbody>\n",
       "    <tr>\n",
       "      <th>0</th>\n",
       "      <td>0</td>\n",
       "      <td>Золотое кольцо «Бриллианты Якутии»</td>\n",
       "      <td>Артикул: 165495</td>\n",
       "      <td>4990₽</td>\n",
       "      <td>24950₽</td>\n",
       "      <td>Артикул: 165495;Кольцо «Бриллианты Якутии» с 2...</td>\n",
       "      <td>NaN</td>\n",
       "      <td>NaN</td>\n",
       "      <td>NaN</td>\n",
       "      <td>NaN</td>\n",
       "      <td>https://sunlight.net//catalog/ring_165495.html</td>\n",
       "      <td>3101-K5R-04&amp;РОССИЯ&amp;Розовое золото&amp;Бриллиант&amp;0....</td>\n",
       "      <td>Бриллианты Якутии&amp;Бриллианты Якутии</td>\n",
       "      <td>Бриллианты</td>\n",
       "      <td>Золотое</td>\n",
       "      <td>585</td>\n",
       "      <td>0.52</td>\n",
       "      <td>re не найдено</td>\n",
       "      <td>Кольцо</td>\n",
       "    </tr>\n",
       "    <tr>\n",
       "      <th>1</th>\n",
       "      <td>1</td>\n",
       "      <td>Золотое кольцо «Бриллианты Якутии»</td>\n",
       "      <td>Артикул: 146537</td>\n",
       "      <td>11990₽</td>\n",
       "      <td>39967₽</td>\n",
       "      <td>Артикул: 146537;Кольцо «Бриллианты Якутии» с 1...</td>\n",
       "      <td>NaN</td>\n",
       "      <td>NaN</td>\n",
       "      <td>NaN</td>\n",
       "      <td>NaN</td>\n",
       "      <td>https://sunlight.net//catalog/ring_146537.html</td>\n",
       "      <td>70669-K5R-01&amp;РОССИЯ&amp;Розовое золото&amp;Бриллиант&amp;1...</td>\n",
       "      <td>Бриллианты Якутии&amp;Бриллианты Якутии</td>\n",
       "      <td>Бриллианты</td>\n",
       "      <td>Золотое</td>\n",
       "      <td>585</td>\n",
       "      <td>1.23</td>\n",
       "      <td>re не найдено</td>\n",
       "      <td>Кольцо</td>\n",
       "    </tr>\n",
       "    <tr>\n",
       "      <th>2</th>\n",
       "      <td>2</td>\n",
       "      <td>Золотое кольцо «Бриллианты Якутии»</td>\n",
       "      <td>Артикул: 57830</td>\n",
       "      <td>19990₽</td>\n",
       "      <td>66633₽</td>\n",
       "      <td>Артикул: 57830;Кольцо «Бриллианты Якутии» с 1 ...</td>\n",
       "      <td>NaN</td>\n",
       "      <td>NaN</td>\n",
       "      <td>NaN</td>\n",
       "      <td>NaN</td>\n",
       "      <td>https://sunlight.net//catalog/ring_57830.html</td>\n",
       "      <td>0490-K5R-02&amp;РОССИЯ&amp;Розовое золото&amp;Бриллиант&amp;1....</td>\n",
       "      <td>Бриллианты Якутии&amp;Бриллианты Якутии</td>\n",
       "      <td>Бриллианты</td>\n",
       "      <td>Золотое</td>\n",
       "      <td>585</td>\n",
       "      <td>1.76</td>\n",
       "      <td>re не найдено</td>\n",
       "      <td>Кольцо</td>\n",
       "    </tr>\n",
       "    <tr>\n",
       "      <th>3</th>\n",
       "      <td>3</td>\n",
       "      <td>Золотое кольцо «Бриллианты Якутии»</td>\n",
       "      <td>Артикул: 47720</td>\n",
       "      <td>10990₽</td>\n",
       "      <td>36633₽</td>\n",
       "      <td>Артикул: 47720;Кольцо «Бриллианты Якутии» с 1 ...</td>\n",
       "      <td>NaN</td>\n",
       "      <td>NaN</td>\n",
       "      <td>NaN</td>\n",
       "      <td>NaN</td>\n",
       "      <td>https://sunlight.net//catalog/ring_47720.html</td>\n",
       "      <td>0496-K5R-01&amp;РОССИЯ&amp;Розовое золото&amp;Бриллиант&amp;1,...</td>\n",
       "      <td>Бриллианты Якутии&amp;Бриллианты Якутии</td>\n",
       "      <td>Бриллианты</td>\n",
       "      <td>Золотое</td>\n",
       "      <td>585</td>\n",
       "      <td>1.2</td>\n",
       "      <td>re не найдено</td>\n",
       "      <td>Кольцо</td>\n",
       "    </tr>\n",
       "    <tr>\n",
       "      <th>4</th>\n",
       "      <td>4</td>\n",
       "      <td>Золотое кольцо с бриллиантами</td>\n",
       "      <td>Артикул: 108790</td>\n",
       "      <td>9990₽</td>\n",
       "      <td>33300₽</td>\n",
       "      <td>Артикул: 108790;Кольцо с 55 бриллиантами, огра...</td>\n",
       "      <td>NaN</td>\n",
       "      <td>NaN</td>\n",
       "      <td>NaN</td>\n",
       "      <td>NaN</td>\n",
       "      <td>https://sunlight.net//catalog/ring_108790.html</td>\n",
       "      <td>70521-K5R-01&amp;РОССИЯ&amp;Розовое золото&amp;Бриллиант&amp;1...</td>\n",
       "      <td>Бриллианты Якутии&amp;Бриллианты. Классика</td>\n",
       "      <td>бриллиантами</td>\n",
       "      <td>Золотое</td>\n",
       "      <td>585</td>\n",
       "      <td>1.18</td>\n",
       "      <td>re не найдено</td>\n",
       "      <td>Кольцо с</td>\n",
       "    </tr>\n",
       "    <tr>\n",
       "      <th>...</th>\n",
       "      <td>...</td>\n",
       "      <td>...</td>\n",
       "      <td>...</td>\n",
       "      <td>...</td>\n",
       "      <td>...</td>\n",
       "      <td>...</td>\n",
       "      <td>...</td>\n",
       "      <td>...</td>\n",
       "      <td>...</td>\n",
       "      <td>...</td>\n",
       "      <td>...</td>\n",
       "      <td>...</td>\n",
       "      <td>...</td>\n",
       "      <td>...</td>\n",
       "      <td>...</td>\n",
       "      <td>...</td>\n",
       "      <td>...</td>\n",
       "      <td>...</td>\n",
       "      <td>...</td>\n",
       "    </tr>\n",
       "    <tr>\n",
       "      <th>115</th>\n",
       "      <td>115</td>\n",
       "      <td>Золотые серьги с топазами и бриллиантами</td>\n",
       "      <td>Артикул: 54694</td>\n",
       "      <td>24990₽</td>\n",
       "      <td>49980₽</td>\n",
       "      <td>Артикул: 54694;Серьги с 20 бриллиантами, огран...</td>\n",
       "      <td>NaN</td>\n",
       "      <td>NaN</td>\n",
       "      <td>NaN</td>\n",
       "      <td>NaN</td>\n",
       "      <td>https://sunlight.net//catalog/earring_54694.html</td>\n",
       "      <td>9347-C5R-08&amp;РОССИЯ&amp;Розовое золото&amp;Бриллиант; Т...</td>\n",
       "      <td>SERGEY GRIBNYAKOV&amp;ЗОЛОТО. ТОПАЗЫ</td>\n",
       "      <td>бриллиантами</td>\n",
       "      <td>Золотые</td>\n",
       "      <td>585</td>\n",
       "      <td>2.7</td>\n",
       "      <td>re не найдено</td>\n",
       "      <td>Серьги с</td>\n",
       "    </tr>\n",
       "    <tr>\n",
       "      <th>116</th>\n",
       "      <td>116</td>\n",
       "      <td>Золотые серьги с изумрудами и бриллиантами</td>\n",
       "      <td>Артикул: 69297</td>\n",
       "      <td>33990₽</td>\n",
       "      <td>67980₽</td>\n",
       "      <td>Артикул: 69297;Серьги с 26 бриллиантами, огран...</td>\n",
       "      <td>NaN</td>\n",
       "      <td>NaN</td>\n",
       "      <td>NaN</td>\n",
       "      <td>NaN</td>\n",
       "      <td>https://sunlight.net//catalog/earring_69297.html</td>\n",
       "      <td>9945-C5R-05&amp;РОССИЯ&amp;Розовое золото&amp;Бриллиант; И...</td>\n",
       "      <td>SERGEY GRIBNYAKOV&amp;Золото. Изумруды</td>\n",
       "      <td>бриллиантами</td>\n",
       "      <td>Золотые</td>\n",
       "      <td>585</td>\n",
       "      <td>2.83</td>\n",
       "      <td>re не найдено</td>\n",
       "      <td>Серьги с</td>\n",
       "    </tr>\n",
       "    <tr>\n",
       "      <th>117</th>\n",
       "      <td>117</td>\n",
       "      <td>Золотая подвеска «Бриллианты Якутии»</td>\n",
       "      <td>Артикул: 108794</td>\n",
       "      <td>3990₽</td>\n",
       "      <td>39900₽</td>\n",
       "      <td>Артикул: 108794;Подвеска «Бриллианты Якутии» с...</td>\n",
       "      <td>NaN</td>\n",
       "      <td>NaN</td>\n",
       "      <td>NaN</td>\n",
       "      <td>NaN</td>\n",
       "      <td>https://sunlight.net//catalog/pendants_108794....</td>\n",
       "      <td>70530-P5R-01&amp;РОССИЯ&amp;Розовое золото&amp;Бриллиант&amp;0...</td>\n",
       "      <td>Бриллианты Якутии&amp;Бриллианты Якутии</td>\n",
       "      <td>Бриллианты</td>\n",
       "      <td>Золотая</td>\n",
       "      <td>585</td>\n",
       "      <td>0.3</td>\n",
       "      <td>re не найдено</td>\n",
       "      <td>Подвеска</td>\n",
       "    </tr>\n",
       "    <tr>\n",
       "      <th>118</th>\n",
       "      <td>118</td>\n",
       "      <td>Золотые серьги «Бриллианты Якутии»</td>\n",
       "      <td>Артикул: 71405</td>\n",
       "      <td>71990₽</td>\n",
       "      <td>143980₽</td>\n",
       "      <td>Артикул: 71405;Серьги «Бриллианты Якутии» с 2 ...</td>\n",
       "      <td>NaN</td>\n",
       "      <td>NaN</td>\n",
       "      <td>NaN</td>\n",
       "      <td>NaN</td>\n",
       "      <td>https://sunlight.net//catalog/earring_71405.html</td>\n",
       "      <td>3598-C5R-01&amp;РОССИЯ&amp;Розовое золото&amp;Бриллиант&amp;2....</td>\n",
       "      <td>Бриллианты Якутии&amp;Бриллианты Якутии</td>\n",
       "      <td>Бриллианты</td>\n",
       "      <td>Золотые</td>\n",
       "      <td>585</td>\n",
       "      <td>2.99</td>\n",
       "      <td>re не найдено</td>\n",
       "      <td>Серьги</td>\n",
       "    </tr>\n",
       "    <tr>\n",
       "      <th>119</th>\n",
       "      <td>119</td>\n",
       "      <td>Золотые серьги с жемчугом и бриллиантами</td>\n",
       "      <td>Артикул: 313143</td>\n",
       "      <td>20990₽</td>\n",
       "      <td>41980₽</td>\n",
       "      <td>Артикул: 313143;Серьги с 16 бриллиантами, огра...</td>\n",
       "      <td>NaN</td>\n",
       "      <td>NaN</td>\n",
       "      <td>NaN</td>\n",
       "      <td>NaN</td>\n",
       "      <td>https://sunlight.net//catalog/earring_313143.html</td>\n",
       "      <td>71249-С5R-02&amp;РОССИЯ&amp;Бриллиант; Жемчуг&amp;3.3 г</td>\n",
       "      <td>SERGEY GRIBNYAKOV&amp;Золото. Жемчуг</td>\n",
       "      <td>бриллиантами</td>\n",
       "      <td>Золотые</td>\n",
       "      <td>585</td>\n",
       "      <td>3.3</td>\n",
       "      <td>re не найдено</td>\n",
       "      <td>Серьги с</td>\n",
       "    </tr>\n",
       "  </tbody>\n",
       "</table>\n",
       "<p>120 rows × 19 columns</p>\n",
       "</div>"
      ],
      "text/plain": [
       "     Unnamed: 0                                          h1              art  \\\n",
       "0             0          Золотое кольцо «Бриллианты Якутии»  Артикул: 165495   \n",
       "1             1          Золотое кольцо «Бриллианты Якутии»  Артикул: 146537   \n",
       "2             2          Золотое кольцо «Бриллианты Якутии»   Артикул: 57830   \n",
       "3             3          Золотое кольцо «Бриллианты Якутии»   Артикул: 47720   \n",
       "4             4               Золотое кольцо с бриллиантами  Артикул: 108790   \n",
       "..          ...                                         ...              ...   \n",
       "115         115    Золотые серьги с топазами и бриллиантами   Артикул: 54694   \n",
       "116         116  Золотые серьги с изумрудами и бриллиантами   Артикул: 69297   \n",
       "117         117        Золотая подвеска «Бриллианты Якутии»  Артикул: 108794   \n",
       "118         118          Золотые серьги «Бриллианты Якутии»   Артикул: 71405   \n",
       "119         119    Золотые серьги с жемчугом и бриллиантами  Артикул: 313143   \n",
       "\n",
       "      price   price2                                               gold  \\\n",
       "0     4990₽   24950₽  Артикул: 165495;Кольцо «Бриллианты Якутии» с 2...   \n",
       "1    11990₽   39967₽  Артикул: 146537;Кольцо «Бриллианты Якутии» с 1...   \n",
       "2    19990₽   66633₽  Артикул: 57830;Кольцо «Бриллианты Якутии» с 1 ...   \n",
       "3    10990₽   36633₽  Артикул: 47720;Кольцо «Бриллианты Якутии» с 1 ...   \n",
       "4     9990₽   33300₽  Артикул: 108790;Кольцо с 55 бриллиантами, огра...   \n",
       "..      ...      ...                                                ...   \n",
       "115  24990₽   49980₽  Артикул: 54694;Серьги с 20 бриллиантами, огран...   \n",
       "116  33990₽   67980₽  Артикул: 69297;Серьги с 26 бриллиантами, огран...   \n",
       "117   3990₽   39900₽  Артикул: 108794;Подвеска «Бриллианты Якутии» с...   \n",
       "118  71990₽  143980₽  Артикул: 71405;Серьги «Бриллианты Якутии» с 2 ...   \n",
       "119  20990₽   41980₽  Артикул: 313143;Серьги с 16 бриллиантами, огра...   \n",
       "\n",
       "     gold2  weight  gems  gems2  \\\n",
       "0      NaN     NaN   NaN    NaN   \n",
       "1      NaN     NaN   NaN    NaN   \n",
       "2      NaN     NaN   NaN    NaN   \n",
       "3      NaN     NaN   NaN    NaN   \n",
       "4      NaN     NaN   NaN    NaN   \n",
       "..     ...     ...   ...    ...   \n",
       "115    NaN     NaN   NaN    NaN   \n",
       "116    NaN     NaN   NaN    NaN   \n",
       "117    NaN     NaN   NaN    NaN   \n",
       "118    NaN     NaN   NaN    NaN   \n",
       "119    NaN     NaN   NaN    NaN   \n",
       "\n",
       "                                                   url  \\\n",
       "0       https://sunlight.net//catalog/ring_165495.html   \n",
       "1       https://sunlight.net//catalog/ring_146537.html   \n",
       "2        https://sunlight.net//catalog/ring_57830.html   \n",
       "3        https://sunlight.net//catalog/ring_47720.html   \n",
       "4       https://sunlight.net//catalog/ring_108790.html   \n",
       "..                                                 ...   \n",
       "115   https://sunlight.net//catalog/earring_54694.html   \n",
       "116   https://sunlight.net//catalog/earring_69297.html   \n",
       "117  https://sunlight.net//catalog/pendants_108794....   \n",
       "118   https://sunlight.net//catalog/earring_71405.html   \n",
       "119  https://sunlight.net//catalog/earring_313143.html   \n",
       "\n",
       "                                                    d1  \\\n",
       "0    3101-K5R-04&РОССИЯ&Розовое золото&Бриллиант&0....   \n",
       "1    70669-K5R-01&РОССИЯ&Розовое золото&Бриллиант&1...   \n",
       "2    0490-K5R-02&РОССИЯ&Розовое золото&Бриллиант&1....   \n",
       "3    0496-K5R-01&РОССИЯ&Розовое золото&Бриллиант&1,...   \n",
       "4    70521-K5R-01&РОССИЯ&Розовое золото&Бриллиант&1...   \n",
       "..                                                 ...   \n",
       "115  9347-C5R-08&РОССИЯ&Розовое золото&Бриллиант; Т...   \n",
       "116  9945-C5R-05&РОССИЯ&Розовое золото&Бриллиант; И...   \n",
       "117  70530-P5R-01&РОССИЯ&Розовое золото&Бриллиант&0...   \n",
       "118  3598-C5R-01&РОССИЯ&Розовое золото&Бриллиант&2....   \n",
       "119        71249-С5R-02&РОССИЯ&Бриллиант; Жемчуг&3.3 г   \n",
       "\n",
       "                                         d0          diam goldsilv probe  \\\n",
       "0       Бриллианты Якутии&Бриллианты Якутии    Бриллианты  Золотое   585   \n",
       "1       Бриллианты Якутии&Бриллианты Якутии    Бриллианты  Золотое   585   \n",
       "2       Бриллианты Якутии&Бриллианты Якутии    Бриллианты  Золотое   585   \n",
       "3       Бриллианты Якутии&Бриллианты Якутии    Бриллианты  Золотое   585   \n",
       "4    Бриллианты Якутии&Бриллианты. Классика  бриллиантами  Золотое   585   \n",
       "..                                      ...           ...      ...   ...   \n",
       "115        SERGEY GRIBNYAKOV&ЗОЛОТО. ТОПАЗЫ  бриллиантами  Золотые   585   \n",
       "116      SERGEY GRIBNYAKOV&Золото. Изумруды  бриллиантами  Золотые   585   \n",
       "117     Бриллианты Якутии&Бриллианты Якутии    Бриллианты  Золотая   585   \n",
       "118     Бриллианты Якутии&Бриллианты Якутии    Бриллианты  Золотые   585   \n",
       "119        SERGEY GRIBNYAKOV&Золото. Жемчуг  бриллиантами  Золотые   585   \n",
       "\n",
       "    gramm            vst       type  \n",
       "0    0.52  re не найдено    Кольцо   \n",
       "1    1.23  re не найдено    Кольцо   \n",
       "2    1.76  re не найдено    Кольцо   \n",
       "3     1.2  re не найдено    Кольцо   \n",
       "4    1.18  re не найдено   Кольцо с  \n",
       "..    ...            ...        ...  \n",
       "115   2.7  re не найдено   Серьги с  \n",
       "116  2.83  re не найдено   Серьги с  \n",
       "117   0.3  re не найдено  Подвеска   \n",
       "118  2.99  re не найдено    Серьги   \n",
       "119   3.3  re не найдено   Серьги с  \n",
       "\n",
       "[120 rows x 19 columns]"
      ]
     },
     "execution_count": 61,
     "metadata": {},
     "output_type": "execute_result"
    }
   ],
   "source": [
    "data"
   ]
  },
  {
   "cell_type": "code",
   "execution_count": null,
   "metadata": {},
   "outputs": [],
   "source": []
  },
  {
   "cell_type": "code",
   "execution_count": null,
   "metadata": {},
   "outputs": [],
   "source": [
    "data = pd.concat([data,data3000_8000], ignore_index=True)"
   ]
  },
  {
   "cell_type": "code",
   "execution_count": null,
   "metadata": {},
   "outputs": [],
   "source": [
    "#res\n",
    "\n",
    "    data['diam'] = data.gold.apply(lambda x: gold(x, pattern_diam))\n",
    "\n",
    "    data['goldsilv'] = data.h1.apply(lambda x: gold(x, pattern_gold))\n",
    "\n",
    "    data['probe'] = data.gold.apply(lambda x: gold(x, pattern_probe))\n",
    "\n",
    "    data['gramm'] = data.gold.apply(lambda x: gold(x, pattern_gramm))\n",
    "\n",
    "    data['vst'] = data.gold.apply(lambda x: gold(x, pattern_vst))\n",
    "\n",
    "    data['type'] = data.gold.apply(lambda x: gold(x, pattern_type))"
   ]
  },
  {
   "cell_type": "code",
   "execution_count": null,
   "metadata": {},
   "outputs": [],
   "source": [
    "#разработка"
   ]
  },
  {
   "cell_type": "code",
   "execution_count": null,
   "metadata": {},
   "outputs": [],
   "source": [
    "<div class=\"supreme-product-card-description__item-title\">\n",
    "    Бренд\n",
    "  </div>"
   ]
  },
  {
   "cell_type": "code",
   "execution_count": null,
   "metadata": {},
   "outputs": [],
   "source": [
    "card.find_all('span', class_=\"supreme-product-card-description__item-text\")[4].text"
   ]
  },
  {
   "cell_type": "code",
   "execution_count": null,
   "metadata": {},
   "outputs": [],
   "source": [
    "<a href=\"https://sunlight.net/catalog/sergey-gribnyakov.html\" class=\"supreme-product-card-description__item-text\">SERGEY GRIBNYAKOV</a>"
   ]
  },
  {
   "cell_type": "code",
   "execution_count": null,
   "metadata": {},
   "outputs": [],
   "source": []
  },
  {
   "cell_type": "code",
   "execution_count": null,
   "metadata": {},
   "outputs": [],
   "source": [
    "card.find_all('a', class_=\"supreme-product-card-description__item-text\")"
   ]
  },
  {
   "cell_type": "code",
   "execution_count": null,
   "metadata": {},
   "outputs": [],
   "source": [
    "<div class=\"supreme-product-card__product-article-text\">\n",
    "      Артикул: 165495\n",
    "    </div>"
   ]
  },
  {
   "cell_type": "code",
   "execution_count": null,
   "metadata": {},
   "outputs": [],
   "source": [
    "card.find('div', class_=\"supreme-product-card__product-article-text\").text.strip()"
   ]
  },
  {
   "cell_type": "code",
   "execution_count": null,
   "metadata": {},
   "outputs": [],
   "source": [
    "<div class=\"supreme-product-card__price-discount-price\">\n",
    "  5 395&nbsp;₽\n",
    "</div>"
   ]
  },
  {
   "cell_type": "code",
   "execution_count": null,
   "metadata": {},
   "outputs": [],
   "source": [
    "card.find('div', class_=\"supreme-product-card__price-old\").text.strip().replace('\\u202f', '').replace('\\xa0', '')"
   ]
  },
  {
   "cell_type": "code",
   "execution_count": null,
   "metadata": {},
   "outputs": [],
   "source": [
    "card.find('div', class_=\"supreme-product-card__price-discount-price\")"
   ]
  },
  {
   "cell_type": "code",
   "execution_count": null,
   "metadata": {},
   "outputs": [],
   "source": [
    "<div class=\"supreme-product-card__price-old\">\n",
    "  26 975&nbsp;₽\n",
    "</div>"
   ]
  },
  {
   "cell_type": "code",
   "execution_count": null,
   "metadata": {},
   "outputs": [],
   "source": [
    "<p class=\"supreme-product-card__description supreme-product-card__description_default\">Кольцо «Бриллианты Якутии» с 21 бриллиантом, огранка круг 17 граней, 0.04 карат, цвет 2, чистота 2, тип огранки Б; \n",
    "Розовое золото 585 пробы</p>"
   ]
  },
  {
   "cell_type": "code",
   "execution_count": null,
   "metadata": {},
   "outputs": [],
   "source": [
    "a = card.find_all('p', class_=\"supreme-product-card__description supreme-product-card__description_default\")"
   ]
  },
  {
   "cell_type": "code",
   "execution_count": null,
   "metadata": {},
   "outputs": [],
   "source": [
    "a = card.find_all('p', class_=\"supreme-product-card__description supreme-product-card__description_default\")\n",
    "';'.join([x.text for x in a])"
   ]
  },
  {
   "cell_type": "markdown",
   "metadata": {},
   "source": [
    "## Визуализация"
   ]
  },
  {
   "cell_type": "code",
   "execution_count": null,
   "metadata": {},
   "outputs": [],
   "source": []
  },
  {
   "cell_type": "code",
   "execution_count": null,
   "metadata": {},
   "outputs": [],
   "source": []
  },
  {
   "cell_type": "code",
   "execution_count": null,
   "metadata": {},
   "outputs": [],
   "source": [
    " urlcard = domain +links[i]\n",
    "        card = mysoup(urlcard)\n",
    "        row = len(data)\n",
    "        data.loc[row,'url'] = urlcard\n",
    "        data.loc[row,'h1'] = card.find(\"h1\").text.strip()\n",
    "        data.loc[row,'art'] = card.select(\n",
    "            'body > div.grid > div > div > div.shops__breadcrumbs.catalog_breadcrumbs > div > div:nth-child(4) > span > span')[0].text\n",
    "        data.loc[row,'price'] = float(''.join(re.findall(r'\\d+', card.find(\n",
    "            \"div\",\"places-cont__price b-price\").find(\"div\", 'new').text)))\n",
    "        \n",
    "        data.loc[row,'price2'] = float(''.join(re.findall(r'\\d+', card.find('div',\"detail__item-price-new\").text)))\n",
    "        data.loc[row,'gold'] = card.find_all('span','href')[2].text.strip()\n",
    "        data.loc[row,'gold2'] = re.findall(r\"(Золото\\s+\\d+)\",str(card))[0]\n",
    "        data.loc[row,'weight'] = float(re.findall(r\"(?:Вес:</span>\\n)\\s+(\\d+.\\d+)\",str(card))[0])\n",
    "        div_gems = card.select('body > div.grid > div > div > div.detail__item.detail__item--new > div.detail__item-col._3.position-relative > form > div:nth-child(8)')\n",
    "        data.loc[row,'gems'] = re.findall(r'Камни:\\s+([\\w\\W]+)', div_gems[0].text)\n",
    "        div_gems = card.select('body > div.grid > div > div > div.detail__item.detail__item--new > div.detail__item-col._3.position-relative > form > div:nth-child(8)')\n",
    "        data.loc[row,'gems2'] = re.search(r'Камни:\\s+([\\w\\W]+)', str(div_gems[0].text.strip()))[1]"
   ]
  },
  {
   "cell_type": "code",
   "execution_count": null,
   "metadata": {},
   "outputs": [],
   "source": []
  },
  {
   "cell_type": "code",
   "execution_count": null,
   "metadata": {},
   "outputs": [],
   "source": []
  },
  {
   "cell_type": "code",
   "execution_count": null,
   "metadata": {},
   "outputs": [],
   "source": []
  },
  {
   "cell_type": "code",
   "execution_count": null,
   "metadata": {},
   "outputs": [],
   "source": []
  },
  {
   "cell_type": "code",
   "execution_count": null,
   "metadata": {},
   "outputs": [],
   "source": []
  },
  {
   "cell_type": "code",
   "execution_count": null,
   "metadata": {},
   "outputs": [],
   "source": [
    "card.find_all('span','href')[2].text.strip()"
   ]
  },
  {
   "cell_type": "code",
   "execution_count": null,
   "metadata": {},
   "outputs": [],
   "source": [
    "div_gems = card.select('body > div.grid > div > div > div.detail__item.detail__item--new > div.detail__item-col._3.position-relative > form > div:nth-child(8)')\n",
    "#data.loc[row,'gems'] = \n",
    "re.findall(r'Камни:\\s+([\\w\\W]+)', div_gems[0].text)"
   ]
  },
  {
   "cell_type": "code",
   "execution_count": null,
   "metadata": {},
   "outputs": [],
   "source": [
    "#25-08-2022 all\n",
    "#06-07-2022 серебро\n",
    "#16-06-2022 Для Алексея Сапфир Изумруд Рубин\n",
    "#24-05-2022\n",
    "#14-04-2022\n",
    "\n",
    "for i in range(len(links)):\n",
    "    try:\n",
    "        urlcard = domain +links[i]\n",
    "        card = mysoup(urlcard)\n",
    "        row = len(data)\n",
    "        data.loc[row,'url'] = urlcard\n",
    "        data.loc[row,'h1'] = card.find(\"h1\").text.strip()\n",
    "        data.loc[row,'art'] = card.select(\n",
    "            'body > div.grid > div > div > div.shops__breadcrumbs.catalog_breadcrumbs > div > div:nth-child(4) > span > span')[0].text\n",
    "        data.loc[row,'price'] = float(''.join(re.findall(r'\\d+', card.find(\n",
    "            \"div\",\"places-cont__price b-price\").find(\"div\", 'new').text)))\n",
    "        \n",
    "        data.loc[row,'price2'] = float(''.join(re.findall(r'\\d+', card.find('div',\"detail__item-price-new\").text)))\n",
    "        data.loc[row,'gold'] = card.find_all('span','href')[2].text.strip()\n",
    "        data.loc[row,'gold2'] = re.findall(r\"(Золото\\s+\\d+)\",str(card))[0]\n",
    "        data.loc[row,'weight'] = float(re.findall(r\"(?:Вес:</span>\\n)\\s+(\\d+.\\d+)\",str(card))[0])\n",
    "        div_gems = card.select('body > div.grid > div > div > div.detail__item.detail__item--new > div.detail__item-col._3.position-relative > form > div:nth-child(8)')\n",
    "        data.loc[row,'gems'] = re.findall(r'Камни:\\s+([\\w\\W]+)', div_gems[0].text)\n",
    "        div_gems = card.select('body > div.grid > div > div > div.detail__item.detail__item--new > div.detail__item-col._3.position-relative > form > div:nth-child(8)')\n",
    "        data.loc[row,'gems2'] = re.search(r'Камни:\\s+([\\w\\W]+)', str(div_gems[0].text.strip()))[1]\n",
    "        \n",
    "    except (AttributeError,TypeError) as e:\n",
    "        print('error',e)\n",
    "    except IndexError:\n",
    "        print('indexerror len of = ' , len(card.find_all('div','detail__item-option')) )\n",
    "    print(i, urlcard)\n"
   ]
  },
  {
   "cell_type": "code",
   "execution_count": null,
   "metadata": {
    "scrolled": true
   },
   "outputs": [],
   "source": [
    "data"
   ]
  },
  {
   "cell_type": "code",
   "execution_count": null,
   "metadata": {},
   "outputs": [],
   "source": []
  },
  {
   "cell_type": "code",
   "execution_count": null,
   "metadata": {
    "scrolled": true
   },
   "outputs": [],
   "source": [
    "data.to_excel('pars_16-06-2022_muiz_RSE.xlsx')"
   ]
  },
  {
   "cell_type": "code",
   "execution_count": null,
   "metadata": {},
   "outputs": [],
   "source": []
  },
  {
   "cell_type": "markdown",
   "metadata": {},
   "source": [
    "### Версия 14-04-2022"
   ]
  },
  {
   "cell_type": "code",
   "execution_count": null,
   "metadata": {},
   "outputs": [],
   "source": [
    "data = pd.DataFrame(columns=['h1','art','price','gold','weight','gems','url'])"
   ]
  },
  {
   "cell_type": "code",
   "execution_count": null,
   "metadata": {},
   "outputs": [],
   "source": [
    "#16-06-2022 Для Алексея Сапфир Изумруд Рубин\n",
    "#24-05-2022\n",
    "#14-04-2022\n",
    "\n",
    "for i in range(len(links)):\n",
    "    try:\n",
    "        urlcard = domain +links[i]\n",
    "        card = mysoup(urlcard)\n",
    "        row = len(data)\n",
    "        data.loc[row,'url'] = urlcard\n",
    "        data.loc[row,'h1'] = card.find(\"h1\").text.strip()\n",
    "        data.loc[row,'art'] = card.select(\n",
    "            'body > div.grid > div > div > div.shops__breadcrumbs.catalog_breadcrumbs > div > div:nth-child(4) > span > span')[0].text\n",
    "        data.loc[row,'price'] = float(''.join(re.findall(r'\\d+', card.find(\n",
    "            \"div\",\"places-cont__price b-price\").find(\"div\", 'new').text)))\n",
    "        \n",
    "        #data.loc[row,'price'] = float(''.join(re.findall(r'\\d+', card.find('div',\"detail__item-price-new\").text)))\n",
    "        data.loc[row,'gold'] = re.findall(r\"(Золото\\s+\\d+)\",str(card))[0]\n",
    "        data.loc[row,'weight'] = float(re.findall(r\"(?:Вес:</span>\\n)\\s+(\\d+.\\d+)\",str(card))[0])\n",
    "        div_gems = card.select('body > div.grid > div > div > div.detail__item.detail__item--new > div.detail__item-col._3.position-relative > form > div:nth-child(8)')\n",
    "        data.loc[row,'gems'] = re.search(r'Камни:\\s+([\\w\\W]+)', str(div_gems[0].text.strip()))[1]\n",
    "    except (AttributeError,TypeError) as e:\n",
    "        print('error',e)\n",
    "    except IndexError:\n",
    "        print('indexerror len of = ' , len(card.find_all('div','detail__item-option')) )\n",
    "    print(i, urlcard)\n"
   ]
  },
  {
   "cell_type": "markdown",
   "metadata": {},
   "source": [
    "## save res"
   ]
  },
  {
   "cell_type": "code",
   "execution_count": null,
   "metadata": {},
   "outputs": [],
   "source": [
    "import os"
   ]
  },
  {
   "cell_type": "code",
   "execution_count": null,
   "metadata": {},
   "outputs": [],
   "source": [
    "folders = os.listdir()\n",
    "[q for q in (enumerate(folders))]"
   ]
  },
  {
   "cell_type": "code",
   "execution_count": null,
   "metadata": {},
   "outputs": [],
   "source": [
    "resfolder = folders[26]\n"
   ]
  },
  {
   "cell_type": "code",
   "execution_count": null,
   "metadata": {},
   "outputs": [],
   "source": [
    "resfolder"
   ]
  },
  {
   "cell_type": "code",
   "execution_count": null,
   "metadata": {},
   "outputs": [],
   "source": [
    "data.to_excel(resfolder+'/'+'sunlight_test01092022.xlsx')\n"
   ]
  },
  {
   "cell_type": "code",
   "execution_count": null,
   "metadata": {},
   "outputs": [],
   "source": [
    "files = os.listdir('results/')\n",
    "[f for f in enumerate(files)]"
   ]
  },
  {
   "cell_type": "code",
   "execution_count": null,
   "metadata": {},
   "outputs": [],
   "source": [
    "data = pd.read_csv('results/'+files[9])"
   ]
  },
  {
   "cell_type": "code",
   "execution_count": null,
   "metadata": {},
   "outputs": [],
   "source": [
    "data.loc[1200,'h1']= 1111"
   ]
  },
  {
   "cell_type": "code",
   "execution_count": null,
   "metadata": {},
   "outputs": [],
   "source": [
    "data"
   ]
  },
  {
   "cell_type": "code",
   "execution_count": null,
   "metadata": {},
   "outputs": [],
   "source": [
    "#06-07-2022 серебро\n",
    "#16-06-2022 Для Алексея Сапфир Изумруд Рубин\n",
    "#24-05-2022\n",
    "#14-04-2022\n",
    "\n",
    "for i in range(0,5):# len(links)):\n",
    "    try:\n",
    "        urlcard = domain +links[i]\n",
    "        card = mysoup(urlcard)\n",
    "        row = len(data)\n",
    "        data.loc[row,'url'] = urlcard\n",
    "        data.loc[row,'h1'] = card.find(\"h1\").text.strip()\n",
    "        data.loc[row,'art'] = card.select(\n",
    "            'body > div.grid > div > div > div.shops__breadcrumbs.catalog_breadcrumbs > div > div:nth-child(4) > span > span')[0].text\n",
    "        data.loc[row,'price'] = float(''.join(re.findall(r'\\d+', card.find(\n",
    "            \"div\",\"places-cont__price b-price\").find(\"div\", 'new').text)))\n",
    "        \n",
    "        #data.loc[row,'price'] = float(''.join(re.findall(r'\\d+', card.find('div',\"detail__item-price-new\").text)))\n",
    "        data.loc[row,'gold'] = card.find_all('span','href')[2].text.strip()\n",
    "        #data.loc[row,'gold'] = re.findall(r\"(Золото\\s+\\d+)\",str(card))[0]\n",
    "        data.loc[row,'weight'] = float(re.findall(r\"(?:Вес:</span>\\n)\\s+(\\d+.\\d+)\",str(card))[0])\n",
    "        #div_gems = card.select('body > div.grid > div > div > div.detail__item.detail__item--new > div.detail__item-col._3.position-relative > form > div:nth-child(8)')\n",
    "        #data.loc[row,'gems'] = re.search(r'Камни:\\s+([\\w\\W]+)', str(div_gems[0].text.strip()))[1]\n",
    "        div_gems = card.select('body > div.grid > div > div > div.detail__item.detail__item--new > div.detail__item-col._3.position-relative > form > div:nth-child(8)')\n",
    "        data.loc[row,'gems'] = re.findall(r'Камни:\\s+([\\w\\W]+)', div_gems[0].text)\n",
    "        \n",
    "    except (AttributeError,TypeError) as e:\n",
    "        print('error',e)\n",
    "    except IndexError:\n",
    "        print('indexerror len of = ' , len(card.find_all('div','detail__item-option')) )\n",
    "    print(i, urlcard)"
   ]
  },
  {
   "cell_type": "code",
   "execution_count": null,
   "metadata": {},
   "outputs": [],
   "source": []
  },
  {
   "cell_type": "code",
   "execution_count": null,
   "metadata": {},
   "outputs": [],
   "source": [
    "import os"
   ]
  },
  {
   "cell_type": "code",
   "execution_count": null,
   "metadata": {},
   "outputs": [],
   "source": [
    "def fold(sourcepath):\n",
    "    folders = os.listdir(sourcepath)\n",
    "    print(*[nf for nf in enumerate(folders)] )\n",
    "    case = input (sourcepath)\n",
    "    if case.isdigit():\n",
    "        sourcepath += folders[int(case)]+\"/\"\n",
    "        sourcepath = fold(sourcepath)\n",
    "        return sourcepath\n",
    "    else: \n",
    "        print(sourcepath)\n",
    "        return sourcepath\n"
   ]
  },
  {
   "cell_type": "code",
   "execution_count": null,
   "metadata": {},
   "outputs": [],
   "source": [
    "def source():\n",
    "    \n",
    "    p0 = input('path UR-JVV/Users/DAS/Desktop/GM TMP/A Переоценка/ y or enter')\n",
    "    sourcepath = fold(r'//UR-JVV/Users/DAS/Desktop/GM TMP/A Переоценка/' if p0 == 'y' else p0)\n",
    "    #'for_site2-1922-1.xlsx'\n",
    "    files =os.listdir(sourcepath)\n",
    "    \n",
    "    filename = files[int(input([n for n in enumerate(files)]))]\n",
    "    print('filename',filename)\n",
    "    if not input(\"y?\")=='y':\n",
    "        print('aborded')\n",
    "        return False\n",
    "    #df, file_in = load_df(sourcepath+filename)\n",
    "    print('test columns in ', (sourcepath+filename))\n",
    "    return sourcepath, filename\n",
    "#E:/OM2022/PEREOZENKA/ГИИС"
   ]
  },
  {
   "cell_type": "code",
   "execution_count": null,
   "metadata": {},
   "outputs": [],
   "source": [
    "sourcepath, filename = source()\n"
   ]
  },
  {
   "cell_type": "code",
   "execution_count": null,
   "metadata": {},
   "outputs": [],
   "source": [
    "\n",
    "sourcepath, filename"
   ]
  },
  {
   "cell_type": "code",
   "execution_count": null,
   "metadata": {},
   "outputs": [],
   "source": [
    "df = pd.read_csv(sourcepath+filename)#.drop(columns='Unnamed: 0')"
   ]
  },
  {
   "cell_type": "code",
   "execution_count": null,
   "metadata": {},
   "outputs": [],
   "source": [
    "df"
   ]
  },
  {
   "cell_type": "markdown",
   "metadata": {},
   "source": [
    "## Загрузка обработка"
   ]
  },
  {
   "cell_type": "code",
   "execution_count": 12,
   "metadata": {},
   "outputs": [
    {
     "ename": "KeyError",
     "evalue": "'parcing'",
     "output_type": "error",
     "traceback": [
      "\u001b[1;31m---------------------------------------------------------------------------\u001b[0m",
      "\u001b[1;31mKeyError\u001b[0m                                  Traceback (most recent call last)",
      "\u001b[1;32m<ipython-input-12-fb730cab9a2e>\u001b[0m in \u001b[0;36m<module>\u001b[1;34m\u001b[0m\n\u001b[1;32m----> 1\u001b[1;33m \u001b[0mtask\u001b[0m\u001b[1;33m.\u001b[0m\u001b[0mdict\u001b[0m\u001b[1;33m[\u001b[0m\u001b[1;34m'parcing'\u001b[0m\u001b[1;33m]\u001b[0m\u001b[1;33m\u001b[0m\u001b[1;33m\u001b[0m\u001b[0m\n\u001b[0m",
      "\u001b[1;31mKeyError\u001b[0m: 'parcing'"
     ]
    }
   ],
   "source": [
    "task.dict['parcing']"
   ]
  },
  {
   "cell_type": "code",
   "execution_count": 57,
   "metadata": {},
   "outputs": [],
   "source": [
    "data = pd.read_csv(task.dict['parcing']) "
   ]
  },
  {
   "cell_type": "code",
   "execution_count": 11,
   "metadata": {},
   "outputs": [
    {
     "ename": "NameError",
     "evalue": "name 'data' is not defined",
     "output_type": "error",
     "traceback": [
      "\u001b[1;31m---------------------------------------------------------------------------\u001b[0m",
      "\u001b[1;31mNameError\u001b[0m                                 Traceback (most recent call last)",
      "\u001b[1;32m<ipython-input-11-c5d84736ba45>\u001b[0m in \u001b[0;36m<module>\u001b[1;34m\u001b[0m\n\u001b[1;32m----> 1\u001b[1;33m \u001b[0mdata\u001b[0m\u001b[1;33m\u001b[0m\u001b[1;33m\u001b[0m\u001b[0m\n\u001b[0m",
      "\u001b[1;31mNameError\u001b[0m: name 'data' is not defined"
     ]
    }
   ],
   "source": [
    "data"
   ]
  },
  {
   "cell_type": "code",
   "execution_count": null,
   "metadata": {},
   "outputs": [],
   "source": []
  },
  {
   "cell_type": "code",
   "execution_count": null,
   "metadata": {},
   "outputs": [],
   "source": [
    "df = pd.read_excel('results/mius_серебро790_06072022.xlsx').drop(columns='Unnamed: 0')"
   ]
  },
  {
   "cell_type": "code",
   "execution_count": null,
   "metadata": {},
   "outputs": [],
   "source": [
    "df.columns"
   ]
  },
  {
   "cell_type": "code",
   "execution_count": null,
   "metadata": {},
   "outputs": [],
   "source": [
    "df.dropna(subset=['weight'], inplace = True)"
   ]
  },
  {
   "cell_type": "code",
   "execution_count": null,
   "metadata": {},
   "outputs": [],
   "source": []
  },
  {
   "cell_type": "code",
   "execution_count": null,
   "metadata": {},
   "outputs": [],
   "source": [
    "#t = 'Серьги c фианитами E2029-1210015246-Z'\n",
    "#t = 'Кольцо c фианитами R4150-S-LR19653'\n",
    "t2 = 'Кольцо c жемчугом, сапфирами и фианитами R4150-S-LRP34769S'\n",
    "t = 'Кольцо fdfd'"
   ]
  },
  {
   "cell_type": "code",
   "execution_count": null,
   "metadata": {},
   "outputs": [],
   "source": [
    "patt_h1_0 = r'([\\w\\W]+)(?= [A-Z]\\d)+?'"
   ]
  },
  {
   "cell_type": "code",
   "execution_count": null,
   "metadata": {},
   "outputs": [],
   "source": [
    " r'([\\w\\W]+)(?= [A-Z]\\d)+?'"
   ]
  },
  {
   "cell_type": "code",
   "execution_count": null,
   "metadata": {},
   "outputs": [],
   "source": [
    "re.search(patt_h1_0, t2)[1].strip()"
   ]
  },
  {
   "cell_type": "code",
   "execution_count": null,
   "metadata": {},
   "outputs": [],
   "source": [
    "re.search( r'([\\w\\W]+)', t)[1].strip()"
   ]
  },
  {
   "cell_type": "code",
   "execution_count": null,
   "metadata": {},
   "outputs": [],
   "source": [
    "df['h1_0'] = df.h1.apply(lambda x: re.search(patt, x)[1] if re.search(patt, x) else x)"
   ]
  },
  {
   "cell_type": "code",
   "execution_count": null,
   "metadata": {},
   "outputs": [],
   "source": [
    "patt = patt_h1_0\n",
    "for n,x in enumerate(df.h1):\n",
    "    print(n, x,' -- ', (lambda x: re.search(patt, x)[1] if re.search(patt, x) else x)(x))#.strip())"
   ]
  },
  {
   "cell_type": "code",
   "execution_count": null,
   "metadata": {},
   "outputs": [],
   "source": []
  },
  {
   "cell_type": "code",
   "execution_count": null,
   "metadata": {},
   "outputs": [],
   "source": [
    "str(patt_h1_0)"
   ]
  },
  {
   "cell_type": "code",
   "execution_count": null,
   "metadata": {},
   "outputs": [],
   "source": []
  },
  {
   "cell_type": "code",
   "execution_count": null,
   "metadata": {
    "scrolled": true
   },
   "outputs": [],
   "source": [
    "df.loc[:]"
   ]
  },
  {
   "cell_type": "code",
   "execution_count": null,
   "metadata": {},
   "outputs": [],
   "source": [
    "df['gemsstr'] = df['gems'].str.replace('\\[|\\]','').str.strip(\"'\")\n",
    "\n",
    "df['gemslist'] = df.gemsstr.str.split(';')"
   ]
  },
  {
   "cell_type": "code",
   "execution_count": null,
   "metadata": {},
   "outputs": [],
   "source": [
    "df['gemslist'].map(len).unique()"
   ]
  },
  {
   "cell_type": "code",
   "execution_count": null,
   "metadata": {},
   "outputs": [],
   "source": [
    "df['lengem'] = df['gemslist'].map(len)"
   ]
  },
  {
   "cell_type": "code",
   "execution_count": null,
   "metadata": {},
   "outputs": [],
   "source": [
    "df.loc[df['gemslist'].map(len) <= 2, ['gems','gemslist','lengem']]"
   ]
  },
  {
   "cell_type": "code",
   "execution_count": null,
   "metadata": {},
   "outputs": [],
   "source": [
    "sum(df['gemslist'].map(len) > 2)"
   ]
  },
  {
   "cell_type": "code",
   "execution_count": null,
   "metadata": {},
   "outputs": [],
   "source": [
    "df['gem01'] = df['gemslist'].apply(lambda x: x[0])"
   ]
  },
  {
   "cell_type": "code",
   "execution_count": null,
   "metadata": {},
   "outputs": [],
   "source": []
  },
  {
   "cell_type": "code",
   "execution_count": null,
   "metadata": {},
   "outputs": [],
   "source": [
    "df.columns"
   ]
  },
  {
   "cell_type": "code",
   "execution_count": null,
   "metadata": {},
   "outputs": [],
   "source": [
    "df01 = df.loc[df['gemslist'].map(len) <= 2, ['h1_0','h1','gems', 'price', 'gold', 'weight','gem01', 'url','lengem']]"
   ]
  },
  {
   "cell_type": "code",
   "execution_count": null,
   "metadata": {},
   "outputs": [],
   "source": [
    "df01"
   ]
  },
  {
   "cell_type": "code",
   "execution_count": null,
   "metadata": {},
   "outputs": [],
   "source": [
    "t = '38 Фианитов огранки \"Круглая\", 0.34 карат'"
   ]
  },
  {
   "cell_type": "code",
   "execution_count": null,
   "metadata": {},
   "outputs": [],
   "source": [
    "dic={}"
   ]
  },
  {
   "cell_type": "code",
   "execution_count": null,
   "metadata": {},
   "outputs": [],
   "source": [
    "re.match(r'\\d+',t)[0] \n",
    "dic['шт_вст'] = r'\\d+'"
   ]
  },
  {
   "cell_type": "code",
   "execution_count": null,
   "metadata": {},
   "outputs": [],
   "source": [
    "\n",
    "dic['карат_вст'] = r'[\\d.\\d]+(?= карат)'\n",
    "re.search(dic['карат_вст'],t)[0]"
   ]
  },
  {
   "cell_type": "code",
   "execution_count": null,
   "metadata": {},
   "outputs": [],
   "source": [
    "dic['описание_вст'] = r'(?!\\d+).+(?=,)'\n",
    "re.search(dic['описание_вст'],t)[0]"
   ]
  },
  {
   "cell_type": "code",
   "execution_count": null,
   "metadata": {},
   "outputs": [],
   "source": [
    "for c in dic.items():\n",
    "    print(c)\n",
    "    df01[c[0]] = df01.gem01.apply(lambda x: re.search(c[1],x)[0] if re.search(c[1],x) else '')"
   ]
  },
  {
   "cell_type": "code",
   "execution_count": null,
   "metadata": {},
   "outputs": [],
   "source": [
    "for n, x in enumerate(df01.gem01):\n",
    "    print(n,x,'---> ', re.search(r'[\\d.\\d]+(?= карат)',x)[0] if re.search(r'[\\d.\\d]+(?= карат)',x) else '')"
   ]
  },
  {
   "cell_type": "code",
   "execution_count": null,
   "metadata": {
    "scrolled": true
   },
   "outputs": [],
   "source": [
    "df01"
   ]
  },
  {
   "cell_type": "code",
   "execution_count": null,
   "metadata": {},
   "outputs": [],
   "source": []
  },
  {
   "cell_type": "code",
   "execution_count": null,
   "metadata": {},
   "outputs": [],
   "source": [
    "resfolder"
   ]
  },
  {
   "cell_type": "code",
   "execution_count": null,
   "metadata": {},
   "outputs": [],
   "source": [
    "df01.to_excel(resfolder+'/'+'нефть1сорт_серебро_мюз_604_06-07-2022.xlsx')"
   ]
  },
  {
   "cell_type": "code",
   "execution_count": null,
   "metadata": {},
   "outputs": [],
   "source": []
  },
  {
   "cell_type": "code",
   "execution_count": null,
   "metadata": {},
   "outputs": [],
   "source": []
  },
  {
   "cell_type": "code",
   "execution_count": null,
   "metadata": {},
   "outputs": [],
   "source": []
  },
  {
   "cell_type": "code",
   "execution_count": null,
   "metadata": {},
   "outputs": [],
   "source": []
  },
  {
   "cell_type": "code",
   "execution_count": null,
   "metadata": {},
   "outputs": [],
   "source": []
  },
  {
   "cell_type": "code",
   "execution_count": null,
   "metadata": {},
   "outputs": [],
   "source": []
  },
  {
   "cell_type": "code",
   "execution_count": null,
   "metadata": {},
   "outputs": [],
   "source": []
  },
  {
   "cell_type": "code",
   "execution_count": null,
   "metadata": {},
   "outputs": [],
   "source": []
  },
  {
   "cell_type": "code",
   "execution_count": null,
   "metadata": {},
   "outputs": [],
   "source": [
    "df['IDizd'] = df.index"
   ]
  },
  {
   "cell_type": "code",
   "execution_count": null,
   "metadata": {},
   "outputs": [],
   "source": [
    "df.columns"
   ]
  },
  {
   "cell_type": "code",
   "execution_count": null,
   "metadata": {},
   "outputs": [],
   "source": [
    "df.explode(\"gemslist\")  #[[\"IDizd\",\"gemslist\"]]"
   ]
  },
  {
   "cell_type": "code",
   "execution_count": null,
   "metadata": {},
   "outputs": [],
   "source": []
  },
  {
   "cell_type": "markdown",
   "metadata": {},
   "source": [
    "### Отступление, о том как это превратилось в текст и когда, и как я обратно в лист"
   ]
  },
  {
   "cell_type": "code",
   "execution_count": null,
   "metadata": {},
   "outputs": [],
   "source": [
    "from bs4 import BeautifulSoup\n",
    "import requests\n",
    "from requests import Request, Session\n",
    "import pandas as pd"
   ]
  },
  {
   "cell_type": "code",
   "execution_count": null,
   "metadata": {},
   "outputs": [],
   "source": [
    "import re"
   ]
  },
  {
   "cell_type": "code",
   "execution_count": null,
   "metadata": {},
   "outputs": [],
   "source": [
    "def mysoup(urls):\n",
    "    response = requests.get(urls)\n",
    "    return BeautifulSoup(response.text, 'lxml')   "
   ]
  },
  {
   "cell_type": "code",
   "execution_count": null,
   "metadata": {},
   "outputs": [],
   "source": [
    "card = mysoup('https://miuz.ru/catalog/rings/R4150-S-LRP34775CP/')"
   ]
  },
  {
   "cell_type": "code",
   "execution_count": null,
   "metadata": {},
   "outputs": [],
   "source": [
    "div_gems = card.select('body > div.grid > div > \\\n",
    "div > div.detail__item.detail__item--new > \\\n",
    "div.detail__item-col._3.position-relative >\\\n",
    "form > div:nth-child(8)')\n",
    "a = re.findall(r'Камни:\\s+([\\w\\W]+)', div_gems[0].text)\n",
    "a, type(a)"
   ]
  },
  {
   "cell_type": "code",
   "execution_count": null,
   "metadata": {},
   "outputs": [],
   "source": [
    "data = pd.DataFrame(columns=['h1','art','price','gold','weight','gems','url'])\n",
    "data.loc[len(data),'gems'] = a"
   ]
  },
  {
   "cell_type": "code",
   "execution_count": null,
   "metadata": {},
   "outputs": [],
   "source": [
    "data['gems']"
   ]
  },
  {
   "cell_type": "code",
   "execution_count": null,
   "metadata": {},
   "outputs": [],
   "source": [
    "data.loc[0,'gems'], type(data.loc[0,'gems'])"
   ]
  },
  {
   "cell_type": "code",
   "execution_count": null,
   "metadata": {},
   "outputs": [],
   "source": [
    "data.to_excel('data.xlsx', index=None)"
   ]
  },
  {
   "cell_type": "code",
   "execution_count": null,
   "metadata": {},
   "outputs": [],
   "source": [
    "data_e = pd.read_excel('data.xlsx')"
   ]
  },
  {
   "cell_type": "code",
   "execution_count": null,
   "metadata": {},
   "outputs": [],
   "source": [
    "data_e['gems']"
   ]
  },
  {
   "cell_type": "code",
   "execution_count": null,
   "metadata": {},
   "outputs": [],
   "source": [
    "data_e.loc[0,'gems'] , type(df.loc[0,'gems'])"
   ]
  },
  {
   "cell_type": "code",
   "execution_count": null,
   "metadata": {
    "scrolled": true
   },
   "outputs": [],
   "source": [
    "data_e['gems_list'] = data_e['gems'].str.replace('\\[|\\]','').str.strip(\"'\").str.split(';')"
   ]
  },
  {
   "cell_type": "code",
   "execution_count": null,
   "metadata": {},
   "outputs": [],
   "source": [
    "pd.options.display.max_colwidth = 200"
   ]
  },
  {
   "cell_type": "code",
   "execution_count": null,
   "metadata": {},
   "outputs": [],
   "source": [
    "data_e[['gems','gems_list']]"
   ]
  },
  {
   "cell_type": "code",
   "execution_count": null,
   "metadata": {
    "scrolled": true
   },
   "outputs": [],
   "source": [
    "data_e.loc[0,'gems_list'] , type(data_e.loc[0,'gems_list'])"
   ]
  },
  {
   "cell_type": "code",
   "execution_count": null,
   "metadata": {},
   "outputs": [],
   "source": [
    "### Отступление, о том как это превратилось в текст и когда, и как я обратно в лист\n",
    "\n",
    "from bs4 import BeautifulSoup\n",
    "import requests\n",
    "from requests import Request, Session\n",
    "import pandas as pd\n",
    "\n",
    "import re\n",
    "\n",
    "def mysoup(urls):\n",
    "    response = requests.get(urls)\n",
    "    return BeautifulSoup(response.text, 'lxml')   \n",
    "\n",
    "card = mysoup('https://miuz.ru/catalog/rings/R4150-S-LRP34775CP/')\n",
    "\n",
    "div_gems = card.select('body > div.grid > div > \\\n",
    "div > div.detail__item.detail__item--new > \\\n",
    "div.detail__item-col._3.position-relative >\\\n",
    "form > div:nth-child(8)')\n",
    "a = re.findall(r'Камни:\\s+([\\w\\W]+)', div_gems[0].text)\n",
    "a, type(a)\n",
    "\n",
    "data = pd.DataFrame(columns=['h1','art','price','gold','weight','gems','url'])\n",
    "data.loc[len(data),'gems'] = a\n",
    "\n",
    "data['gems']\n",
    "\n",
    "data.loc[0,'gems'], type(data.loc[0,'gems'])\n",
    "\n",
    "data.to_excel('data.xlsx', index=None)\n",
    "\n",
    "data_e = pd.read_excel('data.xlsx')\n",
    "\n",
    "data_e['gems']\n",
    "\n",
    "data_e.loc[0,'gems'] , type(data_e.loc[0,'gems'])\n",
    "\n",
    "data_e['gems_list'] = data_e['gems'].str.replace('\\[|\\]','').str.strip(\"'\").str.split(';')\n",
    "\n",
    "pd.options.display.max_colwidth = 200\n",
    "\n",
    "data_e[['gems','gems_list']]\n",
    "\n",
    "data_e.loc[0,'gems_list'] , type(data_e.loc[0,'gems_list'])"
   ]
  },
  {
   "cell_type": "code",
   "execution_count": null,
   "metadata": {},
   "outputs": [],
   "source": []
  },
  {
   "cell_type": "code",
   "execution_count": null,
   "metadata": {},
   "outputs": [],
   "source": []
  },
  {
   "cell_type": "code",
   "execution_count": null,
   "metadata": {},
   "outputs": [],
   "source": []
  },
  {
   "cell_type": "code",
   "execution_count": null,
   "metadata": {},
   "outputs": [],
   "source": []
  },
  {
   "cell_type": "code",
   "execution_count": null,
   "metadata": {},
   "outputs": [],
   "source": [
    "df"
   ]
  },
  {
   "cell_type": "code",
   "execution_count": null,
   "metadata": {},
   "outputs": [],
   "source": [
    "df.drop(columns='gemsl', inplace=True)"
   ]
  },
  {
   "cell_type": "code",
   "execution_count": null,
   "metadata": {},
   "outputs": [],
   "source": []
  },
  {
   "cell_type": "code",
   "execution_count": null,
   "metadata": {},
   "outputs": [],
   "source": [
    "s = \"one [two] three [1] [2]\"\n",
    "print(re.sub('\\[|\\]', '', s))"
   ]
  },
  {
   "cell_type": "code",
   "execution_count": null,
   "metadata": {},
   "outputs": [],
   "source": []
  },
  {
   "cell_type": "code",
   "execution_count": null,
   "metadata": {},
   "outputs": [],
   "source": []
  },
  {
   "cell_type": "code",
   "execution_count": null,
   "metadata": {},
   "outputs": [],
   "source": []
  },
  {
   "cell_type": "code",
   "execution_count": null,
   "metadata": {},
   "outputs": [],
   "source": []
  },
  {
   "cell_type": "markdown",
   "metadata": {},
   "source": [
    "# NOTE"
   ]
  },
  {
   "cell_type": "code",
   "execution_count": null,
   "metadata": {},
   "outputs": [],
   "source": [
    "#Нужная - перезапуск модулей и классов\n",
    "import importlib \n",
    "\n",
    "import classes_parsing #https://stackoverflow.com/questions/6946376/how-to-reload-a-class-in-python-shell\n",
    "\n",
    "importlib.reload(classes_parsing)\n",
    "\n",
    "from classes_parsing import Dlinks\n",
    "\n",
    "classes_parsing.Dlinks.__doc__\n",
    "\n",
    "Dlinks.__doc__"
   ]
  },
  {
   "cell_type": "code",
   "execution_count": null,
   "metadata": {},
   "outputs": [],
   "source": []
  },
  {
   "cell_type": "code",
   "execution_count": null,
   "metadata": {},
   "outputs": [],
   "source": []
  },
  {
   "cell_type": "code",
   "execution_count": null,
   "metadata": {},
   "outputs": [],
   "source": []
  },
  {
   "cell_type": "code",
   "execution_count": null,
   "metadata": {},
   "outputs": [],
   "source": []
  },
  {
   "cell_type": "code",
   "execution_count": null,
   "metadata": {},
   "outputs": [],
   "source": []
  }
 ],
 "metadata": {
  "kernelspec": {
   "display_name": "Python 3",
   "language": "python",
   "name": "python3"
  },
  "language_info": {
   "codemirror_mode": {
    "name": "ipython",
    "version": 3
   },
   "file_extension": ".py",
   "mimetype": "text/x-python",
   "name": "python",
   "nbconvert_exporter": "python",
   "pygments_lexer": "ipython3",
   "version": "3.8.8"
  },
  "toc": {
   "base_numbering": 1,
   "nav_menu": {},
   "number_sections": true,
   "sideBar": true,
   "skip_h1_title": false,
   "title_cell": "Table of Contents",
   "title_sidebar": "Contents",
   "toc_cell": false,
   "toc_position": {
    "height": "calc(100% - 180px)",
    "left": "10px",
    "top": "150px",
    "width": "384px"
   },
   "toc_section_display": true,
   "toc_window_display": true
  }
 },
 "nbformat": 4,
 "nbformat_minor": 2
}
