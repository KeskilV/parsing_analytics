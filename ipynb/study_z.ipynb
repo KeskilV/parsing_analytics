{
 "cells": [
  {
   "cell_type": "markdown",
   "id": "129b17cc",
   "metadata": {},
   "source": [
    "# Для проверки и обучения"
   ]
  },
  {
   "cell_type": "markdown",
   "id": "fbaaac7c",
   "metadata": {},
   "source": [
    "## подготовка к Weekend Offer"
   ]
  },
  {
   "cell_type": "markdown",
   "id": "08d50631",
   "metadata": {},
   "source": [
    "A. Камни и украшения [тестовая задача]\n",
    "Ограничение времени\t1 секунда\n",
    "Ограничение памяти\t64Mb\n",
    "Ввод\tстандартный ввод или input.txt\n",
    "Вывод\tстандартный вывод или output.txt\n",
    "Даны две строки строчных латинских символов: строка J и строка S. Символы, входящие в строку J, — «драгоценности», входящие в строку S — «камни». Нужно определить, какое количество символов из S одновременно являются «драгоценностями». Проще говоря, нужно проверить, какое количество символов из S входит в J.\n",
    "Это разминочная задача, к которой мы размещаем готовые решения. Она очень простая и нужна для того, чтобы вы могли познакомиться с нашей автоматической системой проверки решений. Ввод и вывод осуществляется через файлы, либо через стандартные потоки ввода-вывода, как вам удобнее.\n",
    "Python: https://pastebin.com/d9xet5Xe. В качестве языка выбирайте Python 3.7.\n",
    "C++: https://pastebin.com/e5wMVV1u. Можно использовать GNU c++ 14 4.9.\n",
    "C#: https://pastebin.com/UZU4iCB0. Язык: Mono C# 5.2.0.\n",
    "Go: https://pastebin.com/vjVezxTg. Язык: gcc go.\n",
    "Java: https://pastebin.com/SbLfafuv. Подойдёт, например, язык Java 8.\n",
    "Kotlin: https://pastebin.com/Ruj3W2Er. Язык: Kotlin.\n",
    "Swift: https://pastebin.com/Jh5PPwM6. Язык: Swift 4.1.1.\n",
    "JavaScript: https://pastebin.com/B5YhwWFK. Язык: Node JS 8.9.4\n",
    "\n",
    "Формат ввода\n",
    "На двух первых строках входного файла содержатся две строки строчных латинских символов: строка J и строка S. Длина каждой не превосходит 100 символов.\n",
    "Формат вывода\n",
    "Выходной файл должен содержать единственное число — количество камней, являющихся драгоценностями."
   ]
  },
  {
   "cell_type": "code",
   "execution_count": null,
   "id": "d3d05009",
   "metadata": {},
   "outputs": [],
   "source": []
  }
 ],
 "metadata": {
  "kernelspec": {
   "display_name": "Python 3 (ipykernel)",
   "language": "python",
   "name": "python3"
  },
  "language_info": {
   "codemirror_mode": {
    "name": "ipython",
    "version": 3
   },
   "file_extension": ".py",
   "mimetype": "text/x-python",
   "name": "python",
   "nbconvert_exporter": "python",
   "pygments_lexer": "ipython3",
   "version": "3.9.7"
  },
  "toc": {
   "base_numbering": 1,
   "nav_menu": {},
   "number_sections": true,
   "sideBar": true,
   "skip_h1_title": false,
   "title_cell": "Table of Contents",
   "title_sidebar": "Contents",
   "toc_cell": false,
   "toc_position": {},
   "toc_section_display": true,
   "toc_window_display": false
  }
 },
 "nbformat": 4,
 "nbformat_minor": 5
}
